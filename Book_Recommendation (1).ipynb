{
  "cells": [
    {
      "cell_type": "code",
      "execution_count": null,
      "id": "f4b4a1ba",
      "metadata": {
        "id": "f4b4a1ba"
      },
      "outputs": [],
      "source": [
        "import numpy as np\n",
        "import pandas as pd\n",
        "\n",
        "import warnings\n",
        "warnings.filterwarnings('ignore')\n",
        "\n",
        "import matplotlib.pyplot as plt\n",
        "import seaborn as sns\n",
        "\n",
        "import re"
      ]
    },
    {
      "cell_type": "code",
      "execution_count": null,
      "id": "0efcdef4",
      "metadata": {
        "id": "0efcdef4"
      },
      "outputs": [],
      "source": [
        "books = pd.read_csv('Books.csv')\n",
        "Users = pd.read_csv('Users.csv')\n",
        "ratings = pd.read_csv('Ratings.csv')"
      ]
    },
    {
      "cell_type": "markdown",
      "id": "794bfbd8",
      "metadata": {
        "id": "794bfbd8"
      },
      "source": [
        "## Pre-Processing of given Datasets"
      ]
    },
    {
      "cell_type": "markdown",
      "id": "6141d9f1",
      "metadata": {
        "id": "6141d9f1"
      },
      "source": [
        "## Books Dataset"
      ]
    },
    {
      "cell_type": "code",
      "execution_count": null,
      "id": "49fcb0cc",
      "metadata": {
        "id": "49fcb0cc",
        "outputId": "4eda306b-aaad-400d-88fa-1338a704da87"
      },
      "outputs": [
        {
          "data": {
            "text/plain": [
              "(271360, 8)"
            ]
          },
          "execution_count": 3,
          "metadata": {},
          "output_type": "execute_result"
        }
      ],
      "source": [
        "books.shape"
      ]
    },
    {
      "cell_type": "code",
      "execution_count": null,
      "id": "8d3dbd39",
      "metadata": {
        "id": "8d3dbd39",
        "outputId": "155d6add-944f-4bde-b392-4c8a0ae6fa61"
      },
      "outputs": [
        {
          "name": "stdout",
          "output_type": "stream",
          "text": [
            "['ISBN', 'Book-Title', 'Book-Author', 'Year-Of-Publication', 'Publisher', 'Image-URL-S', 'Image-URL-M', 'Image-URL-L']\n"
          ]
        }
      ],
      "source": [
        "print(list(books.columns))"
      ]
    },
    {
      "cell_type": "code",
      "execution_count": null,
      "id": "8abb2b41",
      "metadata": {
        "id": "8abb2b41",
        "outputId": "9799964a-c2e0-4d4f-e422-4ef7fe8eb99e"
      },
      "outputs": [
        {
          "data": {
            "text/html": [
              "<div>\n",
              "<style scoped>\n",
              "    .dataframe tbody tr th:only-of-type {\n",
              "        vertical-align: middle;\n",
              "    }\n",
              "\n",
              "    .dataframe tbody tr th {\n",
              "        vertical-align: top;\n",
              "    }\n",
              "\n",
              "    .dataframe thead th {\n",
              "        text-align: right;\n",
              "    }\n",
              "</style>\n",
              "<table border=\"1\" class=\"dataframe\">\n",
              "  <thead>\n",
              "    <tr style=\"text-align: right;\">\n",
              "      <th></th>\n",
              "      <th>ISBN</th>\n",
              "      <th>Book-Title</th>\n",
              "      <th>Book-Author</th>\n",
              "      <th>Year-Of-Publication</th>\n",
              "      <th>Publisher</th>\n",
              "      <th>Image-URL-S</th>\n",
              "      <th>Image-URL-M</th>\n",
              "      <th>Image-URL-L</th>\n",
              "    </tr>\n",
              "  </thead>\n",
              "  <tbody>\n",
              "    <tr>\n",
              "      <th>0</th>\n",
              "      <td>0195153448</td>\n",
              "      <td>Classical Mythology</td>\n",
              "      <td>Mark P. O. Morford</td>\n",
              "      <td>2002</td>\n",
              "      <td>Oxford University Press</td>\n",
              "      <td>http://images.amazon.com/images/P/0195153448.0...</td>\n",
              "      <td>http://images.amazon.com/images/P/0195153448.0...</td>\n",
              "      <td>http://images.amazon.com/images/P/0195153448.0...</td>\n",
              "    </tr>\n",
              "    <tr>\n",
              "      <th>1</th>\n",
              "      <td>0002005018</td>\n",
              "      <td>Clara Callan</td>\n",
              "      <td>Richard Bruce Wright</td>\n",
              "      <td>2001</td>\n",
              "      <td>HarperFlamingo Canada</td>\n",
              "      <td>http://images.amazon.com/images/P/0002005018.0...</td>\n",
              "      <td>http://images.amazon.com/images/P/0002005018.0...</td>\n",
              "      <td>http://images.amazon.com/images/P/0002005018.0...</td>\n",
              "    </tr>\n",
              "    <tr>\n",
              "      <th>2</th>\n",
              "      <td>0060973129</td>\n",
              "      <td>Decision in Normandy</td>\n",
              "      <td>Carlo D'Este</td>\n",
              "      <td>1991</td>\n",
              "      <td>HarperPerennial</td>\n",
              "      <td>http://images.amazon.com/images/P/0060973129.0...</td>\n",
              "      <td>http://images.amazon.com/images/P/0060973129.0...</td>\n",
              "      <td>http://images.amazon.com/images/P/0060973129.0...</td>\n",
              "    </tr>\n",
              "    <tr>\n",
              "      <th>3</th>\n",
              "      <td>0374157065</td>\n",
              "      <td>Flu: The Story of the Great Influenza Pandemic...</td>\n",
              "      <td>Gina Bari Kolata</td>\n",
              "      <td>1999</td>\n",
              "      <td>Farrar Straus Giroux</td>\n",
              "      <td>http://images.amazon.com/images/P/0374157065.0...</td>\n",
              "      <td>http://images.amazon.com/images/P/0374157065.0...</td>\n",
              "      <td>http://images.amazon.com/images/P/0374157065.0...</td>\n",
              "    </tr>\n",
              "    <tr>\n",
              "      <th>4</th>\n",
              "      <td>0393045218</td>\n",
              "      <td>The Mummies of Urumchi</td>\n",
              "      <td>E. J. W. Barber</td>\n",
              "      <td>1999</td>\n",
              "      <td>W. W. Norton &amp;amp; Company</td>\n",
              "      <td>http://images.amazon.com/images/P/0393045218.0...</td>\n",
              "      <td>http://images.amazon.com/images/P/0393045218.0...</td>\n",
              "      <td>http://images.amazon.com/images/P/0393045218.0...</td>\n",
              "    </tr>\n",
              "  </tbody>\n",
              "</table>\n",
              "</div>"
            ],
            "text/plain": [
              "         ISBN                                         Book-Title  \\\n",
              "0  0195153448                                Classical Mythology   \n",
              "1  0002005018                                       Clara Callan   \n",
              "2  0060973129                               Decision in Normandy   \n",
              "3  0374157065  Flu: The Story of the Great Influenza Pandemic...   \n",
              "4  0393045218                             The Mummies of Urumchi   \n",
              "\n",
              "            Book-Author Year-Of-Publication                   Publisher  \\\n",
              "0    Mark P. O. Morford                2002     Oxford University Press   \n",
              "1  Richard Bruce Wright                2001       HarperFlamingo Canada   \n",
              "2          Carlo D'Este                1991             HarperPerennial   \n",
              "3      Gina Bari Kolata                1999        Farrar Straus Giroux   \n",
              "4       E. J. W. Barber                1999  W. W. Norton &amp; Company   \n",
              "\n",
              "                                         Image-URL-S  \\\n",
              "0  http://images.amazon.com/images/P/0195153448.0...   \n",
              "1  http://images.amazon.com/images/P/0002005018.0...   \n",
              "2  http://images.amazon.com/images/P/0060973129.0...   \n",
              "3  http://images.amazon.com/images/P/0374157065.0...   \n",
              "4  http://images.amazon.com/images/P/0393045218.0...   \n",
              "\n",
              "                                         Image-URL-M  \\\n",
              "0  http://images.amazon.com/images/P/0195153448.0...   \n",
              "1  http://images.amazon.com/images/P/0002005018.0...   \n",
              "2  http://images.amazon.com/images/P/0060973129.0...   \n",
              "3  http://images.amazon.com/images/P/0374157065.0...   \n",
              "4  http://images.amazon.com/images/P/0393045218.0...   \n",
              "\n",
              "                                         Image-URL-L  \n",
              "0  http://images.amazon.com/images/P/0195153448.0...  \n",
              "1  http://images.amazon.com/images/P/0002005018.0...  \n",
              "2  http://images.amazon.com/images/P/0060973129.0...  \n",
              "3  http://images.amazon.com/images/P/0374157065.0...  \n",
              "4  http://images.amazon.com/images/P/0393045218.0...  "
            ]
          },
          "execution_count": 5,
          "metadata": {},
          "output_type": "execute_result"
        }
      ],
      "source": [
        "books.head()"
      ]
    },
    {
      "cell_type": "code",
      "execution_count": null,
      "id": "94d0b9e6",
      "metadata": {
        "id": "94d0b9e6",
        "outputId": "24d198b4-da37-47a8-f8f9-ce04c9ef6402"
      },
      "outputs": [
        {
          "data": {
            "text/plain": [
              "ISBN                   object\n",
              "Book-Title             object\n",
              "Book-Author            object\n",
              "Year-Of-Publication    object\n",
              "Publisher              object\n",
              "Image-URL-S            object\n",
              "Image-URL-M            object\n",
              "Image-URL-L            object\n",
              "dtype: object"
            ]
          },
          "execution_count": 6,
          "metadata": {},
          "output_type": "execute_result"
        }
      ],
      "source": [
        "books.dtypes"
      ]
    },
    {
      "cell_type": "code",
      "execution_count": null,
      "id": "5ee960c4",
      "metadata": {
        "id": "5ee960c4",
        "outputId": "fb0ff7b8-89b8-4c98-a847-d7d938d87fb7"
      },
      "outputs": [
        {
          "data": {
            "text/plain": [
              "array([2002, 2001, 1991, 1999, 2000, 1993, 1996, 1988, 2004, 1998, 1994,\n",
              "       2003, 1997, 1983, 1979, 1995, 1982, 1985, 1992, 1986, 1978, 1980,\n",
              "       1952, 1987, 1990, 1981, 1989, 1984, 0, 1968, 1961, 1958, 1974,\n",
              "       1976, 1971, 1977, 1975, 1965, 1941, 1970, 1962, 1973, 1972, 1960,\n",
              "       1966, 1920, 1956, 1959, 1953, 1951, 1942, 1963, 1964, 1969, 1954,\n",
              "       1950, 1967, 2005, 1957, 1940, 1937, 1955, 1946, 1936, 1930, 2011,\n",
              "       1925, 1948, 1943, 1947, 1945, 1923, 2020, 1939, 1926, 1938, 2030,\n",
              "       1911, 1904, 1949, 1932, 1928, 1929, 1927, 1931, 1914, 2050, 1934,\n",
              "       1910, 1933, 1902, 1924, 1921, 1900, 2038, 2026, 1944, 1917, 1901,\n",
              "       2010, 1908, 1906, 1935, 1806, 2021, '2000', '1995', '1999', '2004',\n",
              "       '2003', '1990', '1994', '1986', '1989', '2002', '1981', '1993',\n",
              "       '1983', '1982', '1976', '1991', '1977', '1998', '1992', '1996',\n",
              "       '0', '1997', '2001', '1974', '1968', '1987', '1984', '1988',\n",
              "       '1963', '1956', '1970', '1985', '1978', '1973', '1980', '1979',\n",
              "       '1975', '1969', '1961', '1965', '1939', '1958', '1950', '1953',\n",
              "       '1966', '1971', '1959', '1972', '1955', '1957', '1945', '1960',\n",
              "       '1967', '1932', '1924', '1964', '2012', '1911', '1927', '1948',\n",
              "       '1962', '2006', '1952', '1940', '1951', '1931', '1954', '2005',\n",
              "       '1930', '1941', '1944', 'DK Publishing Inc', '1943', '1938',\n",
              "       '1900', '1942', '1923', '1920', '1933', 'Gallimard', '1909',\n",
              "       '1946', '2008', '1378', '2030', '1936', '1947', '2011', '2020',\n",
              "       '1919', '1949', '1922', '1897', '2024', '1376', '1926', '2037'],\n",
              "      dtype=object)"
            ]
          },
          "execution_count": 7,
          "metadata": {},
          "output_type": "execute_result"
        }
      ],
      "source": [
        "# some of the year of publication is replaced by names.\n",
        "\n",
        "books['Year-Of-Publication'].unique()"
      ]
    },
    {
      "cell_type": "code",
      "execution_count": null,
      "id": "ab03dd96",
      "metadata": {
        "id": "ab03dd96"
      },
      "outputs": [],
      "source": [
        "# Handling non_numeric values\n",
        "# Using errors=’coerce’. It will replace all non-numeric values with NaN\n",
        "\n",
        "books['Year-Of-Publication'] = pd.to_numeric(books['Year-Of-Publication'], errors = 'coerce')"
      ]
    },
    {
      "cell_type": "code",
      "execution_count": null,
      "id": "fc43cce8",
      "metadata": {
        "id": "fc43cce8",
        "outputId": "90a32f2a-5e9c-47b0-e2ee-d8aa7aaf739d"
      },
      "outputs": [
        {
          "name": "stdout",
          "output_type": "stream",
          "text": [
            "[0.0, 1376.0, 1378.0, 1806.0, 1897.0, 1900.0, 1901.0, 1902.0, 1904.0, 1906.0, 1908.0, 1909.0, 1910.0, 1911.0, 1914.0, 1917.0, 1919.0, 1920.0, 1921.0, 1922.0, 1923.0, 1924.0, 1925.0, 1926.0, 1927.0, 1928.0, 1929.0, 1930.0, 1931.0, 1932.0, 1933.0, 1934.0, 1935.0, 1936.0, 1937.0, 1938.0, 1939.0, 1940.0, 1941.0, 1942.0, 1943.0, 1944.0, 1945.0, 1946.0, 1947.0, 1948.0, 1949.0, 1950.0, 1951.0, 1952.0, 1953.0, 1954.0, 1955.0, 1956.0, 1957.0, 1958.0, 1959.0, 1960.0, 1961.0, 1962.0, 1963.0, 1964.0, 1965.0, 1966.0, 1967.0, 1968.0, 1969.0, 1970.0, 1971.0, 1972.0, 1973.0, 1974.0, 1975.0, 1976.0, 1977.0, 1978.0, 1979.0, 1980.0, 1981.0, 1982.0, 1983.0, 1984.0, 1985.0, 1986.0, 1987.0, 1988.0, 1989.0, 1990.0, 1991.0, 1992.0, 1993.0, 1994.0, 1995.0, 1996.0, 1997.0, 1998.0, 1999.0, 2000.0, 2001.0, 2002.0, 2003.0, 2004.0, 2005.0, 2006.0, 2008.0, 2010.0, 2011.0, 2012.0, 2020.0, 2021.0, 2024.0, 2026.0, 2030.0, 2037.0, 2038.0, 2050.0, nan]\n"
          ]
        }
      ],
      "source": [
        "print(sorted(books['Year-Of-Publication'].unique()))"
      ]
    },
    {
      "cell_type": "code",
      "execution_count": null,
      "id": "63d6df5e",
      "metadata": {
        "id": "63d6df5e"
      },
      "outputs": [],
      "source": [
        "# Filtering invalid year of publications\n",
        "\n",
        "books.loc[(books['Year-Of-Publication'] > 2021) | (books['Year-Of-Publication'] == 0), 'Year-Of-Publication'] = np.NAN"
      ]
    },
    {
      "cell_type": "code",
      "execution_count": null,
      "id": "4f3a880c",
      "metadata": {
        "id": "4f3a880c"
      },
      "outputs": [],
      "source": [
        "# Filling NAN values with mean.\n",
        "\n",
        "books['Year-Of-Publication'].fillna(round(books['Year-Of-Publication'].mean()), inplace = True)"
      ]
    },
    {
      "cell_type": "code",
      "execution_count": null,
      "id": "8572fe7a",
      "metadata": {
        "id": "8572fe7a"
      },
      "outputs": [],
      "source": [
        "# Converting dtypes of values into int32\n",
        "\n",
        "books['Year-Of-Publication'] = books['Year-Of-Publication'].astype(np.int32)"
      ]
    },
    {
      "cell_type": "code",
      "execution_count": null,
      "id": "38608f19",
      "metadata": {
        "id": "38608f19",
        "outputId": "5d79a2b9-0f48-4951-a3cb-3814fd120dbc"
      },
      "outputs": [
        {
          "data": {
            "text/plain": [
              "array([2002, 2001, 1991, 1999, 2000, 1993, 1996, 1988, 2004, 1998, 1994,\n",
              "       2003, 1997, 1983, 1979, 1995, 1982, 1985, 1992, 1986, 1978, 1980,\n",
              "       1952, 1987, 1990, 1981, 1989, 1984, 1968, 1961, 1958, 1974, 1976,\n",
              "       1971, 1977, 1975, 1965, 1941, 1970, 1962, 1973, 1972, 1960, 1966,\n",
              "       1920, 1956, 1959, 1953, 1951, 1942, 1963, 1964, 1969, 1954, 1950,\n",
              "       1967, 2005, 1957, 1940, 1937, 1955, 1946, 1936, 1930, 2011, 1925,\n",
              "       1948, 1943, 1947, 1945, 1923, 2020, 1939, 1926, 1938, 1911, 1904,\n",
              "       1949, 1932, 1928, 1929, 1927, 1931, 1914, 1934, 1910, 1933, 1902,\n",
              "       1924, 1921, 1900, 1944, 1917, 1901, 2010, 1908, 1906, 1935, 1806,\n",
              "       2021, 2012, 2006, 1909, 2008, 1378, 1919, 1922, 1897, 1376])"
            ]
          },
          "execution_count": 13,
          "metadata": {},
          "output_type": "execute_result"
        }
      ],
      "source": [
        "books['Year-Of-Publication'].unique()"
      ]
    },
    {
      "cell_type": "markdown",
      "id": "48f7179c",
      "metadata": {
        "id": "48f7179c"
      },
      "source": [
        "## User Dataset"
      ]
    },
    {
      "cell_type": "code",
      "execution_count": null,
      "id": "fc6f7abd",
      "metadata": {
        "id": "fc6f7abd",
        "outputId": "eac3dbcf-c18b-437d-fa27-42cfc1482987"
      },
      "outputs": [
        {
          "data": {
            "text/plain": [
              "(278858, 3)"
            ]
          },
          "execution_count": 14,
          "metadata": {},
          "output_type": "execute_result"
        }
      ],
      "source": [
        "Users.shape"
      ]
    },
    {
      "cell_type": "code",
      "execution_count": null,
      "id": "c34986b8",
      "metadata": {
        "id": "c34986b8",
        "outputId": "c7a3229d-fd07-4c49-cd1a-8869e99ffe86"
      },
      "outputs": [
        {
          "data": {
            "text/html": [
              "<div>\n",
              "<style scoped>\n",
              "    .dataframe tbody tr th:only-of-type {\n",
              "        vertical-align: middle;\n",
              "    }\n",
              "\n",
              "    .dataframe tbody tr th {\n",
              "        vertical-align: top;\n",
              "    }\n",
              "\n",
              "    .dataframe thead th {\n",
              "        text-align: right;\n",
              "    }\n",
              "</style>\n",
              "<table border=\"1\" class=\"dataframe\">\n",
              "  <thead>\n",
              "    <tr style=\"text-align: right;\">\n",
              "      <th></th>\n",
              "      <th>User-ID</th>\n",
              "      <th>Location</th>\n",
              "      <th>Age</th>\n",
              "    </tr>\n",
              "  </thead>\n",
              "  <tbody>\n",
              "    <tr>\n",
              "      <th>0</th>\n",
              "      <td>1</td>\n",
              "      <td>nyc, new york, usa</td>\n",
              "      <td>NaN</td>\n",
              "    </tr>\n",
              "    <tr>\n",
              "      <th>1</th>\n",
              "      <td>2</td>\n",
              "      <td>stockton, california, usa</td>\n",
              "      <td>18.0</td>\n",
              "    </tr>\n",
              "    <tr>\n",
              "      <th>2</th>\n",
              "      <td>3</td>\n",
              "      <td>moscow, yukon territory, russia</td>\n",
              "      <td>NaN</td>\n",
              "    </tr>\n",
              "    <tr>\n",
              "      <th>3</th>\n",
              "      <td>4</td>\n",
              "      <td>porto, v.n.gaia, portugal</td>\n",
              "      <td>17.0</td>\n",
              "    </tr>\n",
              "    <tr>\n",
              "      <th>4</th>\n",
              "      <td>5</td>\n",
              "      <td>farnborough, hants, united kingdom</td>\n",
              "      <td>NaN</td>\n",
              "    </tr>\n",
              "  </tbody>\n",
              "</table>\n",
              "</div>"
            ],
            "text/plain": [
              "   User-ID                            Location   Age\n",
              "0        1                  nyc, new york, usa   NaN\n",
              "1        2           stockton, california, usa  18.0\n",
              "2        3     moscow, yukon territory, russia   NaN\n",
              "3        4           porto, v.n.gaia, portugal  17.0\n",
              "4        5  farnborough, hants, united kingdom   NaN"
            ]
          },
          "execution_count": 15,
          "metadata": {},
          "output_type": "execute_result"
        }
      ],
      "source": [
        "Users.head()"
      ]
    },
    {
      "cell_type": "code",
      "execution_count": null,
      "id": "e2273302",
      "metadata": {
        "id": "e2273302",
        "outputId": "ccb1ee9f-6c63-4762-ad8f-3681e9862b9d"
      },
      "outputs": [
        {
          "data": {
            "text/plain": [
              "User-ID       int64\n",
              "Location     object\n",
              "Age         float64\n",
              "dtype: object"
            ]
          },
          "execution_count": 16,
          "metadata": {},
          "output_type": "execute_result"
        }
      ],
      "source": [
        "Users.dtypes"
      ]
    },
    {
      "cell_type": "code",
      "execution_count": null,
      "id": "f452cbfd",
      "metadata": {
        "id": "f452cbfd",
        "outputId": "568b5c65-f8d1-48a2-d445-9e8e75353961"
      },
      "outputs": [
        {
          "name": "stdout",
          "output_type": "stream",
          "text": [
            "[nan, 0.0, 1.0, 2.0, 3.0, 4.0, 5.0, 6.0, 7.0, 8.0, 9.0, 10.0, 11.0, 12.0, 13.0, 14.0, 15.0, 16.0, 17.0, 18.0, 19.0, 20.0, 21.0, 22.0, 23.0, 24.0, 25.0, 26.0, 27.0, 28.0, 29.0, 30.0, 31.0, 32.0, 33.0, 34.0, 35.0, 36.0, 37.0, 38.0, 39.0, 40.0, 41.0, 42.0, 43.0, 44.0, 45.0, 46.0, 47.0, 48.0, 49.0, 50.0, 51.0, 52.0, 53.0, 54.0, 55.0, 56.0, 57.0, 58.0, 59.0, 60.0, 61.0, 62.0, 63.0, 64.0, 65.0, 66.0, 67.0, 68.0, 69.0, 70.0, 71.0, 72.0, 73.0, 74.0, 75.0, 76.0, 77.0, 78.0, 79.0, 80.0, 81.0, 82.0, 83.0, 84.0, 85.0, 86.0, 87.0, 88.0, 89.0, 90.0, 91.0, 92.0, 93.0, 94.0, 95.0, 96.0, 97.0, 98.0, 99.0, 100.0, 101.0, 102.0, 103.0, 104.0, 105.0, 106.0, 107.0, 108.0, 109.0, 110.0, 111.0, 113.0, 114.0, 115.0, 116.0, 118.0, 119.0, 123.0, 124.0, 127.0, 128.0, 132.0, 133.0, 136.0, 137.0, 138.0, 140.0, 141.0, 143.0, 146.0, 147.0, 148.0, 151.0, 152.0, 156.0, 157.0, 159.0, 162.0, 168.0, 172.0, 175.0, 183.0, 186.0, 189.0, 199.0, 200.0, 201.0, 204.0, 207.0, 208.0, 209.0, 210.0, 212.0, 219.0, 220.0, 223.0, 226.0, 228.0, 229.0, 230.0, 231.0, 237.0, 239.0, 244.0]\n"
          ]
        }
      ],
      "source": [
        "# age ranges from 0 to 244 for user.\n",
        "\n",
        "print(sorted(Users['Age'].unique()))"
      ]
    },
    {
      "cell_type": "code",
      "execution_count": null,
      "id": "110daf7e",
      "metadata": {
        "id": "110daf7e"
      },
      "outputs": [],
      "source": [
        "# Filtering the age of user\n",
        "\n",
        "Users.loc[(Users['Age'] > 95) | (Users['Age'] < 5), 'Age'] = np.NAN"
      ]
    },
    {
      "cell_type": "code",
      "execution_count": null,
      "id": "cd6d8d77",
      "metadata": {
        "id": "cd6d8d77"
      },
      "outputs": [],
      "source": [
        "# Filling NAN values with mean.\n",
        "\n",
        "Users['Age'] = Users['Age'].fillna(Users['Age'].mean())"
      ]
    },
    {
      "cell_type": "code",
      "execution_count": null,
      "id": "e588504a",
      "metadata": {
        "id": "e588504a"
      },
      "outputs": [],
      "source": [
        "# Converting dtypes of values into int32\n",
        "\n",
        "Users['Age'] = Users['Age'].astype(np.int32)"
      ]
    },
    {
      "cell_type": "code",
      "execution_count": null,
      "id": "3e98ad96",
      "metadata": {
        "id": "3e98ad96",
        "outputId": "f833a043-baca-49da-c881-d9c8715cc5f9"
      },
      "outputs": [
        {
          "name": "stdout",
          "output_type": "stream",
          "text": [
            "[5, 6, 7, 8, 9, 10, 11, 12, 13, 14, 15, 16, 17, 18, 19, 20, 21, 22, 23, 24, 25, 26, 27, 28, 29, 30, 31, 32, 33, 34, 35, 36, 37, 38, 39, 40, 41, 42, 43, 44, 45, 46, 47, 48, 49, 50, 51, 52, 53, 54, 55, 56, 57, 58, 59, 60, 61, 62, 63, 64, 65, 66, 67, 68, 69, 70, 71, 72, 73, 74, 75, 76, 77, 78, 79, 80, 81, 82, 83, 84, 85, 86, 87, 88, 89, 90, 91, 92, 93, 94, 95]\n"
          ]
        }
      ],
      "source": [
        "print(sorted(Users['Age'].unique()))"
      ]
    },
    {
      "cell_type": "markdown",
      "id": "32b56624",
      "metadata": {
        "id": "32b56624"
      },
      "source": [
        "## Ratings Dataset"
      ]
    },
    {
      "cell_type": "code",
      "execution_count": null,
      "id": "1e94c9be",
      "metadata": {
        "id": "1e94c9be",
        "outputId": "587bb76d-8a19-4c32-e582-1383890caf7a"
      },
      "outputs": [
        {
          "data": {
            "text/plain": [
              "(1149780, 3)"
            ]
          },
          "execution_count": 22,
          "metadata": {},
          "output_type": "execute_result"
        }
      ],
      "source": [
        "ratings.shape"
      ]
    },
    {
      "cell_type": "code",
      "execution_count": null,
      "id": "8a0d2f8b",
      "metadata": {
        "id": "8a0d2f8b",
        "outputId": "256cb5c4-4be8-4a77-9ce3-ca601fcdf535"
      },
      "outputs": [
        {
          "data": {
            "text/html": [
              "<div>\n",
              "<style scoped>\n",
              "    .dataframe tbody tr th:only-of-type {\n",
              "        vertical-align: middle;\n",
              "    }\n",
              "\n",
              "    .dataframe tbody tr th {\n",
              "        vertical-align: top;\n",
              "    }\n",
              "\n",
              "    .dataframe thead th {\n",
              "        text-align: right;\n",
              "    }\n",
              "</style>\n",
              "<table border=\"1\" class=\"dataframe\">\n",
              "  <thead>\n",
              "    <tr style=\"text-align: right;\">\n",
              "      <th></th>\n",
              "      <th>User-ID</th>\n",
              "      <th>ISBN</th>\n",
              "      <th>Book-Rating</th>\n",
              "    </tr>\n",
              "  </thead>\n",
              "  <tbody>\n",
              "    <tr>\n",
              "      <th>0</th>\n",
              "      <td>276725</td>\n",
              "      <td>034545104X</td>\n",
              "      <td>0</td>\n",
              "    </tr>\n",
              "    <tr>\n",
              "      <th>1</th>\n",
              "      <td>276726</td>\n",
              "      <td>0155061224</td>\n",
              "      <td>5</td>\n",
              "    </tr>\n",
              "    <tr>\n",
              "      <th>2</th>\n",
              "      <td>276727</td>\n",
              "      <td>0446520802</td>\n",
              "      <td>0</td>\n",
              "    </tr>\n",
              "    <tr>\n",
              "      <th>3</th>\n",
              "      <td>276729</td>\n",
              "      <td>052165615X</td>\n",
              "      <td>3</td>\n",
              "    </tr>\n",
              "    <tr>\n",
              "      <th>4</th>\n",
              "      <td>276729</td>\n",
              "      <td>0521795028</td>\n",
              "      <td>6</td>\n",
              "    </tr>\n",
              "  </tbody>\n",
              "</table>\n",
              "</div>"
            ],
            "text/plain": [
              "   User-ID        ISBN  Book-Rating\n",
              "0   276725  034545104X            0\n",
              "1   276726  0155061224            5\n",
              "2   276727  0446520802            0\n",
              "3   276729  052165615X            3\n",
              "4   276729  0521795028            6"
            ]
          },
          "execution_count": 23,
          "metadata": {},
          "output_type": "execute_result"
        }
      ],
      "source": [
        "ratings.head()"
      ]
    },
    {
      "cell_type": "code",
      "execution_count": null,
      "id": "30e61430",
      "metadata": {
        "id": "30e61430",
        "outputId": "dd0e7796-6a94-4bbd-b8cf-a4178a496aa9"
      },
      "outputs": [
        {
          "data": {
            "text/plain": [
              "[0, 1, 2, 3, 4, 5, 6, 7, 8, 9, 10]"
            ]
          },
          "execution_count": 24,
          "metadata": {},
          "output_type": "execute_result"
        }
      ],
      "source": [
        "sorted(ratings['Book-Rating'].unique())"
      ]
    },
    {
      "cell_type": "code",
      "execution_count": null,
      "id": "b2dafdf8",
      "metadata": {
        "id": "b2dafdf8",
        "outputId": "d6803291-2e26-4e49-c814-90bfbc345111"
      },
      "outputs": [
        {
          "data": {
            "image/png": "[encoded data removed]",
            "text/plain": [
              "<Figure size 432x288 with 1 Axes>"
            ]
          },
          "metadata": {
            "needs_background": "light"
          },
          "output_type": "display_data"
        }
      ],
      "source": [
        "# visualizing the distributions of ratings\n",
        "\n",
        "df = pd.DataFrame(ratings['Book-Rating'])\n",
        "\n",
        "sns.countplot(data = df, x = 'Book-Rating' )\n",
        "plt.title('Distribution of Ratings')\n",
        "plt.show()"
      ]
    },
    {
      "cell_type": "code",
      "execution_count": null,
      "id": "13da9a33",
      "metadata": {
        "id": "13da9a33"
      },
      "outputs": [],
      "source": [
        "# creating a new dataframe by combining ratings and books dataframe by 'ISBN'\n",
        "\n",
        "new_ratings = ratings[ratings['ISBN'].isin(books['ISBN'])]"
      ]
    },
    {
      "cell_type": "code",
      "execution_count": null,
      "id": "02cacbb9",
      "metadata": {
        "id": "02cacbb9",
        "outputId": "3fa76dc8-a0d8-47e9-afb3-5167c6e7e2ef"
      },
      "outputs": [
        {
          "data": {
            "text/html": [
              "<div>\n",
              "<style scoped>\n",
              "    .dataframe tbody tr th:only-of-type {\n",
              "        vertical-align: middle;\n",
              "    }\n",
              "\n",
              "    .dataframe tbody tr th {\n",
              "        vertical-align: top;\n",
              "    }\n",
              "\n",
              "    .dataframe thead th {\n",
              "        text-align: right;\n",
              "    }\n",
              "</style>\n",
              "<table border=\"1\" class=\"dataframe\">\n",
              "  <thead>\n",
              "    <tr style=\"text-align: right;\">\n",
              "      <th></th>\n",
              "      <th>User-ID</th>\n",
              "      <th>ISBN</th>\n",
              "      <th>Book-Rating</th>\n",
              "    </tr>\n",
              "  </thead>\n",
              "  <tbody>\n",
              "    <tr>\n",
              "      <th>0</th>\n",
              "      <td>276725</td>\n",
              "      <td>034545104X</td>\n",
              "      <td>0</td>\n",
              "    </tr>\n",
              "    <tr>\n",
              "      <th>1</th>\n",
              "      <td>276726</td>\n",
              "      <td>0155061224</td>\n",
              "      <td>5</td>\n",
              "    </tr>\n",
              "    <tr>\n",
              "      <th>2</th>\n",
              "      <td>276727</td>\n",
              "      <td>0446520802</td>\n",
              "      <td>0</td>\n",
              "    </tr>\n",
              "    <tr>\n",
              "      <th>3</th>\n",
              "      <td>276729</td>\n",
              "      <td>052165615X</td>\n",
              "      <td>3</td>\n",
              "    </tr>\n",
              "    <tr>\n",
              "      <th>4</th>\n",
              "      <td>276729</td>\n",
              "      <td>0521795028</td>\n",
              "      <td>6</td>\n",
              "    </tr>\n",
              "  </tbody>\n",
              "</table>\n",
              "</div>"
            ],
            "text/plain": [
              "   User-ID        ISBN  Book-Rating\n",
              "0   276725  034545104X            0\n",
              "1   276726  0155061224            5\n",
              "2   276727  0446520802            0\n",
              "3   276729  052165615X            3\n",
              "4   276729  0521795028            6"
            ]
          },
          "execution_count": 27,
          "metadata": {},
          "output_type": "execute_result"
        }
      ],
      "source": [
        "new_ratings.head()"
      ]
    },
    {
      "cell_type": "code",
      "execution_count": null,
      "id": "d5428e81",
      "metadata": {
        "id": "d5428e81",
        "outputId": "fbbde71a-5990-43e2-96ff-440280eec24b"
      },
      "outputs": [
        {
          "data": {
            "text/plain": [
              "(1031136, 3)"
            ]
          },
          "execution_count": 28,
          "metadata": {},
          "output_type": "execute_result"
        }
      ],
      "source": [
        "new_ratings.shape"
      ]
    },
    {
      "cell_type": "code",
      "execution_count": null,
      "id": "c1004c09",
      "metadata": {
        "id": "c1004c09"
      },
      "outputs": [],
      "source": [
        "# Creating a valid ratings dataframe\n",
        "\n",
        "valid_ratings = new_ratings[new_ratings['Book-Rating'] != 0]"
      ]
    },
    {
      "cell_type": "code",
      "execution_count": null,
      "id": "ad7b08ea",
      "metadata": {
        "id": "ad7b08ea"
      },
      "outputs": [],
      "source": [
        "# creating a new dataframe by combining users and valid_ratings dataframe by 'user-id'\n",
        "\n",
        "user_ratings = Users[Users['User-ID'].isin(valid_ratings['User-ID'])]"
      ]
    },
    {
      "cell_type": "code",
      "execution_count": null,
      "id": "c09abb95",
      "metadata": {
        "id": "c09abb95",
        "outputId": "62fb28cb-cbb7-4757-9466-307e61576fdc"
      },
      "outputs": [
        {
          "data": {
            "image/png": "[encoded data removed]",
            "text/plain": [
              "<Figure size 432x288 with 1 Axes>"
            ]
          },
          "metadata": {
            "needs_background": "light"
          },
          "output_type": "display_data"
        }
      ],
      "source": [
        "# Visualzing valid ratings i.e except zero rating\n",
        "\n",
        "sns.countplot(data = valid_ratings, x = 'Book-Rating' )\n",
        "plt.title('Distribution of Ratings')\n",
        "plt.show()"
      ]
    },
    {
      "cell_type": "code",
      "execution_count": null,
      "id": "5bcc4718",
      "metadata": {
        "id": "5bcc4718"
      },
      "outputs": [],
      "source": [
        ""
      ]
    },
    {
      "cell_type": "markdown",
      "id": "bfcb8aea",
      "metadata": {
        "id": "bfcb8aea"
      },
      "source": [
        "## Collaborative Filtering by K - Nearest Neighbours\n",
        "\n",
        "kNN is a machine learning algorithm used to find clusters of similar kind based on similar book ratings and make predictions using the average rating of top-k nearest neighbors."
      ]
    },
    {
      "cell_type": "code",
      "execution_count": null,
      "id": "97d5b8bc",
      "metadata": {
        "id": "97d5b8bc"
      },
      "outputs": [],
      "source": [
        "# Creating dataframe by merging ratings, books dataframe by 'ISBN'\n",
        "\n",
        "book_rating = pd.merge(ratings, books, on = 'ISBN')\n",
        "dropping_columns = ['Book-Author', 'Year-Of-Publication', 'Publisher', 'Image-URL-S', 'Image-URL-M', 'Image-URL-L']\n",
        "book_rating = book_rating.drop(dropping_columns, axis = 1)\n",
        "\n",
        "# Keeping columns 'user-id','ISBN', 'Book-Rating', 'Book-Title' "
      ]
    },
    {
      "cell_type": "code",
      "execution_count": null,
      "id": "74fb937e",
      "metadata": {
        "id": "74fb937e",
        "outputId": "094993bc-47f5-496c-c4cc-13542b2606f9"
      },
      "outputs": [
        {
          "data": {
            "text/html": [
              "<div>\n",
              "<style scoped>\n",
              "    .dataframe tbody tr th:only-of-type {\n",
              "        vertical-align: middle;\n",
              "    }\n",
              "\n",
              "    .dataframe tbody tr th {\n",
              "        vertical-align: top;\n",
              "    }\n",
              "\n",
              "    .dataframe thead th {\n",
              "        text-align: right;\n",
              "    }\n",
              "</style>\n",
              "<table border=\"1\" class=\"dataframe\">\n",
              "  <thead>\n",
              "    <tr style=\"text-align: right;\">\n",
              "      <th></th>\n",
              "      <th>User-ID</th>\n",
              "      <th>ISBN</th>\n",
              "      <th>Book-Rating</th>\n",
              "      <th>Book-Title</th>\n",
              "    </tr>\n",
              "  </thead>\n",
              "  <tbody>\n",
              "    <tr>\n",
              "      <th>0</th>\n",
              "      <td>276725</td>\n",
              "      <td>034545104X</td>\n",
              "      <td>0</td>\n",
              "      <td>Flesh Tones: A Novel</td>\n",
              "    </tr>\n",
              "    <tr>\n",
              "      <th>1</th>\n",
              "      <td>2313</td>\n",
              "      <td>034545104X</td>\n",
              "      <td>5</td>\n",
              "      <td>Flesh Tones: A Novel</td>\n",
              "    </tr>\n",
              "    <tr>\n",
              "      <th>2</th>\n",
              "      <td>6543</td>\n",
              "      <td>034545104X</td>\n",
              "      <td>0</td>\n",
              "      <td>Flesh Tones: A Novel</td>\n",
              "    </tr>\n",
              "    <tr>\n",
              "      <th>3</th>\n",
              "      <td>8680</td>\n",
              "      <td>034545104X</td>\n",
              "      <td>5</td>\n",
              "      <td>Flesh Tones: A Novel</td>\n",
              "    </tr>\n",
              "    <tr>\n",
              "      <th>4</th>\n",
              "      <td>10314</td>\n",
              "      <td>034545104X</td>\n",
              "      <td>9</td>\n",
              "      <td>Flesh Tones: A Novel</td>\n",
              "    </tr>\n",
              "  </tbody>\n",
              "</table>\n",
              "</div>"
            ],
            "text/plain": [
              "   User-ID        ISBN  Book-Rating            Book-Title\n",
              "0   276725  034545104X            0  Flesh Tones: A Novel\n",
              "1     2313  034545104X            5  Flesh Tones: A Novel\n",
              "2     6543  034545104X            0  Flesh Tones: A Novel\n",
              "3     8680  034545104X            5  Flesh Tones: A Novel\n",
              "4    10314  034545104X            9  Flesh Tones: A Novel"
            ]
          },
          "execution_count": 33,
          "metadata": {},
          "output_type": "execute_result"
        }
      ],
      "source": [
        "book_rating.head()"
      ]
    },
    {
      "cell_type": "code",
      "execution_count": null,
      "id": "41840d4b",
      "metadata": {
        "id": "41840d4b"
      },
      "outputs": [],
      "source": [
        "# Dropping rows with null values\n",
        "\n",
        "book_rating = book_rating.dropna(axis = 0, subset = ['Book-Title'])"
      ]
    },
    {
      "cell_type": "code",
      "execution_count": null,
      "id": "c8df88c3",
      "metadata": {
        "id": "c8df88c3"
      },
      "outputs": [],
      "source": [
        "# Creating a new column 'Total Rating Count' by grouping by book titles and ratings\n",
        "\n",
        "book_rating_count = (book_rating.groupby(by = ['Book-Title'])['Book-Rating'].count().\n",
        "                     reset_index().rename(columns = {'Book-Rating' : 'Total_Rating_Count'})\n",
        "                     [['Book-Title','Total_Rating_Count']]\n",
        "                    )"
      ]
    },
    {
      "cell_type": "code",
      "execution_count": null,
      "id": "be6f3785",
      "metadata": {
        "id": "be6f3785",
        "outputId": "9bc63508-bf2d-4045-ef34-dfd41c1607da"
      },
      "outputs": [
        {
          "data": {
            "text/html": [
              "<div>\n",
              "<style scoped>\n",
              "    .dataframe tbody tr th:only-of-type {\n",
              "        vertical-align: middle;\n",
              "    }\n",
              "\n",
              "    .dataframe tbody tr th {\n",
              "        vertical-align: top;\n",
              "    }\n",
              "\n",
              "    .dataframe thead th {\n",
              "        text-align: right;\n",
              "    }\n",
              "</style>\n",
              "<table border=\"1\" class=\"dataframe\">\n",
              "  <thead>\n",
              "    <tr style=\"text-align: right;\">\n",
              "      <th></th>\n",
              "      <th>Book-Title</th>\n",
              "      <th>Total_Rating_Count</th>\n",
              "    </tr>\n",
              "  </thead>\n",
              "  <tbody>\n",
              "    <tr>\n",
              "      <th>0</th>\n",
              "      <td>A Light in the Storm: The Civil War Diary of ...</td>\n",
              "      <td>4</td>\n",
              "    </tr>\n",
              "    <tr>\n",
              "      <th>1</th>\n",
              "      <td>Always Have Popsicles</td>\n",
              "      <td>1</td>\n",
              "    </tr>\n",
              "    <tr>\n",
              "      <th>2</th>\n",
              "      <td>Apple Magic (The Collector's series)</td>\n",
              "      <td>1</td>\n",
              "    </tr>\n",
              "    <tr>\n",
              "      <th>3</th>\n",
              "      <td>Ask Lily (Young Women of Faith: Lily Series, ...</td>\n",
              "      <td>1</td>\n",
              "    </tr>\n",
              "    <tr>\n",
              "      <th>4</th>\n",
              "      <td>Beyond IBM: Leadership Marketing and Finance ...</td>\n",
              "      <td>1</td>\n",
              "    </tr>\n",
              "  </tbody>\n",
              "</table>\n",
              "</div>"
            ],
            "text/plain": [
              "                                          Book-Title  Total_Rating_Count\n",
              "0   A Light in the Storm: The Civil War Diary of ...                   4\n",
              "1                              Always Have Popsicles                   1\n",
              "2               Apple Magic (The Collector's series)                   1\n",
              "3   Ask Lily (Young Women of Faith: Lily Series, ...                   1\n",
              "4   Beyond IBM: Leadership Marketing and Finance ...                   1"
            ]
          },
          "execution_count": 36,
          "metadata": {},
          "output_type": "execute_result"
        }
      ],
      "source": [
        "book_rating_count.head()"
      ]
    },
    {
      "cell_type": "code",
      "execution_count": null,
      "id": "9817df9c",
      "metadata": {
        "id": "9817df9c"
      },
      "outputs": [],
      "source": [
        "# merging 'book-rating' & 'book-rating-count' dataframe for considering only popular books\n",
        "\n",
        "modified_data = book_rating.merge(book_rating_count, left_on = 'Book-Title', right_on = 'Book-Title', how = 'left' )"
      ]
    },
    {
      "cell_type": "code",
      "execution_count": null,
      "id": "22796083",
      "metadata": {
        "id": "22796083",
        "outputId": "3e8fcb56-513b-401e-de14-f27c4279fe23"
      },
      "outputs": [
        {
          "data": {
            "text/html": [
              "<div>\n",
              "<style scoped>\n",
              "    .dataframe tbody tr th:only-of-type {\n",
              "        vertical-align: middle;\n",
              "    }\n",
              "\n",
              "    .dataframe tbody tr th {\n",
              "        vertical-align: top;\n",
              "    }\n",
              "\n",
              "    .dataframe thead th {\n",
              "        text-align: right;\n",
              "    }\n",
              "</style>\n",
              "<table border=\"1\" class=\"dataframe\">\n",
              "  <thead>\n",
              "    <tr style=\"text-align: right;\">\n",
              "      <th></th>\n",
              "      <th>User-ID</th>\n",
              "      <th>ISBN</th>\n",
              "      <th>Book-Rating</th>\n",
              "      <th>Book-Title</th>\n",
              "      <th>Total_Rating_Count</th>\n",
              "    </tr>\n",
              "  </thead>\n",
              "  <tbody>\n",
              "    <tr>\n",
              "      <th>0</th>\n",
              "      <td>276725</td>\n",
              "      <td>034545104X</td>\n",
              "      <td>0</td>\n",
              "      <td>Flesh Tones: A Novel</td>\n",
              "      <td>60</td>\n",
              "    </tr>\n",
              "    <tr>\n",
              "      <th>1</th>\n",
              "      <td>2313</td>\n",
              "      <td>034545104X</td>\n",
              "      <td>5</td>\n",
              "      <td>Flesh Tones: A Novel</td>\n",
              "      <td>60</td>\n",
              "    </tr>\n",
              "    <tr>\n",
              "      <th>2</th>\n",
              "      <td>6543</td>\n",
              "      <td>034545104X</td>\n",
              "      <td>0</td>\n",
              "      <td>Flesh Tones: A Novel</td>\n",
              "      <td>60</td>\n",
              "    </tr>\n",
              "    <tr>\n",
              "      <th>3</th>\n",
              "      <td>8680</td>\n",
              "      <td>034545104X</td>\n",
              "      <td>5</td>\n",
              "      <td>Flesh Tones: A Novel</td>\n",
              "      <td>60</td>\n",
              "    </tr>\n",
              "    <tr>\n",
              "      <th>4</th>\n",
              "      <td>10314</td>\n",
              "      <td>034545104X</td>\n",
              "      <td>9</td>\n",
              "      <td>Flesh Tones: A Novel</td>\n",
              "      <td>60</td>\n",
              "    </tr>\n",
              "  </tbody>\n",
              "</table>\n",
              "</div>"
            ],
            "text/plain": [
              "   User-ID        ISBN  Book-Rating            Book-Title  Total_Rating_Count\n",
              "0   276725  034545104X            0  Flesh Tones: A Novel                  60\n",
              "1     2313  034545104X            5  Flesh Tones: A Novel                  60\n",
              "2     6543  034545104X            0  Flesh Tones: A Novel                  60\n",
              "3     8680  034545104X            5  Flesh Tones: A Novel                  60\n",
              "4    10314  034545104X            9  Flesh Tones: A Novel                  60"
            ]
          },
          "execution_count": 38,
          "metadata": {},
          "output_type": "execute_result"
        }
      ],
      "source": [
        "modified_data.head()"
      ]
    },
    {
      "cell_type": "code",
      "execution_count": null,
      "id": "5b96cd51",
      "metadata": {
        "id": "5b96cd51"
      },
      "outputs": [],
      "source": [
        "# considering books having minimum total ratings above 100\n",
        "\n",
        "threshold = 100\n",
        "popular_books = modified_data.query('Total_Rating_Count >= @threshold')"
      ]
    },
    {
      "cell_type": "code",
      "execution_count": null,
      "id": "9696440a",
      "metadata": {
        "id": "9696440a",
        "outputId": "d93b2df7-b84d-4055-a513-5951bd48eed7"
      },
      "outputs": [
        {
          "data": {
            "text/html": [
              "<div>\n",
              "<style scoped>\n",
              "    .dataframe tbody tr th:only-of-type {\n",
              "        vertical-align: middle;\n",
              "    }\n",
              "\n",
              "    .dataframe tbody tr th {\n",
              "        vertical-align: top;\n",
              "    }\n",
              "\n",
              "    .dataframe thead th {\n",
              "        text-align: right;\n",
              "    }\n",
              "</style>\n",
              "<table border=\"1\" class=\"dataframe\">\n",
              "  <thead>\n",
              "    <tr style=\"text-align: right;\">\n",
              "      <th></th>\n",
              "      <th>User-ID</th>\n",
              "      <th>ISBN</th>\n",
              "      <th>Book-Rating</th>\n",
              "      <th>Book-Title</th>\n",
              "      <th>Total_Rating_Count</th>\n",
              "    </tr>\n",
              "  </thead>\n",
              "  <tbody>\n",
              "    <tr>\n",
              "      <th>62</th>\n",
              "      <td>276727</td>\n",
              "      <td>0446520802</td>\n",
              "      <td>0</td>\n",
              "      <td>The Notebook</td>\n",
              "      <td>650</td>\n",
              "    </tr>\n",
              "    <tr>\n",
              "      <th>63</th>\n",
              "      <td>278418</td>\n",
              "      <td>0446520802</td>\n",
              "      <td>0</td>\n",
              "      <td>The Notebook</td>\n",
              "      <td>650</td>\n",
              "    </tr>\n",
              "    <tr>\n",
              "      <th>64</th>\n",
              "      <td>638</td>\n",
              "      <td>0446520802</td>\n",
              "      <td>0</td>\n",
              "      <td>The Notebook</td>\n",
              "      <td>650</td>\n",
              "    </tr>\n",
              "    <tr>\n",
              "      <th>65</th>\n",
              "      <td>3363</td>\n",
              "      <td>0446520802</td>\n",
              "      <td>0</td>\n",
              "      <td>The Notebook</td>\n",
              "      <td>650</td>\n",
              "    </tr>\n",
              "    <tr>\n",
              "      <th>66</th>\n",
              "      <td>7158</td>\n",
              "      <td>0446520802</td>\n",
              "      <td>10</td>\n",
              "      <td>The Notebook</td>\n",
              "      <td>650</td>\n",
              "    </tr>\n",
              "  </tbody>\n",
              "</table>\n",
              "</div>"
            ],
            "text/plain": [
              "    User-ID        ISBN  Book-Rating    Book-Title  Total_Rating_Count\n",
              "62   276727  0446520802            0  The Notebook                 650\n",
              "63   278418  0446520802            0  The Notebook                 650\n",
              "64      638  0446520802            0  The Notebook                 650\n",
              "65     3363  0446520802            0  The Notebook                 650\n",
              "66     7158  0446520802           10  The Notebook                 650"
            ]
          },
          "execution_count": 40,
          "metadata": {},
          "output_type": "execute_result"
        }
      ],
      "source": [
        "popular_books.head()"
      ]
    },
    {
      "cell_type": "code",
      "execution_count": null,
      "id": "525e33c9",
      "metadata": {
        "id": "525e33c9",
        "outputId": "a1c0858b-9302-4b0c-c7b7-e0477d8c4ca7"
      },
      "outputs": [
        {
          "data": {
            "text/plain": [
              "(183799, 5)"
            ]
          },
          "execution_count": 41,
          "metadata": {},
          "output_type": "execute_result"
        }
      ],
      "source": [
        "popular_books.shape"
      ]
    },
    {
      "cell_type": "code",
      "execution_count": null,
      "id": "a1204e18",
      "metadata": {
        "id": "a1204e18"
      },
      "outputs": [],
      "source": [
        "# looking for uniques locations in dataset\n",
        "\n",
        "l = list(user_ratings['Location'].unique())"
      ]
    },
    {
      "cell_type": "code",
      "execution_count": null,
      "id": "d9e33d9f",
      "metadata": {
        "id": "d9e33d9f"
      },
      "outputs": [],
      "source": [
        "# l"
      ]
    },
    {
      "cell_type": "markdown",
      "id": "ab322cd2",
      "metadata": {
        "id": "ab322cd2"
      },
      "source": [
        "## Filtering for users in India, USA\n",
        "\n",
        "For reduced set of data due to processing limitations"
      ]
    },
    {
      "cell_type": "code",
      "execution_count": null,
      "id": "4de33366",
      "metadata": {
        "id": "4de33366",
        "outputId": "d25280d5-d761-4da9-9095-4ba1eac849d7"
      },
      "outputs": [
        {
          "data": {
            "text/html": [
              "<div>\n",
              "<style scoped>\n",
              "    .dataframe tbody tr th:only-of-type {\n",
              "        vertical-align: middle;\n",
              "    }\n",
              "\n",
              "    .dataframe tbody tr th {\n",
              "        vertical-align: top;\n",
              "    }\n",
              "\n",
              "    .dataframe thead th {\n",
              "        text-align: right;\n",
              "    }\n",
              "</style>\n",
              "<table border=\"1\" class=\"dataframe\">\n",
              "  <thead>\n",
              "    <tr style=\"text-align: right;\">\n",
              "      <th></th>\n",
              "      <th>User-ID</th>\n",
              "      <th>ISBN</th>\n",
              "      <th>Book-Rating</th>\n",
              "      <th>Book-Title</th>\n",
              "      <th>Total_Rating_Count</th>\n",
              "      <th>Location</th>\n",
              "      <th>Age</th>\n",
              "    </tr>\n",
              "  </thead>\n",
              "  <tbody>\n",
              "    <tr>\n",
              "      <th>0</th>\n",
              "      <td>276727</td>\n",
              "      <td>0446520802</td>\n",
              "      <td>0</td>\n",
              "      <td>The Notebook</td>\n",
              "      <td>650</td>\n",
              "      <td>h, new south wales, australia</td>\n",
              "      <td>16</td>\n",
              "    </tr>\n",
              "    <tr>\n",
              "      <th>1</th>\n",
              "      <td>278418</td>\n",
              "      <td>0446520802</td>\n",
              "      <td>0</td>\n",
              "      <td>The Notebook</td>\n",
              "      <td>650</td>\n",
              "      <td>omaha, nebraska, usa</td>\n",
              "      <td>34</td>\n",
              "    </tr>\n",
              "    <tr>\n",
              "      <th>2</th>\n",
              "      <td>638</td>\n",
              "      <td>0446520802</td>\n",
              "      <td>0</td>\n",
              "      <td>The Notebook</td>\n",
              "      <td>650</td>\n",
              "      <td>san diego, california, usa</td>\n",
              "      <td>20</td>\n",
              "    </tr>\n",
              "    <tr>\n",
              "      <th>3</th>\n",
              "      <td>3363</td>\n",
              "      <td>0446520802</td>\n",
              "      <td>0</td>\n",
              "      <td>The Notebook</td>\n",
              "      <td>650</td>\n",
              "      <td>knoxville, tennessee, usa</td>\n",
              "      <td>29</td>\n",
              "    </tr>\n",
              "    <tr>\n",
              "      <th>4</th>\n",
              "      <td>7158</td>\n",
              "      <td>0446520802</td>\n",
              "      <td>10</td>\n",
              "      <td>The Notebook</td>\n",
              "      <td>650</td>\n",
              "      <td>omaha, nebraska, usa</td>\n",
              "      <td>30</td>\n",
              "    </tr>\n",
              "    <tr>\n",
              "      <th>...</th>\n",
              "      <td>...</td>\n",
              "      <td>...</td>\n",
              "      <td>...</td>\n",
              "      <td>...</td>\n",
              "      <td>...</td>\n",
              "      <td>...</td>\n",
              "      <td>...</td>\n",
              "    </tr>\n",
              "    <tr>\n",
              "      <th>183794</th>\n",
              "      <td>271503</td>\n",
              "      <td>0394512731</td>\n",
              "      <td>0</td>\n",
              "      <td>The Heart of a Woman</td>\n",
              "      <td>108</td>\n",
              "      <td>wichita, kansas, usa</td>\n",
              "      <td>34</td>\n",
              "    </tr>\n",
              "    <tr>\n",
              "      <th>183795</th>\n",
              "      <td>271705</td>\n",
              "      <td>B0001PIOX4</td>\n",
              "      <td>0</td>\n",
              "      <td>Fahrenheit 451</td>\n",
              "      <td>409</td>\n",
              "      <td>atlanta, georgia, usa</td>\n",
              "      <td>25</td>\n",
              "    </tr>\n",
              "    <tr>\n",
              "      <th>183796</th>\n",
              "      <td>274808</td>\n",
              "      <td>0449701913</td>\n",
              "      <td>0</td>\n",
              "      <td>Homecoming</td>\n",
              "      <td>137</td>\n",
              "      <td>paynesville, , usa</td>\n",
              "      <td>17</td>\n",
              "    </tr>\n",
              "    <tr>\n",
              "      <th>183797</th>\n",
              "      <td>275970</td>\n",
              "      <td>0865714215</td>\n",
              "      <td>0</td>\n",
              "      <td>Stormy Weather</td>\n",
              "      <td>103</td>\n",
              "      <td>pittsburgh, pennsylvania, usa</td>\n",
              "      <td>46</td>\n",
              "    </tr>\n",
              "    <tr>\n",
              "      <th>183798</th>\n",
              "      <td>275970</td>\n",
              "      <td>1586210661</td>\n",
              "      <td>9</td>\n",
              "      <td>Me Talk Pretty One Day</td>\n",
              "      <td>457</td>\n",
              "      <td>pittsburgh, pennsylvania, usa</td>\n",
              "      <td>46</td>\n",
              "    </tr>\n",
              "  </tbody>\n",
              "</table>\n",
              "<p>183799 rows × 7 columns</p>\n",
              "</div>"
            ],
            "text/plain": [
              "        User-ID        ISBN  Book-Rating              Book-Title  \\\n",
              "0        276727  0446520802            0            The Notebook   \n",
              "1        278418  0446520802            0            The Notebook   \n",
              "2           638  0446520802            0            The Notebook   \n",
              "3          3363  0446520802            0            The Notebook   \n",
              "4          7158  0446520802           10            The Notebook   \n",
              "...         ...         ...          ...                     ...   \n",
              "183794   271503  0394512731            0    The Heart of a Woman   \n",
              "183795   271705  B0001PIOX4            0          Fahrenheit 451   \n",
              "183796   274808  0449701913            0              Homecoming   \n",
              "183797   275970  0865714215            0          Stormy Weather   \n",
              "183798   275970  1586210661            9  Me Talk Pretty One Day   \n",
              "\n",
              "        Total_Rating_Count                       Location  Age  \n",
              "0                      650  h, new south wales, australia   16  \n",
              "1                      650           omaha, nebraska, usa   34  \n",
              "2                      650     san diego, california, usa   20  \n",
              "3                      650      knoxville, tennessee, usa   29  \n",
              "4                      650           omaha, nebraska, usa   30  \n",
              "...                    ...                            ...  ...  \n",
              "183794                 108           wichita, kansas, usa   34  \n",
              "183795                 409          atlanta, georgia, usa   25  \n",
              "183796                 137             paynesville, , usa   17  \n",
              "183797                 103  pittsburgh, pennsylvania, usa   46  \n",
              "183798                 457  pittsburgh, pennsylvania, usa   46  \n",
              "\n",
              "[183799 rows x 7 columns]"
            ]
          },
          "execution_count": 44,
          "metadata": {},
          "output_type": "execute_result"
        }
      ],
      "source": [
        "# merging 'popular-books' dataframe with 'users' dataframe for getting locations of users.\n",
        "\n",
        "combined = popular_books.merge(Users, left_on = 'User-ID', right_on = 'User-ID', how = 'left')\n",
        "combined"
      ]
    },
    {
      "cell_type": "code",
      "execution_count": null,
      "id": "6cc7a45a",
      "metadata": {
        "id": "6cc7a45a",
        "outputId": "73d05719-22ca-4378-bfed-b7526d4e3816"
      },
      "outputs": [
        {
          "data": {
            "text/html": [
              "<div>\n",
              "<style scoped>\n",
              "    .dataframe tbody tr th:only-of-type {\n",
              "        vertical-align: middle;\n",
              "    }\n",
              "\n",
              "    .dataframe tbody tr th {\n",
              "        vertical-align: top;\n",
              "    }\n",
              "\n",
              "    .dataframe thead th {\n",
              "        text-align: right;\n",
              "    }\n",
              "</style>\n",
              "<table border=\"1\" class=\"dataframe\">\n",
              "  <thead>\n",
              "    <tr style=\"text-align: right;\">\n",
              "      <th></th>\n",
              "      <th>User-ID</th>\n",
              "      <th>ISBN</th>\n",
              "      <th>Book-Rating</th>\n",
              "      <th>Book-Title</th>\n",
              "      <th>Total_Rating_Count</th>\n",
              "      <th>Location</th>\n",
              "    </tr>\n",
              "  </thead>\n",
              "  <tbody>\n",
              "    <tr>\n",
              "      <th>1</th>\n",
              "      <td>278418</td>\n",
              "      <td>0446520802</td>\n",
              "      <td>0</td>\n",
              "      <td>The Notebook</td>\n",
              "      <td>650</td>\n",
              "      <td>omaha, nebraska, usa</td>\n",
              "    </tr>\n",
              "    <tr>\n",
              "      <th>2</th>\n",
              "      <td>638</td>\n",
              "      <td>0446520802</td>\n",
              "      <td>0</td>\n",
              "      <td>The Notebook</td>\n",
              "      <td>650</td>\n",
              "      <td>san diego, california, usa</td>\n",
              "    </tr>\n",
              "    <tr>\n",
              "      <th>3</th>\n",
              "      <td>3363</td>\n",
              "      <td>0446520802</td>\n",
              "      <td>0</td>\n",
              "      <td>The Notebook</td>\n",
              "      <td>650</td>\n",
              "      <td>knoxville, tennessee, usa</td>\n",
              "    </tr>\n",
              "    <tr>\n",
              "      <th>4</th>\n",
              "      <td>7158</td>\n",
              "      <td>0446520802</td>\n",
              "      <td>10</td>\n",
              "      <td>The Notebook</td>\n",
              "      <td>650</td>\n",
              "      <td>omaha, nebraska, usa</td>\n",
              "    </tr>\n",
              "    <tr>\n",
              "      <th>5</th>\n",
              "      <td>8253</td>\n",
              "      <td>0446520802</td>\n",
              "      <td>10</td>\n",
              "      <td>The Notebook</td>\n",
              "      <td>650</td>\n",
              "      <td>tulsa, oklahoma, usa</td>\n",
              "    </tr>\n",
              "  </tbody>\n",
              "</table>\n",
              "</div>"
            ],
            "text/plain": [
              "   User-ID        ISBN  Book-Rating    Book-Title  Total_Rating_Count  \\\n",
              "1   278418  0446520802            0  The Notebook                 650   \n",
              "2      638  0446520802            0  The Notebook                 650   \n",
              "3     3363  0446520802            0  The Notebook                 650   \n",
              "4     7158  0446520802           10  The Notebook                 650   \n",
              "5     8253  0446520802           10  The Notebook                 650   \n",
              "\n",
              "                     Location  \n",
              "1        omaha, nebraska, usa  \n",
              "2  san diego, california, usa  \n",
              "3   knoxville, tennessee, usa  \n",
              "4        omaha, nebraska, usa  \n",
              "5        tulsa, oklahoma, usa  "
            ]
          },
          "execution_count": 45,
          "metadata": {},
          "output_type": "execute_result"
        }
      ],
      "source": [
        "# using regular expression for matching string with India and USA.\n",
        "\n",
        "Ind_usa_rating = combined[combined['Location'].str.contains('india|usa')]\n",
        "\n",
        "Ind_usa_rating = Ind_usa_rating.drop('Age', axis = 1)\n",
        "Ind_usa_rating.head()"
      ]
    },
    {
      "cell_type": "code",
      "execution_count": null,
      "id": "635122fa",
      "metadata": {
        "id": "635122fa",
        "outputId": "dcf91948-77b4-4c15-d370-89c99a62c18e"
      },
      "outputs": [
        {
          "data": {
            "text/html": [
              "<div>\n",
              "<style scoped>\n",
              "    .dataframe tbody tr th:only-of-type {\n",
              "        vertical-align: middle;\n",
              "    }\n",
              "\n",
              "    .dataframe tbody tr th {\n",
              "        vertical-align: top;\n",
              "    }\n",
              "\n",
              "    .dataframe thead th {\n",
              "        text-align: right;\n",
              "    }\n",
              "</style>\n",
              "<table border=\"1\" class=\"dataframe\">\n",
              "  <thead>\n",
              "    <tr style=\"text-align: right;\">\n",
              "      <th>User-ID</th>\n",
              "      <th>9</th>\n",
              "      <th>14</th>\n",
              "      <th>16</th>\n",
              "      <th>17</th>\n",
              "      <th>26</th>\n",
              "      <th>32</th>\n",
              "      <th>39</th>\n",
              "      <th>42</th>\n",
              "      <th>44</th>\n",
              "      <th>51</th>\n",
              "      <th>...</th>\n",
              "      <th>278813</th>\n",
              "      <th>278819</th>\n",
              "      <th>278820</th>\n",
              "      <th>278824</th>\n",
              "      <th>278828</th>\n",
              "      <th>278832</th>\n",
              "      <th>278836</th>\n",
              "      <th>278843</th>\n",
              "      <th>278844</th>\n",
              "      <th>278854</th>\n",
              "    </tr>\n",
              "    <tr>\n",
              "      <th>Book-Title</th>\n",
              "      <th></th>\n",
              "      <th></th>\n",
              "      <th></th>\n",
              "      <th></th>\n",
              "      <th></th>\n",
              "      <th></th>\n",
              "      <th></th>\n",
              "      <th></th>\n",
              "      <th></th>\n",
              "      <th></th>\n",
              "      <th></th>\n",
              "      <th></th>\n",
              "      <th></th>\n",
              "      <th></th>\n",
              "      <th></th>\n",
              "      <th></th>\n",
              "      <th></th>\n",
              "      <th></th>\n",
              "      <th></th>\n",
              "      <th></th>\n",
              "      <th></th>\n",
              "    </tr>\n",
              "  </thead>\n",
              "  <tbody>\n",
              "    <tr>\n",
              "      <th>1984</th>\n",
              "      <td>0.0</td>\n",
              "      <td>0.0</td>\n",
              "      <td>0.0</td>\n",
              "      <td>0.0</td>\n",
              "      <td>0.0</td>\n",
              "      <td>0.0</td>\n",
              "      <td>0.0</td>\n",
              "      <td>0.0</td>\n",
              "      <td>0.0</td>\n",
              "      <td>0.0</td>\n",
              "      <td>...</td>\n",
              "      <td>0.0</td>\n",
              "      <td>0.0</td>\n",
              "      <td>0.0</td>\n",
              "      <td>0.0</td>\n",
              "      <td>0.0</td>\n",
              "      <td>0.0</td>\n",
              "      <td>0.0</td>\n",
              "      <td>0.0</td>\n",
              "      <td>0.0</td>\n",
              "      <td>0.0</td>\n",
              "    </tr>\n",
              "    <tr>\n",
              "      <th>1st to Die: A Novel</th>\n",
              "      <td>0.0</td>\n",
              "      <td>0.0</td>\n",
              "      <td>0.0</td>\n",
              "      <td>0.0</td>\n",
              "      <td>0.0</td>\n",
              "      <td>0.0</td>\n",
              "      <td>0.0</td>\n",
              "      <td>0.0</td>\n",
              "      <td>0.0</td>\n",
              "      <td>0.0</td>\n",
              "      <td>...</td>\n",
              "      <td>0.0</td>\n",
              "      <td>0.0</td>\n",
              "      <td>0.0</td>\n",
              "      <td>0.0</td>\n",
              "      <td>0.0</td>\n",
              "      <td>0.0</td>\n",
              "      <td>0.0</td>\n",
              "      <td>0.0</td>\n",
              "      <td>0.0</td>\n",
              "      <td>0.0</td>\n",
              "    </tr>\n",
              "    <tr>\n",
              "      <th>24 Hours</th>\n",
              "      <td>0.0</td>\n",
              "      <td>0.0</td>\n",
              "      <td>0.0</td>\n",
              "      <td>0.0</td>\n",
              "      <td>0.0</td>\n",
              "      <td>0.0</td>\n",
              "      <td>0.0</td>\n",
              "      <td>0.0</td>\n",
              "      <td>0.0</td>\n",
              "      <td>0.0</td>\n",
              "      <td>...</td>\n",
              "      <td>0.0</td>\n",
              "      <td>0.0</td>\n",
              "      <td>0.0</td>\n",
              "      <td>0.0</td>\n",
              "      <td>0.0</td>\n",
              "      <td>0.0</td>\n",
              "      <td>0.0</td>\n",
              "      <td>0.0</td>\n",
              "      <td>0.0</td>\n",
              "      <td>0.0</td>\n",
              "    </tr>\n",
              "    <tr>\n",
              "      <th>2nd Chance</th>\n",
              "      <td>0.0</td>\n",
              "      <td>0.0</td>\n",
              "      <td>0.0</td>\n",
              "      <td>0.0</td>\n",
              "      <td>0.0</td>\n",
              "      <td>0.0</td>\n",
              "      <td>0.0</td>\n",
              "      <td>0.0</td>\n",
              "      <td>0.0</td>\n",
              "      <td>0.0</td>\n",
              "      <td>...</td>\n",
              "      <td>0.0</td>\n",
              "      <td>0.0</td>\n",
              "      <td>0.0</td>\n",
              "      <td>0.0</td>\n",
              "      <td>0.0</td>\n",
              "      <td>0.0</td>\n",
              "      <td>0.0</td>\n",
              "      <td>0.0</td>\n",
              "      <td>0.0</td>\n",
              "      <td>0.0</td>\n",
              "    </tr>\n",
              "    <tr>\n",
              "      <th>4 Blondes</th>\n",
              "      <td>0.0</td>\n",
              "      <td>0.0</td>\n",
              "      <td>0.0</td>\n",
              "      <td>0.0</td>\n",
              "      <td>0.0</td>\n",
              "      <td>0.0</td>\n",
              "      <td>0.0</td>\n",
              "      <td>0.0</td>\n",
              "      <td>0.0</td>\n",
              "      <td>0.0</td>\n",
              "      <td>...</td>\n",
              "      <td>0.0</td>\n",
              "      <td>0.0</td>\n",
              "      <td>0.0</td>\n",
              "      <td>0.0</td>\n",
              "      <td>0.0</td>\n",
              "      <td>0.0</td>\n",
              "      <td>0.0</td>\n",
              "      <td>0.0</td>\n",
              "      <td>0.0</td>\n",
              "      <td>0.0</td>\n",
              "    </tr>\n",
              "    <tr>\n",
              "      <th>84 Charing Cross Road</th>\n",
              "      <td>0.0</td>\n",
              "      <td>0.0</td>\n",
              "      <td>0.0</td>\n",
              "      <td>0.0</td>\n",
              "      <td>0.0</td>\n",
              "      <td>0.0</td>\n",
              "      <td>0.0</td>\n",
              "      <td>0.0</td>\n",
              "      <td>0.0</td>\n",
              "      <td>0.0</td>\n",
              "      <td>...</td>\n",
              "      <td>0.0</td>\n",
              "      <td>0.0</td>\n",
              "      <td>0.0</td>\n",
              "      <td>0.0</td>\n",
              "      <td>0.0</td>\n",
              "      <td>0.0</td>\n",
              "      <td>0.0</td>\n",
              "      <td>0.0</td>\n",
              "      <td>0.0</td>\n",
              "      <td>0.0</td>\n",
              "    </tr>\n",
              "  </tbody>\n",
              "</table>\n",
              "<p>6 rows × 28295 columns</p>\n",
              "</div>"
            ],
            "text/plain": [
              "User-ID                9       14      16      17      26      32      39      \\\n",
              "Book-Title                                                                      \n",
              "1984                      0.0     0.0     0.0     0.0     0.0     0.0     0.0   \n",
              "1st to Die: A Novel       0.0     0.0     0.0     0.0     0.0     0.0     0.0   \n",
              "24 Hours                  0.0     0.0     0.0     0.0     0.0     0.0     0.0   \n",
              "2nd Chance                0.0     0.0     0.0     0.0     0.0     0.0     0.0   \n",
              "4 Blondes                 0.0     0.0     0.0     0.0     0.0     0.0     0.0   \n",
              "84 Charing Cross Road     0.0     0.0     0.0     0.0     0.0     0.0     0.0   \n",
              "\n",
              "User-ID                42      44      51      ...  278813  278819  278820  \\\n",
              "Book-Title                                     ...                           \n",
              "1984                      0.0     0.0     0.0  ...     0.0     0.0     0.0   \n",
              "1st to Die: A Novel       0.0     0.0     0.0  ...     0.0     0.0     0.0   \n",
              "24 Hours                  0.0     0.0     0.0  ...     0.0     0.0     0.0   \n",
              "2nd Chance                0.0     0.0     0.0  ...     0.0     0.0     0.0   \n",
              "4 Blondes                 0.0     0.0     0.0  ...     0.0     0.0     0.0   \n",
              "84 Charing Cross Road     0.0     0.0     0.0  ...     0.0     0.0     0.0   \n",
              "\n",
              "User-ID                278824  278828  278832  278836  278843  278844  278854  \n",
              "Book-Title                                                                     \n",
              "1984                      0.0     0.0     0.0     0.0     0.0     0.0     0.0  \n",
              "1st to Die: A Novel       0.0     0.0     0.0     0.0     0.0     0.0     0.0  \n",
              "24 Hours                  0.0     0.0     0.0     0.0     0.0     0.0     0.0  \n",
              "2nd Chance                0.0     0.0     0.0     0.0     0.0     0.0     0.0  \n",
              "4 Blondes                 0.0     0.0     0.0     0.0     0.0     0.0     0.0  \n",
              "84 Charing Cross Road     0.0     0.0     0.0     0.0     0.0     0.0     0.0  \n",
              "\n",
              "[6 rows x 28295 columns]"
            ]
          },
          "execution_count": 46,
          "metadata": {},
          "output_type": "execute_result"
        }
      ],
      "source": [
        "from scipy.sparse import csr_matrix\n",
        "\n",
        "Ind_usa_rating = Ind_usa_rating.drop_duplicates(['User-ID','Book-Title'])\n",
        "\n",
        "# creating a pivot table based on 'book-title' and 'user-id' having 'ratings' as values.\n",
        "\n",
        "Ind_usa_rating_pivot = Ind_usa_rating.pivot(index = 'Book-Title', columns = 'User-ID', values = 'Book-Rating').fillna(0)\n",
        "Ind_usa_rating_pivot.head(6)\n"
      ]
    },
    {
      "cell_type": "code",
      "execution_count": null,
      "id": "615b0605",
      "metadata": {
        "id": "615b0605",
        "outputId": "6fcf7d70-39e4-4522-9f17-a67b7a606be6"
      },
      "outputs": [
        {
          "name": "stdout",
          "output_type": "stream",
          "text": [
            "28295 914\n"
          ]
        }
      ],
      "source": [
        "# calculating the sparsity\n",
        "\n",
        "user = Ind_usa_rating_pivot.shape[1]\n",
        "book = Ind_usa_rating_pivot.shape[0]\n",
        "\n",
        "print(user, book)"
      ]
    },
    {
      "cell_type": "code",
      "execution_count": null,
      "id": "a5edb7d7",
      "metadata": {
        "id": "a5edb7d7",
        "outputId": "d8365a33-6fe8-4bca-c557-c5a783eea8bb"
      },
      "outputs": [
        {
          "data": {
            "text/plain": [
              "0.9938323945233928"
            ]
          },
          "execution_count": 48,
          "metadata": {},
          "output_type": "execute_result"
        }
      ],
      "source": [
        "# this shows that 99.38 % values are empty.\n",
        "\n",
        "sparsity = 1.0 - len(valid_ratings)/float(user_ratings.shape[0]*book)\n",
        "sparsity"
      ]
    },
    {
      "cell_type": "code",
      "execution_count": null,
      "id": "2a408a18",
      "metadata": {
        "id": "2a408a18"
      },
      "outputs": [],
      "source": [
        "# Creating matrix from pivot table. \n",
        "# Ratings are in a matrix form having one row for each book and one column for each user.\n",
        "# most of the values are zeros.\n",
        "\n",
        "Ind_usa_rating_matrix = csr_matrix(Ind_usa_rating_pivot.values)"
      ]
    },
    {
      "cell_type": "code",
      "execution_count": null,
      "id": "dcf49ef4",
      "metadata": {
        "id": "dcf49ef4",
        "outputId": "3b62f0dd-7d72-49ca-d7f0-b7f9f64c526e"
      },
      "outputs": [
        {
          "data": {
            "text/plain": [
              "NearestNeighbors(algorithm='brute', metric='cosine')"
            ]
          },
          "execution_count": 50,
          "metadata": {},
          "output_type": "execute_result"
        }
      ],
      "source": [
        "from sklearn.neighbors import NearestNeighbors\n",
        "\n",
        "# using 'cosine' metric for similarity constraint and 'brute' algorithm\n",
        "\n",
        "model = NearestNeighbors(metric = 'cosine', algorithm = 'brute')\n",
        "\n",
        "# fitting the matrix into knn model\n",
        "model.fit(Ind_usa_rating_matrix)"
      ]
    },
    {
      "cell_type": "code",
      "execution_count": null,
      "id": "609ff61f",
      "metadata": {
        "id": "609ff61f",
        "outputId": "f5ef57c1-80ad-4495-e7e3-268d964371e0"
      },
      "outputs": [
        {
          "name": "stdout",
          "output_type": "stream",
          "text": [
            "297\n",
            "[[0.         0.82916879 0.90042299 0.91120066 0.92047496 0.92673294\n",
            "  0.93236157 0.94096771 0.94236135 0.94422555 0.94453555]]\n",
            "[[297  41 383 307 112  42 705 898 849 839 693]]\n"
          ]
        }
      ],
      "source": [
        "# Randomly selecting a book based on index number.\n",
        "\n",
        "book_name = np.random.choice(Ind_usa_rating_pivot.shape[0])\n",
        "print(book_name)\n",
        "\n",
        "# By using index number finding 10 nearest neighbors using kNN model.\n",
        "\n",
        "dist, indices = model.kneighbors(Ind_usa_rating_pivot.iloc[book_name,:].values.reshape(1, -1), n_neighbors = 11)\n",
        "\n",
        "print(dist)\n",
        "print(indices)"
      ]
    },
    {
      "cell_type": "code",
      "execution_count": null,
      "id": "7f5a723a",
      "metadata": {
        "id": "7f5a723a",
        "outputId": "899a0553-0907-4f38-be08-576795875e5b"
      },
      "outputs": [
        {
          "data": {
            "text/plain": [
              "'High Fidelity'"
            ]
          },
          "execution_count": 52,
          "metadata": {},
          "output_type": "execute_result"
        }
      ],
      "source": [
        "# name of the book\n",
        "\n",
        "Ind_usa_rating_pivot.index[book_name]"
      ]
    },
    {
      "cell_type": "code",
      "execution_count": null,
      "id": "57d5a854",
      "metadata": {
        "id": "57d5a854",
        "outputId": "a5727936-b350-42c1-fb2f-2b78f7f04a5e"
      },
      "outputs": [
        {
          "name": "stdout",
          "output_type": "stream",
          "text": [
            "Recommendations for High Fidelity: \n",
            "\n",
            "1: About a Boy, with distance of 0.829168788495385:\n",
            "2: Me Talk Pretty One Day, with distance of 0.9004229850377345:\n",
            "3: How to Be Good, with distance of 0.9112006562437959:\n",
            "4: Bridget Jones's Diary, with distance of 0.9204749564360789:\n",
            "5: About a Boy (Movie Tie-In), with distance of 0.9267329446200454:\n",
            "6: The House on Mango Street (Vintage Contemporaries), with distance of 0.9323615707571746:\n",
            "7: Wicked: The Life and Times of the Wicked Witch of the West, with distance of 0.9409677066160648:\n",
            "8: To Kill a Mockingbird, with distance of 0.9423613469485703:\n",
            "9: The World According to Garp, with distance of 0.9442255536862033:\n",
            "10: The Handmaid's Tale, with distance of 0.9445355465071719:\n"
          ]
        }
      ],
      "source": [
        "# loop for printing recommended book names along with the distance with selected book.\n",
        "# lesser the distance , more the similarity between books based on ratings.\n",
        "listofbooks1 = []\n",
        "listofdistance1 = []\n",
        "\n",
        "for i in range(0, len(dist.flatten())):\n",
        "    if i == 0:\n",
        "        print(f'Recommendations for {Ind_usa_rating_pivot.index[book_name]}:','\\n')\n",
        "    else:\n",
        "        print(f'{i}: {Ind_usa_rating_pivot.index[indices.flatten()[i]]}, with distance of {dist.flatten()[i]}:')\n",
        "        \n",
        "        listofbooks1.append(Ind_usa_rating_pivot.index[indices.flatten()[i]])\n",
        "        listofdistance1.append(dist.flatten()[i])"
      ]
    },
    {
      "cell_type": "code",
      "execution_count": null,
      "id": "3ec3491f",
      "metadata": {
        "id": "3ec3491f",
        "outputId": "82d896fa-20d4-4310-c123-7d8eac9b79e8"
      },
      "outputs": [
        {
          "data": {
            "text/html": [
              "<div>\n",
              "<style scoped>\n",
              "    .dataframe tbody tr th:only-of-type {\n",
              "        vertical-align: middle;\n",
              "    }\n",
              "\n",
              "    .dataframe tbody tr th {\n",
              "        vertical-align: top;\n",
              "    }\n",
              "\n",
              "    .dataframe thead th {\n",
              "        text-align: right;\n",
              "    }\n",
              "</style>\n",
              "<table border=\"1\" class=\"dataframe\">\n",
              "  <thead>\n",
              "    <tr style=\"text-align: right;\">\n",
              "      <th></th>\n",
              "      <th>Books</th>\n",
              "      <th>Distances</th>\n",
              "    </tr>\n",
              "  </thead>\n",
              "  <tbody>\n",
              "    <tr>\n",
              "      <th>1</th>\n",
              "      <td>About a Boy</td>\n",
              "      <td>0.829169</td>\n",
              "    </tr>\n",
              "    <tr>\n",
              "      <th>2</th>\n",
              "      <td>Me Talk Pretty One Day</td>\n",
              "      <td>0.900423</td>\n",
              "    </tr>\n",
              "    <tr>\n",
              "      <th>3</th>\n",
              "      <td>How to Be Good</td>\n",
              "      <td>0.911201</td>\n",
              "    </tr>\n",
              "    <tr>\n",
              "      <th>4</th>\n",
              "      <td>Bridget Jones's Diary</td>\n",
              "      <td>0.920475</td>\n",
              "    </tr>\n",
              "    <tr>\n",
              "      <th>5</th>\n",
              "      <td>About a Boy (Movie Tie-In)</td>\n",
              "      <td>0.926733</td>\n",
              "    </tr>\n",
              "    <tr>\n",
              "      <th>6</th>\n",
              "      <td>The House on Mango Street (Vintage Contemporar...</td>\n",
              "      <td>0.932362</td>\n",
              "    </tr>\n",
              "    <tr>\n",
              "      <th>7</th>\n",
              "      <td>Wicked: The Life and Times of the Wicked Witch...</td>\n",
              "      <td>0.940968</td>\n",
              "    </tr>\n",
              "    <tr>\n",
              "      <th>8</th>\n",
              "      <td>To Kill a Mockingbird</td>\n",
              "      <td>0.942361</td>\n",
              "    </tr>\n",
              "    <tr>\n",
              "      <th>9</th>\n",
              "      <td>The World According to Garp</td>\n",
              "      <td>0.944226</td>\n",
              "    </tr>\n",
              "    <tr>\n",
              "      <th>10</th>\n",
              "      <td>The Handmaid's Tale</td>\n",
              "      <td>0.944536</td>\n",
              "    </tr>\n",
              "  </tbody>\n",
              "</table>\n",
              "</div>"
            ],
            "text/plain": [
              "                                                Books  Distances\n",
              "1                                         About a Boy   0.829169\n",
              "2                              Me Talk Pretty One Day   0.900423\n",
              "3                                      How to Be Good   0.911201\n",
              "4                               Bridget Jones's Diary   0.920475\n",
              "5                          About a Boy (Movie Tie-In)   0.926733\n",
              "6   The House on Mango Street (Vintage Contemporar...   0.932362\n",
              "7   Wicked: The Life and Times of the Wicked Witch...   0.940968\n",
              "8                               To Kill a Mockingbird   0.942361\n",
              "9                         The World According to Garp   0.944226\n",
              "10                                The Handmaid's Tale   0.944536"
            ]
          },
          "execution_count": 55,
          "metadata": {},
          "output_type": "execute_result"
        }
      ],
      "source": [
        "dataf1 = {'Books': listofbooks1, 'Distances': listofdistance1}\n",
        "db1 = pd.DataFrame(dataf1, index = [i for i in range(1,11)])\n",
        "db1"
      ]
    },
    {
      "cell_type": "code",
      "execution_count": null,
      "id": "03aeb0ba",
      "metadata": {
        "id": "03aeb0ba"
      },
      "outputs": [],
      "source": [
        ""
      ]
    },
    {
      "cell_type": "code",
      "execution_count": null,
      "id": "1c8a2a4d",
      "metadata": {
        "id": "1c8a2a4d"
      },
      "outputs": [],
      "source": [
        ""
      ]
    },
    {
      "cell_type": "markdown",
      "id": "060ab6e1",
      "metadata": {
        "id": "060ab6e1"
      },
      "source": [
        "## Improvement in model"
      ]
    },
    {
      "cell_type": "code",
      "execution_count": null,
      "id": "d4884df0",
      "metadata": {
        "id": "d4884df0",
        "outputId": "5e1d6d55-4565-4db6-e05f-45f90147eed3"
      },
      "outputs": [
        {
          "data": {
            "text/html": [
              "<div>\n",
              "<style scoped>\n",
              "    .dataframe tbody tr th:only-of-type {\n",
              "        vertical-align: middle;\n",
              "    }\n",
              "\n",
              "    .dataframe tbody tr th {\n",
              "        vertical-align: top;\n",
              "    }\n",
              "\n",
              "    .dataframe thead th {\n",
              "        text-align: right;\n",
              "    }\n",
              "</style>\n",
              "<table border=\"1\" class=\"dataframe\">\n",
              "  <thead>\n",
              "    <tr style=\"text-align: right;\">\n",
              "      <th></th>\n",
              "      <th>User-ID</th>\n",
              "      <th>Location</th>\n",
              "      <th>Age</th>\n",
              "      <th>city</th>\n",
              "      <th>state</th>\n",
              "      <th>country</th>\n",
              "      <th>nan</th>\n",
              "    </tr>\n",
              "  </thead>\n",
              "  <tbody>\n",
              "    <tr>\n",
              "      <th>0</th>\n",
              "      <td>1</td>\n",
              "      <td>nyc, new york, usa</td>\n",
              "      <td>34</td>\n",
              "      <td>nyc</td>\n",
              "      <td>new york</td>\n",
              "      <td>usa</td>\n",
              "      <td>NaN</td>\n",
              "    </tr>\n",
              "    <tr>\n",
              "      <th>1</th>\n",
              "      <td>2</td>\n",
              "      <td>stockton, california, usa</td>\n",
              "      <td>18</td>\n",
              "      <td>stockton</td>\n",
              "      <td>california</td>\n",
              "      <td>usa</td>\n",
              "      <td>NaN</td>\n",
              "    </tr>\n",
              "    <tr>\n",
              "      <th>2</th>\n",
              "      <td>3</td>\n",
              "      <td>moscow, yukon territory, russia</td>\n",
              "      <td>34</td>\n",
              "      <td>moscow</td>\n",
              "      <td>yukon territory</td>\n",
              "      <td>russia</td>\n",
              "      <td>NaN</td>\n",
              "    </tr>\n",
              "    <tr>\n",
              "      <th>3</th>\n",
              "      <td>4</td>\n",
              "      <td>porto, v.n.gaia, portugal</td>\n",
              "      <td>17</td>\n",
              "      <td>porto</td>\n",
              "      <td>v.n.gaia</td>\n",
              "      <td>portugal</td>\n",
              "      <td>NaN</td>\n",
              "    </tr>\n",
              "    <tr>\n",
              "      <th>4</th>\n",
              "      <td>5</td>\n",
              "      <td>farnborough, hants, united kingdom</td>\n",
              "      <td>34</td>\n",
              "      <td>farnborough</td>\n",
              "      <td>hants</td>\n",
              "      <td>united kingdom</td>\n",
              "      <td>NaN</td>\n",
              "    </tr>\n",
              "    <tr>\n",
              "      <th>...</th>\n",
              "      <td>...</td>\n",
              "      <td>...</td>\n",
              "      <td>...</td>\n",
              "      <td>...</td>\n",
              "      <td>...</td>\n",
              "      <td>...</td>\n",
              "      <td>...</td>\n",
              "    </tr>\n",
              "    <tr>\n",
              "      <th>278853</th>\n",
              "      <td>278854</td>\n",
              "      <td>portland, oregon, usa</td>\n",
              "      <td>34</td>\n",
              "      <td>portland</td>\n",
              "      <td>oregon</td>\n",
              "      <td>usa</td>\n",
              "      <td>NaN</td>\n",
              "    </tr>\n",
              "    <tr>\n",
              "      <th>278854</th>\n",
              "      <td>278855</td>\n",
              "      <td>tacoma, washington, united kingdom</td>\n",
              "      <td>50</td>\n",
              "      <td>tacoma</td>\n",
              "      <td>washington</td>\n",
              "      <td>united kingdom</td>\n",
              "      <td>NaN</td>\n",
              "    </tr>\n",
              "    <tr>\n",
              "      <th>278855</th>\n",
              "      <td>278856</td>\n",
              "      <td>brampton, ontario, canada</td>\n",
              "      <td>34</td>\n",
              "      <td>brampton</td>\n",
              "      <td>ontario</td>\n",
              "      <td>canada</td>\n",
              "      <td>NaN</td>\n",
              "    </tr>\n",
              "    <tr>\n",
              "      <th>278856</th>\n",
              "      <td>278857</td>\n",
              "      <td>knoxville, tennessee, usa</td>\n",
              "      <td>34</td>\n",
              "      <td>knoxville</td>\n",
              "      <td>tennessee</td>\n",
              "      <td>usa</td>\n",
              "      <td>NaN</td>\n",
              "    </tr>\n",
              "    <tr>\n",
              "      <th>278857</th>\n",
              "      <td>278858</td>\n",
              "      <td>dublin, n/a, ireland</td>\n",
              "      <td>34</td>\n",
              "      <td>dublin</td>\n",
              "      <td>n/a</td>\n",
              "      <td>ireland</td>\n",
              "      <td>NaN</td>\n",
              "    </tr>\n",
              "  </tbody>\n",
              "</table>\n",
              "<p>278858 rows × 7 columns</p>\n",
              "</div>"
            ],
            "text/plain": [
              "        User-ID                            Location  Age         city  \\\n",
              "0             1                  nyc, new york, usa   34          nyc   \n",
              "1             2           stockton, california, usa   18     stockton   \n",
              "2             3     moscow, yukon territory, russia   34       moscow   \n",
              "3             4           porto, v.n.gaia, portugal   17        porto   \n",
              "4             5  farnborough, hants, united kingdom   34  farnborough   \n",
              "...         ...                                 ...  ...          ...   \n",
              "278853   278854               portland, oregon, usa   34     portland   \n",
              "278854   278855  tacoma, washington, united kingdom   50       tacoma   \n",
              "278855   278856           brampton, ontario, canada   34     brampton   \n",
              "278856   278857           knoxville, tennessee, usa   34    knoxville   \n",
              "278857   278858                dublin, n/a, ireland   34       dublin   \n",
              "\n",
              "                   state          country  nan  \n",
              "0               new york              usa  NaN  \n",
              "1             california              usa  NaN  \n",
              "2        yukon territory           russia  NaN  \n",
              "3               v.n.gaia         portugal  NaN  \n",
              "4                  hants   united kingdom  NaN  \n",
              "...                  ...              ...  ...  \n",
              "278853            oregon              usa  NaN  \n",
              "278854        washington   united kingdom  NaN  \n",
              "278855           ontario           canada  NaN  \n",
              "278856         tennessee              usa  NaN  \n",
              "278857               n/a          ireland  NaN  \n",
              "\n",
              "[278858 rows x 7 columns]"
            ]
          },
          "execution_count": 56,
          "metadata": {},
          "output_type": "execute_result"
        }
      ],
      "source": [
        "# Selecting the users based on there countries\n",
        "Users[['city','state','country','nan','nan','nan','nan','nan','nan']]=Users['Location'].apply(lambda x: pd.Series(str(x).split(\",\")))\n",
        "Users.drop(['Location','nan'],axis=1)\n",
        "Users_defined = Users\n",
        "Users_defined"
      ]
    },
    {
      "cell_type": "code",
      "execution_count": null,
      "id": "0a3a2a92",
      "metadata": {
        "id": "0a3a2a92",
        "outputId": "2f142e29-ab50-460d-9e1d-fb1f914ba84b"
      },
      "outputs": [
        {
          "data": {
            "text/html": [
              "<div>\n",
              "<style scoped>\n",
              "    .dataframe tbody tr th:only-of-type {\n",
              "        vertical-align: middle;\n",
              "    }\n",
              "\n",
              "    .dataframe tbody tr th {\n",
              "        vertical-align: top;\n",
              "    }\n",
              "\n",
              "    .dataframe thead th {\n",
              "        text-align: right;\n",
              "    }\n",
              "</style>\n",
              "<table border=\"1\" class=\"dataframe\">\n",
              "  <thead>\n",
              "    <tr style=\"text-align: right;\">\n",
              "      <th></th>\n",
              "      <th>c</th>\n",
              "      <th>count</th>\n",
              "    </tr>\n",
              "  </thead>\n",
              "  <tbody>\n",
              "    <tr>\n",
              "      <th>0</th>\n",
              "      <td>usa</td>\n",
              "      <td>139187</td>\n",
              "    </tr>\n",
              "    <tr>\n",
              "      <th>1</th>\n",
              "      <td>canada</td>\n",
              "      <td>21558</td>\n",
              "    </tr>\n",
              "    <tr>\n",
              "      <th>2</th>\n",
              "      <td>united kingdom</td>\n",
              "      <td>18286</td>\n",
              "    </tr>\n",
              "    <tr>\n",
              "      <th>3</th>\n",
              "      <td>germany</td>\n",
              "      <td>17022</td>\n",
              "    </tr>\n",
              "    <tr>\n",
              "      <th>4</th>\n",
              "      <td>spain</td>\n",
              "      <td>13095</td>\n",
              "    </tr>\n",
              "    <tr>\n",
              "      <th>5</th>\n",
              "      <td>australia</td>\n",
              "      <td>11723</td>\n",
              "    </tr>\n",
              "    <tr>\n",
              "      <th>6</th>\n",
              "      <td>italy</td>\n",
              "      <td>11242</td>\n",
              "    </tr>\n",
              "    <tr>\n",
              "      <th>7</th>\n",
              "      <td></td>\n",
              "      <td>4598</td>\n",
              "    </tr>\n",
              "    <tr>\n",
              "      <th>8</th>\n",
              "      <td>france</td>\n",
              "      <td>3442</td>\n",
              "    </tr>\n",
              "    <tr>\n",
              "      <th>9</th>\n",
              "      <td>portugal</td>\n",
              "      <td>3306</td>\n",
              "    </tr>\n",
              "    <tr>\n",
              "      <th>10</th>\n",
              "      <td>new zealand</td>\n",
              "      <td>3071</td>\n",
              "    </tr>\n",
              "    <tr>\n",
              "      <th>11</th>\n",
              "      <td>netherlands</td>\n",
              "      <td>3017</td>\n",
              "    </tr>\n",
              "    <tr>\n",
              "      <th>12</th>\n",
              "      <td>switzerland</td>\n",
              "      <td>1740</td>\n",
              "    </tr>\n",
              "    <tr>\n",
              "      <th>13</th>\n",
              "      <td>brazil</td>\n",
              "      <td>1671</td>\n",
              "    </tr>\n",
              "    <tr>\n",
              "      <th>14</th>\n",
              "      <td>china</td>\n",
              "      <td>1462</td>\n",
              "    </tr>\n",
              "  </tbody>\n",
              "</table>\n",
              "</div>"
            ],
            "text/plain": [
              "                  c   count\n",
              "0               usa  139187\n",
              "1            canada   21558\n",
              "2    united kingdom   18286\n",
              "3           germany   17022\n",
              "4             spain   13095\n",
              "5         australia   11723\n",
              "6             italy   11242\n",
              "7                      4598\n",
              "8            france    3442\n",
              "9          portugal    3306\n",
              "10      new zealand    3071\n",
              "11      netherlands    3017\n",
              "12      switzerland    1740\n",
              "13           brazil    1671\n",
              "14            china    1462"
            ]
          },
          "execution_count": 57,
          "metadata": {},
          "output_type": "execute_result"
        }
      ],
      "source": [
        "my_dict=(Users_defined['country'].value_counts()).to_dict()\n",
        "\n",
        "count= pd.DataFrame(list(my_dict.items()),columns = ['c','count'])\n",
        "f = count.sort_values(by=['count'], ascending = False)\n",
        "f = f.head(15)\n",
        "f"
      ]
    },
    {
      "cell_type": "code",
      "execution_count": null,
      "id": "ce4fe9ec",
      "metadata": {
        "id": "ce4fe9ec",
        "outputId": "f7616be6-cc3e-4a30-e3a4-f159ba632b81"
      },
      "outputs": [
        {
          "data": {
            "image/png": "[encoded data removed]",
            "text/plain": [
              "<Figure size 720x360 with 1 Axes>"
            ]
          },
          "metadata": {
            "needs_background": "light"
          },
          "output_type": "display_data"
        }
      ],
      "source": [
        "f.drop(7,inplace=True)\n",
        "fig=plt.figure(figsize=(10,5))\n",
        "ax = sns.barplot(y = 'count',x= 'c' , data = f)\n",
        "ax.set_xticklabels(ax.get_xticklabels(), rotation=90,horizontalalignment='center')\n",
        "for bar in ax.patches: \n",
        "    ax.annotate(format(bar.get_height(), '.0f'),  \n",
        "                   (bar.get_x() + bar.get_width() / 2,  \n",
        "                    bar.get_height()), ha='center', va='center', \n",
        "                   size=8, xytext=(0,8), \n",
        "                   textcoords='offset points') \n",
        "plt.xlabel(\"Country\", size=14)\n",
        "plt.ylabel(\"No of Users\", size=14)\n",
        "plt.title(\"Countries With Most Users\", size=18)\n",
        "plt.show()"
      ]
    },
    {
      "cell_type": "code",
      "execution_count": null,
      "id": "df0d91e5",
      "metadata": {
        "id": "df0d91e5"
      },
      "outputs": [],
      "source": [
        "# merging 'popular-books' dataframe with 'users' dataframe for getting locations of users.\n",
        "\n",
        "combined = popular_books.merge(Users, left_on = 'User-ID', right_on = 'User-ID', how = 'left')"
      ]
    },
    {
      "cell_type": "code",
      "execution_count": null,
      "id": "beac5d21",
      "metadata": {
        "id": "beac5d21",
        "outputId": "319c95f7-e6a7-4110-c8f2-db0443308407"
      },
      "outputs": [
        {
          "data": {
            "text/html": [
              "<div>\n",
              "<style scoped>\n",
              "    .dataframe tbody tr th:only-of-type {\n",
              "        vertical-align: middle;\n",
              "    }\n",
              "\n",
              "    .dataframe tbody tr th {\n",
              "        vertical-align: top;\n",
              "    }\n",
              "\n",
              "    .dataframe thead th {\n",
              "        text-align: right;\n",
              "    }\n",
              "</style>\n",
              "<table border=\"1\" class=\"dataframe\">\n",
              "  <thead>\n",
              "    <tr style=\"text-align: right;\">\n",
              "      <th></th>\n",
              "      <th>User-ID</th>\n",
              "      <th>ISBN</th>\n",
              "      <th>Book-Rating</th>\n",
              "      <th>Book-Title</th>\n",
              "      <th>Total_Rating_Count</th>\n",
              "      <th>Location</th>\n",
              "      <th>city</th>\n",
              "      <th>state</th>\n",
              "      <th>country</th>\n",
              "      <th>nan</th>\n",
              "    </tr>\n",
              "  </thead>\n",
              "  <tbody>\n",
              "    <tr>\n",
              "      <th>1</th>\n",
              "      <td>278418</td>\n",
              "      <td>0446520802</td>\n",
              "      <td>0</td>\n",
              "      <td>The Notebook</td>\n",
              "      <td>650</td>\n",
              "      <td>omaha, nebraska, usa</td>\n",
              "      <td>omaha</td>\n",
              "      <td>nebraska</td>\n",
              "      <td>usa</td>\n",
              "      <td>NaN</td>\n",
              "    </tr>\n",
              "    <tr>\n",
              "      <th>2</th>\n",
              "      <td>638</td>\n",
              "      <td>0446520802</td>\n",
              "      <td>0</td>\n",
              "      <td>The Notebook</td>\n",
              "      <td>650</td>\n",
              "      <td>san diego, california, usa</td>\n",
              "      <td>san diego</td>\n",
              "      <td>california</td>\n",
              "      <td>usa</td>\n",
              "      <td>NaN</td>\n",
              "    </tr>\n",
              "    <tr>\n",
              "      <th>3</th>\n",
              "      <td>3363</td>\n",
              "      <td>0446520802</td>\n",
              "      <td>0</td>\n",
              "      <td>The Notebook</td>\n",
              "      <td>650</td>\n",
              "      <td>knoxville, tennessee, usa</td>\n",
              "      <td>knoxville</td>\n",
              "      <td>tennessee</td>\n",
              "      <td>usa</td>\n",
              "      <td>NaN</td>\n",
              "    </tr>\n",
              "    <tr>\n",
              "      <th>4</th>\n",
              "      <td>7158</td>\n",
              "      <td>0446520802</td>\n",
              "      <td>10</td>\n",
              "      <td>The Notebook</td>\n",
              "      <td>650</td>\n",
              "      <td>omaha, nebraska, usa</td>\n",
              "      <td>omaha</td>\n",
              "      <td>nebraska</td>\n",
              "      <td>usa</td>\n",
              "      <td>NaN</td>\n",
              "    </tr>\n",
              "    <tr>\n",
              "      <th>5</th>\n",
              "      <td>8253</td>\n",
              "      <td>0446520802</td>\n",
              "      <td>10</td>\n",
              "      <td>The Notebook</td>\n",
              "      <td>650</td>\n",
              "      <td>tulsa, oklahoma, usa</td>\n",
              "      <td>tulsa</td>\n",
              "      <td>oklahoma</td>\n",
              "      <td>usa</td>\n",
              "      <td>NaN</td>\n",
              "    </tr>\n",
              "  </tbody>\n",
              "</table>\n",
              "</div>"
            ],
            "text/plain": [
              "   User-ID        ISBN  Book-Rating    Book-Title  Total_Rating_Count  \\\n",
              "1   278418  0446520802            0  The Notebook                 650   \n",
              "2      638  0446520802            0  The Notebook                 650   \n",
              "3     3363  0446520802            0  The Notebook                 650   \n",
              "4     7158  0446520802           10  The Notebook                 650   \n",
              "5     8253  0446520802           10  The Notebook                 650   \n",
              "\n",
              "                     Location       city        state country  nan  \n",
              "1        omaha, nebraska, usa      omaha     nebraska     usa  NaN  \n",
              "2  san diego, california, usa  san diego   california     usa  NaN  \n",
              "3   knoxville, tennessee, usa  knoxville    tennessee     usa  NaN  \n",
              "4        omaha, nebraska, usa      omaha     nebraska     usa  NaN  \n",
              "5        tulsa, oklahoma, usa      tulsa     oklahoma     usa  NaN  "
            ]
          },
          "execution_count": 60,
          "metadata": {},
          "output_type": "execute_result"
        }
      ],
      "source": [
        "# using regular expression for matching string with India and USA.\n",
        "\n",
        "country_rating = combined[combined['Location'].str.contains('usa|canada|united kingdom|germany|spain|austrailia|italy')]\n",
        "\n",
        "country_rating = country_rating.drop('Age', axis = 1)\n",
        "country_rating.head()"
      ]
    },
    {
      "cell_type": "code",
      "execution_count": null,
      "id": "93814982",
      "metadata": {
        "id": "93814982",
        "outputId": "a1bd6a11-3760-4812-d979-915a85098f84"
      },
      "outputs": [
        {
          "data": {
            "text/html": [
              "<div>\n",
              "<style scoped>\n",
              "    .dataframe tbody tr th:only-of-type {\n",
              "        vertical-align: middle;\n",
              "    }\n",
              "\n",
              "    .dataframe tbody tr th {\n",
              "        vertical-align: top;\n",
              "    }\n",
              "\n",
              "    .dataframe thead th {\n",
              "        text-align: right;\n",
              "    }\n",
              "</style>\n",
              "<table border=\"1\" class=\"dataframe\">\n",
              "  <thead>\n",
              "    <tr style=\"text-align: right;\">\n",
              "      <th>User-ID</th>\n",
              "      <th>8</th>\n",
              "      <th>9</th>\n",
              "      <th>14</th>\n",
              "      <th>16</th>\n",
              "      <th>17</th>\n",
              "      <th>26</th>\n",
              "      <th>32</th>\n",
              "      <th>39</th>\n",
              "      <th>42</th>\n",
              "      <th>44</th>\n",
              "      <th>...</th>\n",
              "      <th>278819</th>\n",
              "      <th>278820</th>\n",
              "      <th>278824</th>\n",
              "      <th>278828</th>\n",
              "      <th>278832</th>\n",
              "      <th>278836</th>\n",
              "      <th>278843</th>\n",
              "      <th>278844</th>\n",
              "      <th>278846</th>\n",
              "      <th>278854</th>\n",
              "    </tr>\n",
              "    <tr>\n",
              "      <th>Book-Title</th>\n",
              "      <th></th>\n",
              "      <th></th>\n",
              "      <th></th>\n",
              "      <th></th>\n",
              "      <th></th>\n",
              "      <th></th>\n",
              "      <th></th>\n",
              "      <th></th>\n",
              "      <th></th>\n",
              "      <th></th>\n",
              "      <th></th>\n",
              "      <th></th>\n",
              "      <th></th>\n",
              "      <th></th>\n",
              "      <th></th>\n",
              "      <th></th>\n",
              "      <th></th>\n",
              "      <th></th>\n",
              "      <th></th>\n",
              "      <th></th>\n",
              "      <th></th>\n",
              "    </tr>\n",
              "  </thead>\n",
              "  <tbody>\n",
              "    <tr>\n",
              "      <th>1984</th>\n",
              "      <td>0.0</td>\n",
              "      <td>0.0</td>\n",
              "      <td>0.0</td>\n",
              "      <td>0.0</td>\n",
              "      <td>0.0</td>\n",
              "      <td>0.0</td>\n",
              "      <td>0.0</td>\n",
              "      <td>0.0</td>\n",
              "      <td>0.0</td>\n",
              "      <td>0.0</td>\n",
              "      <td>...</td>\n",
              "      <td>0.0</td>\n",
              "      <td>0.0</td>\n",
              "      <td>0.0</td>\n",
              "      <td>0.0</td>\n",
              "      <td>0.0</td>\n",
              "      <td>0.0</td>\n",
              "      <td>0.0</td>\n",
              "      <td>0.0</td>\n",
              "      <td>0.0</td>\n",
              "      <td>0.0</td>\n",
              "    </tr>\n",
              "    <tr>\n",
              "      <th>1st to Die: A Novel</th>\n",
              "      <td>0.0</td>\n",
              "      <td>0.0</td>\n",
              "      <td>0.0</td>\n",
              "      <td>0.0</td>\n",
              "      <td>0.0</td>\n",
              "      <td>0.0</td>\n",
              "      <td>0.0</td>\n",
              "      <td>0.0</td>\n",
              "      <td>0.0</td>\n",
              "      <td>0.0</td>\n",
              "      <td>...</td>\n",
              "      <td>0.0</td>\n",
              "      <td>0.0</td>\n",
              "      <td>0.0</td>\n",
              "      <td>0.0</td>\n",
              "      <td>0.0</td>\n",
              "      <td>0.0</td>\n",
              "      <td>0.0</td>\n",
              "      <td>0.0</td>\n",
              "      <td>0.0</td>\n",
              "      <td>0.0</td>\n",
              "    </tr>\n",
              "    <tr>\n",
              "      <th>24 Hours</th>\n",
              "      <td>0.0</td>\n",
              "      <td>0.0</td>\n",
              "      <td>0.0</td>\n",
              "      <td>0.0</td>\n",
              "      <td>0.0</td>\n",
              "      <td>0.0</td>\n",
              "      <td>0.0</td>\n",
              "      <td>0.0</td>\n",
              "      <td>0.0</td>\n",
              "      <td>0.0</td>\n",
              "      <td>...</td>\n",
              "      <td>0.0</td>\n",
              "      <td>0.0</td>\n",
              "      <td>0.0</td>\n",
              "      <td>0.0</td>\n",
              "      <td>0.0</td>\n",
              "      <td>0.0</td>\n",
              "      <td>0.0</td>\n",
              "      <td>0.0</td>\n",
              "      <td>0.0</td>\n",
              "      <td>0.0</td>\n",
              "    </tr>\n",
              "    <tr>\n",
              "      <th>2nd Chance</th>\n",
              "      <td>0.0</td>\n",
              "      <td>0.0</td>\n",
              "      <td>0.0</td>\n",
              "      <td>0.0</td>\n",
              "      <td>0.0</td>\n",
              "      <td>0.0</td>\n",
              "      <td>0.0</td>\n",
              "      <td>0.0</td>\n",
              "      <td>0.0</td>\n",
              "      <td>0.0</td>\n",
              "      <td>...</td>\n",
              "      <td>0.0</td>\n",
              "      <td>0.0</td>\n",
              "      <td>0.0</td>\n",
              "      <td>0.0</td>\n",
              "      <td>0.0</td>\n",
              "      <td>0.0</td>\n",
              "      <td>0.0</td>\n",
              "      <td>0.0</td>\n",
              "      <td>0.0</td>\n",
              "      <td>0.0</td>\n",
              "    </tr>\n",
              "    <tr>\n",
              "      <th>4 Blondes</th>\n",
              "      <td>0.0</td>\n",
              "      <td>0.0</td>\n",
              "      <td>0.0</td>\n",
              "      <td>0.0</td>\n",
              "      <td>0.0</td>\n",
              "      <td>0.0</td>\n",
              "      <td>0.0</td>\n",
              "      <td>0.0</td>\n",
              "      <td>0.0</td>\n",
              "      <td>0.0</td>\n",
              "      <td>...</td>\n",
              "      <td>0.0</td>\n",
              "      <td>0.0</td>\n",
              "      <td>0.0</td>\n",
              "      <td>0.0</td>\n",
              "      <td>0.0</td>\n",
              "      <td>0.0</td>\n",
              "      <td>0.0</td>\n",
              "      <td>0.0</td>\n",
              "      <td>0.0</td>\n",
              "      <td>0.0</td>\n",
              "    </tr>\n",
              "    <tr>\n",
              "      <th>84 Charing Cross Road</th>\n",
              "      <td>0.0</td>\n",
              "      <td>0.0</td>\n",
              "      <td>0.0</td>\n",
              "      <td>0.0</td>\n",
              "      <td>0.0</td>\n",
              "      <td>0.0</td>\n",
              "      <td>0.0</td>\n",
              "      <td>0.0</td>\n",
              "      <td>0.0</td>\n",
              "      <td>0.0</td>\n",
              "      <td>...</td>\n",
              "      <td>0.0</td>\n",
              "      <td>0.0</td>\n",
              "      <td>0.0</td>\n",
              "      <td>0.0</td>\n",
              "      <td>0.0</td>\n",
              "      <td>0.0</td>\n",
              "      <td>0.0</td>\n",
              "      <td>0.0</td>\n",
              "      <td>0.0</td>\n",
              "      <td>0.0</td>\n",
              "    </tr>\n",
              "  </tbody>\n",
              "</table>\n",
              "<p>6 rows × 34266 columns</p>\n",
              "</div>"
            ],
            "text/plain": [
              "User-ID                8       9       14      16      17      26      32      \\\n",
              "Book-Title                                                                      \n",
              "1984                      0.0     0.0     0.0     0.0     0.0     0.0     0.0   \n",
              "1st to Die: A Novel       0.0     0.0     0.0     0.0     0.0     0.0     0.0   \n",
              "24 Hours                  0.0     0.0     0.0     0.0     0.0     0.0     0.0   \n",
              "2nd Chance                0.0     0.0     0.0     0.0     0.0     0.0     0.0   \n",
              "4 Blondes                 0.0     0.0     0.0     0.0     0.0     0.0     0.0   \n",
              "84 Charing Cross Road     0.0     0.0     0.0     0.0     0.0     0.0     0.0   \n",
              "\n",
              "User-ID                39      42      44      ...  278819  278820  278824  \\\n",
              "Book-Title                                     ...                           \n",
              "1984                      0.0     0.0     0.0  ...     0.0     0.0     0.0   \n",
              "1st to Die: A Novel       0.0     0.0     0.0  ...     0.0     0.0     0.0   \n",
              "24 Hours                  0.0     0.0     0.0  ...     0.0     0.0     0.0   \n",
              "2nd Chance                0.0     0.0     0.0  ...     0.0     0.0     0.0   \n",
              "4 Blondes                 0.0     0.0     0.0  ...     0.0     0.0     0.0   \n",
              "84 Charing Cross Road     0.0     0.0     0.0  ...     0.0     0.0     0.0   \n",
              "\n",
              "User-ID                278828  278832  278836  278843  278844  278846  278854  \n",
              "Book-Title                                                                     \n",
              "1984                      0.0     0.0     0.0     0.0     0.0     0.0     0.0  \n",
              "1st to Die: A Novel       0.0     0.0     0.0     0.0     0.0     0.0     0.0  \n",
              "24 Hours                  0.0     0.0     0.0     0.0     0.0     0.0     0.0  \n",
              "2nd Chance                0.0     0.0     0.0     0.0     0.0     0.0     0.0  \n",
              "4 Blondes                 0.0     0.0     0.0     0.0     0.0     0.0     0.0  \n",
              "84 Charing Cross Road     0.0     0.0     0.0     0.0     0.0     0.0     0.0  \n",
              "\n",
              "[6 rows x 34266 columns]"
            ]
          },
          "execution_count": 61,
          "metadata": {},
          "output_type": "execute_result"
        }
      ],
      "source": [
        "from scipy.sparse import csr_matrix\n",
        "\n",
        "country_rating = country_rating.drop_duplicates(['User-ID','Book-Title'])\n",
        "\n",
        "# creating a pivot table based on 'book-title' and 'user-id' having 'ratings' as values.\n",
        "\n",
        "country_rating_pivot = country_rating.pivot(index = 'Book-Title', columns = 'User-ID', values = 'Book-Rating').fillna(0)\n",
        "country_rating_pivot.head(6)"
      ]
    },
    {
      "cell_type": "code",
      "execution_count": null,
      "id": "a5be41c2",
      "metadata": {
        "id": "a5be41c2",
        "outputId": "17fa45d1-a1e6-4f3d-a3ee-1fff7e076013"
      },
      "outputs": [
        {
          "name": "stdout",
          "output_type": "stream",
          "text": [
            "34266 914\n"
          ]
        }
      ],
      "source": [
        "user = country_rating_pivot.shape[1]\n",
        "book = country_rating_pivot.shape[0]\n",
        "\n",
        "print(user, book)"
      ]
    },
    {
      "cell_type": "code",
      "execution_count": null,
      "id": "0204cb86",
      "metadata": {
        "id": "0204cb86"
      },
      "outputs": [],
      "source": [
        "# Creating matrix from pivot table. \n",
        "# Ratings are in a matrix form having one row for each book and one column for each user.\n",
        "# most of the values are zeros.\n",
        "\n",
        "country_rating_matrix = csr_matrix(country_rating_pivot.values)"
      ]
    },
    {
      "cell_type": "code",
      "execution_count": null,
      "id": "b777b817",
      "metadata": {
        "id": "b777b817",
        "outputId": "f0dff8de-cb1b-433a-be90-1216c4656a0a"
      },
      "outputs": [
        {
          "data": {
            "text/plain": [
              "NearestNeighbors(algorithm='brute', metric='cosine')"
            ]
          },
          "execution_count": 64,
          "metadata": {},
          "output_type": "execute_result"
        }
      ],
      "source": [
        "from sklearn.neighbors import NearestNeighbors\n",
        "\n",
        "# using 'cosine' metric for similarity constraint and 'brute' algorithm\n",
        "\n",
        "model = NearestNeighbors(metric = 'cosine', algorithm = 'brute')\n",
        "\n",
        "# fitting the matrix into knn model\n",
        "model.fit(country_rating_matrix)"
      ]
    },
    {
      "cell_type": "code",
      "execution_count": null,
      "id": "08a2b4d7",
      "metadata": {
        "id": "08a2b4d7",
        "outputId": "dae6cb7e-4520-42b6-beaf-abdebabffc08"
      },
      "outputs": [
        {
          "name": "stdout",
          "output_type": "stream",
          "text": [
            "297\n",
            "[[4.44089210e-16 8.05322233e-01 8.73990679e-01 9.15563348e-01\n",
            "  9.19395547e-01 9.19594378e-01 9.27858828e-01 9.28534418e-01\n",
            "  9.32166968e-01 9.32500287e-01 9.33104019e-01]]\n",
            "[[297  41 307 383 433  42 479 605 839 849 416]]\n"
          ]
        }
      ],
      "source": [
        "# Randomly selecting a book based on index number.\n",
        "\n",
        "# book_name = np.random.choice(country_rating_pivot.shape[0])\n",
        "print(book_name)\n",
        "\n",
        "# By using index number finding 10 nearest neighbors using kNN model.\n",
        "\n",
        "dist, indices = model.kneighbors(country_rating_pivot.iloc[book_name,:].values.reshape(1, -1), n_neighbors = 11)\n",
        "\n",
        "print(dist)\n",
        "print(indices)"
      ]
    },
    {
      "cell_type": "code",
      "execution_count": null,
      "id": "2097e560",
      "metadata": {
        "id": "2097e560",
        "outputId": "a4387d2e-fed0-4430-bc5a-0daf56fe3392"
      },
      "outputs": [
        {
          "data": {
            "text/plain": [
              "'High Fidelity'"
            ]
          },
          "execution_count": 66,
          "metadata": {},
          "output_type": "execute_result"
        }
      ],
      "source": [
        "# name of the book\n",
        "\n",
        "country_rating_pivot.index[book_name]"
      ]
    },
    {
      "cell_type": "code",
      "execution_count": null,
      "id": "a101cfe0",
      "metadata": {
        "id": "a101cfe0",
        "outputId": "3e887608-0569-4c2e-ac87-d34deda6c1a2"
      },
      "outputs": [
        {
          "name": "stdout",
          "output_type": "stream",
          "text": [
            "Recommendations for High Fidelity: \n",
            "\n",
            "1: About a Boy, with distance of 0.8053222326595483:\n",
            "2: How to Be Good, with distance of 0.8739906794392742:\n",
            "3: Me Talk Pretty One Day, with distance of 0.915563347589336:\n",
            "4: Notes from a Small Island, with distance of 0.9193955465354122:\n",
            "5: About a Boy (Movie Tie-In), with distance of 0.9195943775285194:\n",
            "6: Primary Colors: A Novel of Politics, with distance of 0.9278588278701534:\n",
            "7: The Beach, with distance of 0.9285344177668884:\n",
            "8: The World According to Garp, with distance of 0.9321669677950747:\n",
            "9: To Kill a Mockingbird, with distance of 0.9325002866058714:\n",
            "10: Naked, with distance of 0.9331040185186043:\n"
          ]
        }
      ],
      "source": [
        "# loop for printing recommended book names along with the distance with selected book.\n",
        "# lesser the distance , more the similarity between books based on ratings.\n",
        "listofbooks2 = []\n",
        "listofdistance2 = []\n",
        "\n",
        "for i in range(0, len(dist.flatten())):\n",
        "    if i == 0:\n",
        "        print(f'Recommendations for {country_rating_pivot.index[book_name]}:','\\n')\n",
        "    else:\n",
        "        print(f'{i}: {country_rating_pivot.index[indices.flatten()[i]]}, with distance of {dist.flatten()[i]}:')\n",
        "        \n",
        "        listofbooks2.append(country_rating_pivot.index[indices.flatten()[i]])\n",
        "        listofdistance2.append(dist.flatten()[i])\n",
        "        "
      ]
    },
    {
      "cell_type": "code",
      "execution_count": null,
      "id": "6a1deb89",
      "metadata": {
        "id": "6a1deb89",
        "outputId": "f3cd8d88-16e4-4b74-d76e-74aba66f9863"
      },
      "outputs": [
        {
          "data": {
            "text/html": [
              "<div>\n",
              "<style scoped>\n",
              "    .dataframe tbody tr th:only-of-type {\n",
              "        vertical-align: middle;\n",
              "    }\n",
              "\n",
              "    .dataframe tbody tr th {\n",
              "        vertical-align: top;\n",
              "    }\n",
              "\n",
              "    .dataframe thead th {\n",
              "        text-align: right;\n",
              "    }\n",
              "</style>\n",
              "<table border=\"1\" class=\"dataframe\">\n",
              "  <thead>\n",
              "    <tr style=\"text-align: right;\">\n",
              "      <th></th>\n",
              "      <th>Books</th>\n",
              "      <th>Distances</th>\n",
              "    </tr>\n",
              "  </thead>\n",
              "  <tbody>\n",
              "    <tr>\n",
              "      <th>1</th>\n",
              "      <td>About a Boy</td>\n",
              "      <td>0.805322</td>\n",
              "    </tr>\n",
              "    <tr>\n",
              "      <th>2</th>\n",
              "      <td>How to Be Good</td>\n",
              "      <td>0.873991</td>\n",
              "    </tr>\n",
              "    <tr>\n",
              "      <th>3</th>\n",
              "      <td>Me Talk Pretty One Day</td>\n",
              "      <td>0.915563</td>\n",
              "    </tr>\n",
              "    <tr>\n",
              "      <th>4</th>\n",
              "      <td>Notes from a Small Island</td>\n",
              "      <td>0.919396</td>\n",
              "    </tr>\n",
              "    <tr>\n",
              "      <th>5</th>\n",
              "      <td>About a Boy (Movie Tie-In)</td>\n",
              "      <td>0.919594</td>\n",
              "    </tr>\n",
              "    <tr>\n",
              "      <th>6</th>\n",
              "      <td>Primary Colors: A Novel of Politics</td>\n",
              "      <td>0.927859</td>\n",
              "    </tr>\n",
              "    <tr>\n",
              "      <th>7</th>\n",
              "      <td>The Beach</td>\n",
              "      <td>0.928534</td>\n",
              "    </tr>\n",
              "    <tr>\n",
              "      <th>8</th>\n",
              "      <td>The World According to Garp</td>\n",
              "      <td>0.932167</td>\n",
              "    </tr>\n",
              "    <tr>\n",
              "      <th>9</th>\n",
              "      <td>To Kill a Mockingbird</td>\n",
              "      <td>0.932500</td>\n",
              "    </tr>\n",
              "    <tr>\n",
              "      <th>10</th>\n",
              "      <td>Naked</td>\n",
              "      <td>0.933104</td>\n",
              "    </tr>\n",
              "  </tbody>\n",
              "</table>\n",
              "</div>"
            ],
            "text/plain": [
              "                                  Books  Distances\n",
              "1                           About a Boy   0.805322\n",
              "2                        How to Be Good   0.873991\n",
              "3                Me Talk Pretty One Day   0.915563\n",
              "4             Notes from a Small Island   0.919396\n",
              "5            About a Boy (Movie Tie-In)   0.919594\n",
              "6   Primary Colors: A Novel of Politics   0.927859\n",
              "7                             The Beach   0.928534\n",
              "8           The World According to Garp   0.932167\n",
              "9                 To Kill a Mockingbird   0.932500\n",
              "10                                Naked   0.933104"
            ]
          },
          "execution_count": 68,
          "metadata": {},
          "output_type": "execute_result"
        }
      ],
      "source": [
        "dataf2 = {'Books': listofbooks2, 'Distances': listofdistance2}\n",
        "db2 = pd.DataFrame(dataf2, index = [i for i in range(1,11)])\n",
        "db2\n",
        "# improved suggestions"
      ]
    },
    {
      "cell_type": "code",
      "execution_count": null,
      "id": "d8cc03b3",
      "metadata": {
        "id": "d8cc03b3",
        "outputId": "b8dc67e4-bba2-4516-a9c8-1cde438a8729"
      },
      "outputs": [
        {
          "data": {
            "text/html": [
              "<div>\n",
              "<style scoped>\n",
              "    .dataframe tbody tr th:only-of-type {\n",
              "        vertical-align: middle;\n",
              "    }\n",
              "\n",
              "    .dataframe tbody tr th {\n",
              "        vertical-align: top;\n",
              "    }\n",
              "\n",
              "    .dataframe thead th {\n",
              "        text-align: right;\n",
              "    }\n",
              "</style>\n",
              "<table border=\"1\" class=\"dataframe\">\n",
              "  <thead>\n",
              "    <tr style=\"text-align: right;\">\n",
              "      <th></th>\n",
              "      <th>Books</th>\n",
              "      <th>Distances</th>\n",
              "    </tr>\n",
              "  </thead>\n",
              "  <tbody>\n",
              "    <tr>\n",
              "      <th>1</th>\n",
              "      <td>About a Boy</td>\n",
              "      <td>0.829169</td>\n",
              "    </tr>\n",
              "    <tr>\n",
              "      <th>2</th>\n",
              "      <td>Me Talk Pretty One Day</td>\n",
              "      <td>0.900423</td>\n",
              "    </tr>\n",
              "    <tr>\n",
              "      <th>3</th>\n",
              "      <td>How to Be Good</td>\n",
              "      <td>0.911201</td>\n",
              "    </tr>\n",
              "    <tr>\n",
              "      <th>4</th>\n",
              "      <td>Bridget Jones's Diary</td>\n",
              "      <td>0.920475</td>\n",
              "    </tr>\n",
              "    <tr>\n",
              "      <th>5</th>\n",
              "      <td>About a Boy (Movie Tie-In)</td>\n",
              "      <td>0.926733</td>\n",
              "    </tr>\n",
              "    <tr>\n",
              "      <th>6</th>\n",
              "      <td>The House on Mango Street (Vintage Contemporar...</td>\n",
              "      <td>0.932362</td>\n",
              "    </tr>\n",
              "    <tr>\n",
              "      <th>7</th>\n",
              "      <td>Wicked: The Life and Times of the Wicked Witch...</td>\n",
              "      <td>0.940968</td>\n",
              "    </tr>\n",
              "    <tr>\n",
              "      <th>8</th>\n",
              "      <td>To Kill a Mockingbird</td>\n",
              "      <td>0.942361</td>\n",
              "    </tr>\n",
              "    <tr>\n",
              "      <th>9</th>\n",
              "      <td>The World According to Garp</td>\n",
              "      <td>0.944226</td>\n",
              "    </tr>\n",
              "    <tr>\n",
              "      <th>10</th>\n",
              "      <td>The Handmaid's Tale</td>\n",
              "      <td>0.944536</td>\n",
              "    </tr>\n",
              "  </tbody>\n",
              "</table>\n",
              "</div>"
            ],
            "text/plain": [
              "                                                Books  Distances\n",
              "1                                         About a Boy   0.829169\n",
              "2                              Me Talk Pretty One Day   0.900423\n",
              "3                                      How to Be Good   0.911201\n",
              "4                               Bridget Jones's Diary   0.920475\n",
              "5                          About a Boy (Movie Tie-In)   0.926733\n",
              "6   The House on Mango Street (Vintage Contemporar...   0.932362\n",
              "7   Wicked: The Life and Times of the Wicked Witch...   0.940968\n",
              "8                               To Kill a Mockingbird   0.942361\n",
              "9                         The World According to Garp   0.944226\n",
              "10                                The Handmaid's Tale   0.944536"
            ]
          },
          "execution_count": 69,
          "metadata": {},
          "output_type": "execute_result"
        }
      ],
      "source": [
        "# previous suggestions\n",
        "db1"
      ]
    },
    {
      "cell_type": "code",
      "execution_count": null,
      "id": "daf7a920",
      "metadata": {
        "id": "daf7a920"
      },
      "outputs": [],
      "source": [
        ""
      ]
    },
    {
      "cell_type": "markdown",
      "id": "2504b191",
      "metadata": {
        "id": "2504b191"
      },
      "source": [
        "## Popularity based (Top In a given place)\n"
      ]
    },
    {
      "cell_type": "code",
      "execution_count": null,
      "id": "76567bf6",
      "metadata": {
        "id": "76567bf6",
        "outputId": "7329167f-8b30-4bf1-ca37-9fe6b3bad439"
      },
      "outputs": [
        {
          "name": "stdout",
          "output_type": "stream",
          "text": [
            "<class 'pandas.core.frame.DataFrame'>\n",
            "Int64Index: 1031136 entries, 0 to 1031135\n",
            "Data columns (total 16 columns):\n",
            " #   Column               Non-Null Count    Dtype \n",
            "---  ------               --------------    ----- \n",
            " 0   ISBN                 1031136 non-null  object\n",
            " 1   Book-Title           1031136 non-null  object\n",
            " 2   Book-Author          1031135 non-null  object\n",
            " 3   Year-Of-Publication  1031136 non-null  int32 \n",
            " 4   Publisher            1031134 non-null  object\n",
            " 5   Image-URL-S          1031136 non-null  object\n",
            " 6   Image-URL-M          1031136 non-null  object\n",
            " 7   Image-URL-L          1031132 non-null  object\n",
            " 8   User-ID              1031136 non-null  int64 \n",
            " 9   Book-Rating          1031136 non-null  int64 \n",
            " 10  Location             1031136 non-null  object\n",
            " 11  Age                  1031136 non-null  int32 \n",
            " 12  city                 1031136 non-null  object\n",
            " 13  state                1031136 non-null  object\n",
            " 14  country              1031136 non-null  object\n",
            " 15  nan                  0 non-null        object\n",
            "dtypes: int32(2), int64(2), object(12)\n",
            "memory usage: 125.9+ MB\n"
          ]
        }
      ],
      "source": [
        "dataset = pd.merge(books, ratings, on='ISBN', how='inner')\n",
        "dataset = pd.merge(dataset, Users_defined, on='User-ID', how='inner')\n",
        "dataset.info()"
      ]
    },
    {
      "cell_type": "code",
      "execution_count": null,
      "id": "fb5654e9",
      "metadata": {
        "id": "fb5654e9",
        "outputId": "0cd65876-ce8a-4785-8a02-5ed9cd87cc12"
      },
      "outputs": [
        {
          "data": {
            "text/plain": [
              "(383842, 16)"
            ]
          },
          "execution_count": 71,
          "metadata": {},
          "output_type": "execute_result"
        }
      ],
      "source": [
        "## Explicit Ratings Dataset\n",
        "df1 = dataset[dataset['Book-Rating'] != 0]\n",
        "df1 = df1.reset_index(drop = True)\n",
        "df1.shape"
      ]
    },
    {
      "cell_type": "code",
      "execution_count": null,
      "id": "50a5fc80",
      "metadata": {
        "id": "50a5fc80",
        "outputId": "f184ace4-6140-4a80-9f59-8891af65a34b"
      },
      "outputs": [
        {
          "data": {
            "text/html": [
              "<div>\n",
              "<style scoped>\n",
              "    .dataframe tbody tr th:only-of-type {\n",
              "        vertical-align: middle;\n",
              "    }\n",
              "\n",
              "    .dataframe tbody tr th {\n",
              "        vertical-align: top;\n",
              "    }\n",
              "\n",
              "    .dataframe thead th {\n",
              "        text-align: right;\n",
              "    }\n",
              "</style>\n",
              "<table border=\"1\" class=\"dataframe\">\n",
              "  <thead>\n",
              "    <tr style=\"text-align: right;\">\n",
              "      <th></th>\n",
              "      <th>ISBN</th>\n",
              "      <th>Book-Title</th>\n",
              "      <th>Book-Author</th>\n",
              "      <th>Year-Of-Publication</th>\n",
              "      <th>Publisher</th>\n",
              "      <th>Image-URL-S</th>\n",
              "      <th>Image-URL-M</th>\n",
              "      <th>Image-URL-L</th>\n",
              "      <th>User-ID</th>\n",
              "      <th>Book-Rating</th>\n",
              "      <th>Location</th>\n",
              "      <th>Age</th>\n",
              "      <th>city</th>\n",
              "      <th>state</th>\n",
              "      <th>country</th>\n",
              "      <th>nan</th>\n",
              "    </tr>\n",
              "  </thead>\n",
              "  <tbody>\n",
              "    <tr>\n",
              "      <th>0</th>\n",
              "      <td>0002005018</td>\n",
              "      <td>Clara Callan</td>\n",
              "      <td>Richard Bruce Wright</td>\n",
              "      <td>2001</td>\n",
              "      <td>HarperFlamingo Canada</td>\n",
              "      <td>http://images.amazon.com/images/P/0002005018.0...</td>\n",
              "      <td>http://images.amazon.com/images/P/0002005018.0...</td>\n",
              "      <td>http://images.amazon.com/images/P/0002005018.0...</td>\n",
              "      <td>8</td>\n",
              "      <td>5</td>\n",
              "      <td>timmins, ontario, canada</td>\n",
              "      <td>34</td>\n",
              "      <td>timmins</td>\n",
              "      <td>ontario</td>\n",
              "      <td>canada</td>\n",
              "      <td>NaN</td>\n",
              "    </tr>\n",
              "    <tr>\n",
              "      <th>1</th>\n",
              "      <td>074322678X</td>\n",
              "      <td>Where You'll Find Me: And Other Stories</td>\n",
              "      <td>Ann Beattie</td>\n",
              "      <td>2002</td>\n",
              "      <td>Scribner</td>\n",
              "      <td>http://images.amazon.com/images/P/074322678X.0...</td>\n",
              "      <td>http://images.amazon.com/images/P/074322678X.0...</td>\n",
              "      <td>http://images.amazon.com/images/P/074322678X.0...</td>\n",
              "      <td>8</td>\n",
              "      <td>5</td>\n",
              "      <td>timmins, ontario, canada</td>\n",
              "      <td>34</td>\n",
              "      <td>timmins</td>\n",
              "      <td>ontario</td>\n",
              "      <td>canada</td>\n",
              "      <td>NaN</td>\n",
              "    </tr>\n",
              "    <tr>\n",
              "      <th>2</th>\n",
              "      <td>0887841740</td>\n",
              "      <td>The Middle Stories</td>\n",
              "      <td>Sheila Heti</td>\n",
              "      <td>2004</td>\n",
              "      <td>House of Anansi Press</td>\n",
              "      <td>http://images.amazon.com/images/P/0887841740.0...</td>\n",
              "      <td>http://images.amazon.com/images/P/0887841740.0...</td>\n",
              "      <td>http://images.amazon.com/images/P/0887841740.0...</td>\n",
              "      <td>8</td>\n",
              "      <td>5</td>\n",
              "      <td>timmins, ontario, canada</td>\n",
              "      <td>34</td>\n",
              "      <td>timmins</td>\n",
              "      <td>ontario</td>\n",
              "      <td>canada</td>\n",
              "      <td>NaN</td>\n",
              "    </tr>\n",
              "    <tr>\n",
              "      <th>3</th>\n",
              "      <td>1552041778</td>\n",
              "      <td>Jane Doe</td>\n",
              "      <td>R. J. Kaiser</td>\n",
              "      <td>1999</td>\n",
              "      <td>Mira Books</td>\n",
              "      <td>http://images.amazon.com/images/P/1552041778.0...</td>\n",
              "      <td>http://images.amazon.com/images/P/1552041778.0...</td>\n",
              "      <td>http://images.amazon.com/images/P/1552041778.0...</td>\n",
              "      <td>8</td>\n",
              "      <td>5</td>\n",
              "      <td>timmins, ontario, canada</td>\n",
              "      <td>34</td>\n",
              "      <td>timmins</td>\n",
              "      <td>ontario</td>\n",
              "      <td>canada</td>\n",
              "      <td>NaN</td>\n",
              "    </tr>\n",
              "    <tr>\n",
              "      <th>4</th>\n",
              "      <td>1567407781</td>\n",
              "      <td>The Witchfinder (Amos Walker Mystery Series)</td>\n",
              "      <td>Loren D. Estleman</td>\n",
              "      <td>1998</td>\n",
              "      <td>Brilliance Audio - Trade</td>\n",
              "      <td>http://images.amazon.com/images/P/1567407781.0...</td>\n",
              "      <td>http://images.amazon.com/images/P/1567407781.0...</td>\n",
              "      <td>http://images.amazon.com/images/P/1567407781.0...</td>\n",
              "      <td>8</td>\n",
              "      <td>6</td>\n",
              "      <td>timmins, ontario, canada</td>\n",
              "      <td>34</td>\n",
              "      <td>timmins</td>\n",
              "      <td>ontario</td>\n",
              "      <td>canada</td>\n",
              "      <td>NaN</td>\n",
              "    </tr>\n",
              "  </tbody>\n",
              "</table>\n",
              "</div>"
            ],
            "text/plain": [
              "         ISBN                                    Book-Title  \\\n",
              "0  0002005018                                  Clara Callan   \n",
              "1  074322678X       Where You'll Find Me: And Other Stories   \n",
              "2  0887841740                            The Middle Stories   \n",
              "3  1552041778                                      Jane Doe   \n",
              "4  1567407781  The Witchfinder (Amos Walker Mystery Series)   \n",
              "\n",
              "            Book-Author  Year-Of-Publication                 Publisher  \\\n",
              "0  Richard Bruce Wright                 2001     HarperFlamingo Canada   \n",
              "1           Ann Beattie                 2002                  Scribner   \n",
              "2           Sheila Heti                 2004     House of Anansi Press   \n",
              "3          R. J. Kaiser                 1999                Mira Books   \n",
              "4     Loren D. Estleman                 1998  Brilliance Audio - Trade   \n",
              "\n",
              "                                         Image-URL-S  \\\n",
              "0  http://images.amazon.com/images/P/0002005018.0...   \n",
              "1  http://images.amazon.com/images/P/074322678X.0...   \n",
              "2  http://images.amazon.com/images/P/0887841740.0...   \n",
              "3  http://images.amazon.com/images/P/1552041778.0...   \n",
              "4  http://images.amazon.com/images/P/1567407781.0...   \n",
              "\n",
              "                                         Image-URL-M  \\\n",
              "0  http://images.amazon.com/images/P/0002005018.0...   \n",
              "1  http://images.amazon.com/images/P/074322678X.0...   \n",
              "2  http://images.amazon.com/images/P/0887841740.0...   \n",
              "3  http://images.amazon.com/images/P/1552041778.0...   \n",
              "4  http://images.amazon.com/images/P/1567407781.0...   \n",
              "\n",
              "                                         Image-URL-L  User-ID  Book-Rating  \\\n",
              "0  http://images.amazon.com/images/P/0002005018.0...        8            5   \n",
              "1  http://images.amazon.com/images/P/074322678X.0...        8            5   \n",
              "2  http://images.amazon.com/images/P/0887841740.0...        8            5   \n",
              "3  http://images.amazon.com/images/P/1552041778.0...        8            5   \n",
              "4  http://images.amazon.com/images/P/1567407781.0...        8            6   \n",
              "\n",
              "                   Location  Age     city     state  country  nan  \n",
              "0  timmins, ontario, canada   34  timmins   ontario   canada  NaN  \n",
              "1  timmins, ontario, canada   34  timmins   ontario   canada  NaN  \n",
              "2  timmins, ontario, canada   34  timmins   ontario   canada  NaN  \n",
              "3  timmins, ontario, canada   34  timmins   ontario   canada  NaN  \n",
              "4  timmins, ontario, canada   34  timmins   ontario   canada  NaN  "
            ]
          },
          "execution_count": 72,
          "metadata": {},
          "output_type": "execute_result"
        }
      ],
      "source": [
        "df1.head()"
      ]
    },
    {
      "cell_type": "code",
      "execution_count": null,
      "id": "48a17e76",
      "metadata": {
        "id": "48a17e76",
        "outputId": "38d2a080-d09c-4045-c9e0-80dccfa3d0b6"
      },
      "outputs": [
        {
          "data": {
            "text/plain": [
              "(647294, 16)"
            ]
          },
          "execution_count": 73,
          "metadata": {},
          "output_type": "execute_result"
        }
      ],
      "source": [
        "## Implicit Ratings Dataset\n",
        "df2 = dataset[dataset['Book-Rating'] == 0]\n",
        "df2 = df2.reset_index(drop = True)\n",
        "df2.shape"
      ]
    },
    {
      "cell_type": "code",
      "execution_count": null,
      "id": "75d35a0f",
      "metadata": {
        "id": "75d35a0f"
      },
      "outputs": [],
      "source": [
        "def unique_places(dataframe, place):\n",
        "    place = place.lower()\n",
        "\n",
        "    if place in list(dataframe['city'].unique()):\n",
        "        return dataframe[dataframe['city'] == place]\n",
        "    elif place in list(dataframe['state'].unique()):\n",
        "        return dataframe[dataframe['state'] == place]\n",
        "    elif place in list(dataframe['country'].unique()):\n",
        "        return dataframe[dataframe['country'] == place]\n",
        "    else:\n",
        "        return \"Invalid Entry\""
      ]
    },
    {
      "cell_type": "code",
      "execution_count": null,
      "id": "0f09b530",
      "metadata": {
        "id": "0f09b530",
        "outputId": "2828c4d5-df3a-4836-8d70-51c50d262082"
      },
      "outputs": [
        {
          "name": "stdout",
          "output_type": "stream",
          "text": [
            "Enter the name of place: hyderabad\n"
          ]
        },
        {
          "data": {
            "text/html": [
              "<div>\n",
              "<style scoped>\n",
              "    .dataframe tbody tr th:only-of-type {\n",
              "        vertical-align: middle;\n",
              "    }\n",
              "\n",
              "    .dataframe tbody tr th {\n",
              "        vertical-align: top;\n",
              "    }\n",
              "\n",
              "    .dataframe thead th {\n",
              "        text-align: right;\n",
              "    }\n",
              "</style>\n",
              "<table border=\"1\" class=\"dataframe\">\n",
              "  <thead>\n",
              "    <tr style=\"text-align: right;\">\n",
              "      <th></th>\n",
              "      <th>ISBN</th>\n",
              "      <th>Book-Title</th>\n",
              "      <th>Book-Author</th>\n",
              "      <th>Year-Of-Publication</th>\n",
              "      <th>Publisher</th>\n",
              "      <th>Image-URL-S</th>\n",
              "      <th>Image-URL-M</th>\n",
              "      <th>Image-URL-L</th>\n",
              "      <th>User-ID</th>\n",
              "      <th>Book-Rating</th>\n",
              "      <th>Location</th>\n",
              "      <th>Age</th>\n",
              "      <th>city</th>\n",
              "      <th>state</th>\n",
              "      <th>country</th>\n",
              "      <th>nan</th>\n",
              "    </tr>\n",
              "  </thead>\n",
              "  <tbody>\n",
              "    <tr>\n",
              "      <th>332395</th>\n",
              "      <td>0439136369</td>\n",
              "      <td>Harry Potter and the Prisoner of Azkaban (Book 3)</td>\n",
              "      <td>J. K. Rowling</td>\n",
              "      <td>2001</td>\n",
              "      <td>Scholastic</td>\n",
              "      <td>http://images.amazon.com/images/P/0439136369.0...</td>\n",
              "      <td>http://images.amazon.com/images/P/0439136369.0...</td>\n",
              "      <td>http://images.amazon.com/images/P/0439136369.0...</td>\n",
              "      <td>263793</td>\n",
              "      <td>10</td>\n",
              "      <td>hyderabad, andhra pradesh, india</td>\n",
              "      <td>14</td>\n",
              "      <td>hyderabad</td>\n",
              "      <td>andhra pradesh</td>\n",
              "      <td>india</td>\n",
              "      <td>NaN</td>\n",
              "    </tr>\n",
              "    <tr>\n",
              "      <th>332396</th>\n",
              "      <td>0440431808</td>\n",
              "      <td>From the Mixed-Up Files of Mrs. Basil E. Frank...</td>\n",
              "      <td>E. L. Konigsburg</td>\n",
              "      <td>1977</td>\n",
              "      <td>Yearling Books</td>\n",
              "      <td>http://images.amazon.com/images/P/0440431808.0...</td>\n",
              "      <td>http://images.amazon.com/images/P/0440431808.0...</td>\n",
              "      <td>http://images.amazon.com/images/P/0440431808.0...</td>\n",
              "      <td>263793</td>\n",
              "      <td>10</td>\n",
              "      <td>hyderabad, andhra pradesh, india</td>\n",
              "      <td>14</td>\n",
              "      <td>hyderabad</td>\n",
              "      <td>andhra pradesh</td>\n",
              "      <td>india</td>\n",
              "      <td>NaN</td>\n",
              "    </tr>\n",
              "    <tr>\n",
              "      <th>332397</th>\n",
              "      <td>0553212494</td>\n",
              "      <td>Treasure Island (Bantam Classic)</td>\n",
              "      <td>ROBERT LOUIS STEVENSON</td>\n",
              "      <td>1982</td>\n",
              "      <td>Bantam</td>\n",
              "      <td>http://images.amazon.com/images/P/0553212494.0...</td>\n",
              "      <td>http://images.amazon.com/images/P/0553212494.0...</td>\n",
              "      <td>http://images.amazon.com/images/P/0553212494.0...</td>\n",
              "      <td>263793</td>\n",
              "      <td>10</td>\n",
              "      <td>hyderabad, andhra pradesh, india</td>\n",
              "      <td>14</td>\n",
              "      <td>hyderabad</td>\n",
              "      <td>andhra pradesh</td>\n",
              "      <td>india</td>\n",
              "      <td>NaN</td>\n",
              "    </tr>\n",
              "    <tr>\n",
              "      <th>332398</th>\n",
              "      <td>0140025324</td>\n",
              "      <td>Service with a smile</td>\n",
              "      <td>P. G Wodehouse</td>\n",
              "      <td>1975</td>\n",
              "      <td>Penguin</td>\n",
              "      <td>http://images.amazon.com/images/P/0140025324.0...</td>\n",
              "      <td>http://images.amazon.com/images/P/0140025324.0...</td>\n",
              "      <td>http://images.amazon.com/images/P/0140025324.0...</td>\n",
              "      <td>263793</td>\n",
              "      <td>9</td>\n",
              "      <td>hyderabad, andhra pradesh, india</td>\n",
              "      <td>14</td>\n",
              "      <td>hyderabad</td>\n",
              "      <td>andhra pradesh</td>\n",
              "      <td>india</td>\n",
              "      <td>NaN</td>\n",
              "    </tr>\n",
              "    <tr>\n",
              "      <th>332399</th>\n",
              "      <td>0140025707</td>\n",
              "      <td>Galahad at Blandings</td>\n",
              "      <td>P. G. Wodehouse</td>\n",
              "      <td>1995</td>\n",
              "      <td>Penguin Books</td>\n",
              "      <td>http://images.amazon.com/images/P/0140025707.0...</td>\n",
              "      <td>http://images.amazon.com/images/P/0140025707.0...</td>\n",
              "      <td>http://images.amazon.com/images/P/0140025707.0...</td>\n",
              "      <td>263793</td>\n",
              "      <td>8</td>\n",
              "      <td>hyderabad, andhra pradesh, india</td>\n",
              "      <td>14</td>\n",
              "      <td>hyderabad</td>\n",
              "      <td>andhra pradesh</td>\n",
              "      <td>india</td>\n",
              "      <td>NaN</td>\n",
              "    </tr>\n",
              "    <tr>\n",
              "      <th>332400</th>\n",
              "      <td>0006944035</td>\n",
              "      <td>Secret Island / Secret Mountain (Two-in-ones)</td>\n",
              "      <td>Enid Blyton</td>\n",
              "      <td>1994</td>\n",
              "      <td>HarperCollins Publishers</td>\n",
              "      <td>http://images.amazon.com/images/P/0006944035.0...</td>\n",
              "      <td>http://images.amazon.com/images/P/0006944035.0...</td>\n",
              "      <td>http://images.amazon.com/images/P/0006944035.0...</td>\n",
              "      <td>263793</td>\n",
              "      <td>10</td>\n",
              "      <td>hyderabad, andhra pradesh, india</td>\n",
              "      <td>14</td>\n",
              "      <td>hyderabad</td>\n",
              "      <td>andhra pradesh</td>\n",
              "      <td>india</td>\n",
              "      <td>NaN</td>\n",
              "    </tr>\n",
              "    <tr>\n",
              "      <th>332401</th>\n",
              "      <td>0521397928</td>\n",
              "      <td>New Horizons - Science 5-16 (New Horizons Scie...</td>\n",
              "      <td>New Horizons Science</td>\n",
              "      <td>1995</td>\n",
              "      <td>Cambridge University Press</td>\n",
              "      <td>http://images.amazon.com/images/P/0521397928.0...</td>\n",
              "      <td>http://images.amazon.com/images/P/0521397928.0...</td>\n",
              "      <td>http://images.amazon.com/images/P/0521397928.0...</td>\n",
              "      <td>263793</td>\n",
              "      <td>10</td>\n",
              "      <td>hyderabad, andhra pradesh, india</td>\n",
              "      <td>14</td>\n",
              "      <td>hyderabad</td>\n",
              "      <td>andhra pradesh</td>\n",
              "      <td>india</td>\n",
              "      <td>NaN</td>\n",
              "    </tr>\n",
              "    <tr>\n",
              "      <th>332402</th>\n",
              "      <td>0671505173</td>\n",
              "      <td>CROSS COUNTRY CRIME (HARDY BOYS 134) : CROSS C...</td>\n",
              "      <td>Franklin W. Dixon</td>\n",
              "      <td>1995</td>\n",
              "      <td>Aladdin</td>\n",
              "      <td>http://images.amazon.com/images/P/0671505173.0...</td>\n",
              "      <td>http://images.amazon.com/images/P/0671505173.0...</td>\n",
              "      <td>http://images.amazon.com/images/P/0671505173.0...</td>\n",
              "      <td>263793</td>\n",
              "      <td>7</td>\n",
              "      <td>hyderabad, andhra pradesh, india</td>\n",
              "      <td>14</td>\n",
              "      <td>hyderabad</td>\n",
              "      <td>andhra pradesh</td>\n",
              "      <td>india</td>\n",
              "      <td>NaN</td>\n",
              "    </tr>\n",
              "    <tr>\n",
              "      <th>368782</th>\n",
              "      <td>0262193388</td>\n",
              "      <td>The Art of Prolog, Second Edition: Advanced Pr...</td>\n",
              "      <td>Leon Sterling</td>\n",
              "      <td>1994</td>\n",
              "      <td>The MIT Press</td>\n",
              "      <td>http://images.amazon.com/images/P/0262193388.0...</td>\n",
              "      <td>http://images.amazon.com/images/P/0262193388.0...</td>\n",
              "      <td>http://images.amazon.com/images/P/0262193388.0...</td>\n",
              "      <td>32938</td>\n",
              "      <td>10</td>\n",
              "      <td>hyderabad, andhrapradesh, india</td>\n",
              "      <td>23</td>\n",
              "      <td>hyderabad</td>\n",
              "      <td>andhrapradesh</td>\n",
              "      <td>india</td>\n",
              "      <td>NaN</td>\n",
              "    </tr>\n",
              "    <tr>\n",
              "      <th>374576</th>\n",
              "      <td>188927402X</td>\n",
              "      <td>Naked in a Pinstriped Suit</td>\n",
              "      <td>Al Bowers</td>\n",
              "      <td>1997</td>\n",
              "      <td>Posterity Press (MD)</td>\n",
              "      <td>http://images.amazon.com/images/P/188927402X.0...</td>\n",
              "      <td>http://images.amazon.com/images/P/188927402X.0...</td>\n",
              "      <td>http://images.amazon.com/images/P/188927402X.0...</td>\n",
              "      <td>72660</td>\n",
              "      <td>8</td>\n",
              "      <td>hyderabad, n/a, india</td>\n",
              "      <td>42</td>\n",
              "      <td>hyderabad</td>\n",
              "      <td>n/a</td>\n",
              "      <td>india</td>\n",
              "      <td>NaN</td>\n",
              "    </tr>\n",
              "  </tbody>\n",
              "</table>\n",
              "</div>"
            ],
            "text/plain": [
              "              ISBN                                         Book-Title  \\\n",
              "332395  0439136369  Harry Potter and the Prisoner of Azkaban (Book 3)   \n",
              "332396  0440431808  From the Mixed-Up Files of Mrs. Basil E. Frank...   \n",
              "332397  0553212494                   Treasure Island (Bantam Classic)   \n",
              "332398  0140025324                               Service with a smile   \n",
              "332399  0140025707                               Galahad at Blandings   \n",
              "332400  0006944035      Secret Island / Secret Mountain (Two-in-ones)   \n",
              "332401  0521397928  New Horizons - Science 5-16 (New Horizons Scie...   \n",
              "332402  0671505173  CROSS COUNTRY CRIME (HARDY BOYS 134) : CROSS C...   \n",
              "368782  0262193388  The Art of Prolog, Second Edition: Advanced Pr...   \n",
              "374576  188927402X                         Naked in a Pinstriped Suit   \n",
              "\n",
              "                   Book-Author  Year-Of-Publication  \\\n",
              "332395           J. K. Rowling                 2001   \n",
              "332396        E. L. Konigsburg                 1977   \n",
              "332397  ROBERT LOUIS STEVENSON                 1982   \n",
              "332398          P. G Wodehouse                 1975   \n",
              "332399         P. G. Wodehouse                 1995   \n",
              "332400             Enid Blyton                 1994   \n",
              "332401    New Horizons Science                 1995   \n",
              "332402       Franklin W. Dixon                 1995   \n",
              "368782           Leon Sterling                 1994   \n",
              "374576               Al Bowers                 1997   \n",
              "\n",
              "                         Publisher  \\\n",
              "332395                  Scholastic   \n",
              "332396              Yearling Books   \n",
              "332397                      Bantam   \n",
              "332398                     Penguin   \n",
              "332399               Penguin Books   \n",
              "332400    HarperCollins Publishers   \n",
              "332401  Cambridge University Press   \n",
              "332402                     Aladdin   \n",
              "368782               The MIT Press   \n",
              "374576        Posterity Press (MD)   \n",
              "\n",
              "                                              Image-URL-S  \\\n",
              "332395  http://images.amazon.com/images/P/0439136369.0...   \n",
              "332396  http://images.amazon.com/images/P/0440431808.0...   \n",
              "332397  http://images.amazon.com/images/P/0553212494.0...   \n",
              "332398  http://images.amazon.com/images/P/0140025324.0...   \n",
              "332399  http://images.amazon.com/images/P/0140025707.0...   \n",
              "332400  http://images.amazon.com/images/P/0006944035.0...   \n",
              "332401  http://images.amazon.com/images/P/0521397928.0...   \n",
              "332402  http://images.amazon.com/images/P/0671505173.0...   \n",
              "368782  http://images.amazon.com/images/P/0262193388.0...   \n",
              "374576  http://images.amazon.com/images/P/188927402X.0...   \n",
              "\n",
              "                                              Image-URL-M  \\\n",
              "332395  http://images.amazon.com/images/P/0439136369.0...   \n",
              "332396  http://images.amazon.com/images/P/0440431808.0...   \n",
              "332397  http://images.amazon.com/images/P/0553212494.0...   \n",
              "332398  http://images.amazon.com/images/P/0140025324.0...   \n",
              "332399  http://images.amazon.com/images/P/0140025707.0...   \n",
              "332400  http://images.amazon.com/images/P/0006944035.0...   \n",
              "332401  http://images.amazon.com/images/P/0521397928.0...   \n",
              "332402  http://images.amazon.com/images/P/0671505173.0...   \n",
              "368782  http://images.amazon.com/images/P/0262193388.0...   \n",
              "374576  http://images.amazon.com/images/P/188927402X.0...   \n",
              "\n",
              "                                              Image-URL-L  User-ID  \\\n",
              "332395  http://images.amazon.com/images/P/0439136369.0...   263793   \n",
              "332396  http://images.amazon.com/images/P/0440431808.0...   263793   \n",
              "332397  http://images.amazon.com/images/P/0553212494.0...   263793   \n",
              "332398  http://images.amazon.com/images/P/0140025324.0...   263793   \n",
              "332399  http://images.amazon.com/images/P/0140025707.0...   263793   \n",
              "332400  http://images.amazon.com/images/P/0006944035.0...   263793   \n",
              "332401  http://images.amazon.com/images/P/0521397928.0...   263793   \n",
              "332402  http://images.amazon.com/images/P/0671505173.0...   263793   \n",
              "368782  http://images.amazon.com/images/P/0262193388.0...    32938   \n",
              "374576  http://images.amazon.com/images/P/188927402X.0...    72660   \n",
              "\n",
              "        Book-Rating                          Location  Age       city  \\\n",
              "332395           10  hyderabad, andhra pradesh, india   14  hyderabad   \n",
              "332396           10  hyderabad, andhra pradesh, india   14  hyderabad   \n",
              "332397           10  hyderabad, andhra pradesh, india   14  hyderabad   \n",
              "332398            9  hyderabad, andhra pradesh, india   14  hyderabad   \n",
              "332399            8  hyderabad, andhra pradesh, india   14  hyderabad   \n",
              "332400           10  hyderabad, andhra pradesh, india   14  hyderabad   \n",
              "332401           10  hyderabad, andhra pradesh, india   14  hyderabad   \n",
              "332402            7  hyderabad, andhra pradesh, india   14  hyderabad   \n",
              "368782           10   hyderabad, andhrapradesh, india   23  hyderabad   \n",
              "374576            8             hyderabad, n/a, india   42  hyderabad   \n",
              "\n",
              "                  state country  nan  \n",
              "332395   andhra pradesh   india  NaN  \n",
              "332396   andhra pradesh   india  NaN  \n",
              "332397   andhra pradesh   india  NaN  \n",
              "332398   andhra pradesh   india  NaN  \n",
              "332399   andhra pradesh   india  NaN  \n",
              "332400   andhra pradesh   india  NaN  \n",
              "332401   andhra pradesh   india  NaN  \n",
              "332402   andhra pradesh   india  NaN  \n",
              "368782    andhrapradesh   india  NaN  \n",
              "374576              n/a   india  NaN  "
            ]
          },
          "execution_count": 75,
          "metadata": {},
          "output_type": "execute_result"
        }
      ],
      "source": [
        "place = input(\"Enter the name of place: \")\n",
        "data = unique_places(df1, place)\n",
        "data "
      ]
    },
    {
      "cell_type": "code",
      "execution_count": null,
      "id": "94b34305",
      "metadata": {
        "id": "94b34305"
      },
      "outputs": [],
      "source": [
        ""
      ]
    },
    {
      "cell_type": "code",
      "execution_count": null,
      "id": "791fc192",
      "metadata": {
        "id": "791fc192"
      },
      "outputs": [],
      "source": [
        ""
      ]
    },
    {
      "cell_type": "markdown",
      "id": "49c8492b",
      "metadata": {
        "id": "49c8492b"
      },
      "source": [
        "## Weighted hybrid method:"
      ]
    },
    {
      "cell_type": "code",
      "execution_count": null,
      "id": "d3e97111",
      "metadata": {
        "id": "d3e97111",
        "outputId": "8c97da4e-77cc-422d-e71b-e92f49577aa0"
      },
      "outputs": [
        {
          "data": {
            "text/html": [
              "<div>\n",
              "<style scoped>\n",
              "    .dataframe tbody tr th:only-of-type {\n",
              "        vertical-align: middle;\n",
              "    }\n",
              "\n",
              "    .dataframe tbody tr th {\n",
              "        vertical-align: top;\n",
              "    }\n",
              "\n",
              "    .dataframe thead th {\n",
              "        text-align: right;\n",
              "    }\n",
              "</style>\n",
              "<table border=\"1\" class=\"dataframe\">\n",
              "  <thead>\n",
              "    <tr style=\"text-align: right;\">\n",
              "      <th></th>\n",
              "      <th>ISBN</th>\n",
              "      <th>Book-Title</th>\n",
              "      <th>Book-Author</th>\n",
              "      <th>Year-Of-Publication_x</th>\n",
              "      <th>Publisher</th>\n",
              "      <th>Image-URL-S</th>\n",
              "      <th>Image-URL-M</th>\n",
              "      <th>Image-URL-L</th>\n",
              "      <th>User-ID</th>\n",
              "      <th>rating</th>\n",
              "      <th>Location</th>\n",
              "      <th>Age</th>\n",
              "      <th>city</th>\n",
              "      <th>state</th>\n",
              "      <th>country</th>\n",
              "      <th>nan</th>\n",
              "      <th>Year-Of-Publication_y</th>\n",
              "      <th>Average rating</th>\n",
              "    </tr>\n",
              "  </thead>\n",
              "  <tbody>\n",
              "    <tr>\n",
              "      <th>0</th>\n",
              "      <td>0195153448</td>\n",
              "      <td>Classical Mythology</td>\n",
              "      <td>Mark P. O. Morford</td>\n",
              "      <td>2002</td>\n",
              "      <td>Oxford University Press</td>\n",
              "      <td>http://images.amazon.com/images/P/0195153448.0...</td>\n",
              "      <td>http://images.amazon.com/images/P/0195153448.0...</td>\n",
              "      <td>http://images.amazon.com/images/P/0195153448.0...</td>\n",
              "      <td>2</td>\n",
              "      <td>0</td>\n",
              "      <td>stockton, california, usa</td>\n",
              "      <td>18</td>\n",
              "      <td>stockton</td>\n",
              "      <td>california</td>\n",
              "      <td>usa</td>\n",
              "      <td>NaN</td>\n",
              "      <td>2000.0</td>\n",
              "      <td>3.500000</td>\n",
              "    </tr>\n",
              "    <tr>\n",
              "      <th>1</th>\n",
              "      <td>0801319536</td>\n",
              "      <td>Classical Mythology</td>\n",
              "      <td>Mark P. O. Morford</td>\n",
              "      <td>1998</td>\n",
              "      <td>John Wiley &amp;amp; Sons</td>\n",
              "      <td>http://images.amazon.com/images/P/0801319536.0...</td>\n",
              "      <td>http://images.amazon.com/images/P/0801319536.0...</td>\n",
              "      <td>http://images.amazon.com/images/P/0801319536.0...</td>\n",
              "      <td>269782</td>\n",
              "      <td>7</td>\n",
              "      <td>edmonton, alberta, canada</td>\n",
              "      <td>30</td>\n",
              "      <td>edmonton</td>\n",
              "      <td>alberta</td>\n",
              "      <td>canada</td>\n",
              "      <td>NaN</td>\n",
              "      <td>2000.0</td>\n",
              "      <td>3.500000</td>\n",
              "    </tr>\n",
              "    <tr>\n",
              "      <th>2</th>\n",
              "      <td>0002005018</td>\n",
              "      <td>Clara Callan</td>\n",
              "      <td>Richard Bruce Wright</td>\n",
              "      <td>2001</td>\n",
              "      <td>HarperFlamingo Canada</td>\n",
              "      <td>http://images.amazon.com/images/P/0002005018.0...</td>\n",
              "      <td>http://images.amazon.com/images/P/0002005018.0...</td>\n",
              "      <td>http://images.amazon.com/images/P/0002005018.0...</td>\n",
              "      <td>8</td>\n",
              "      <td>5</td>\n",
              "      <td>timmins, ontario, canada</td>\n",
              "      <td>34</td>\n",
              "      <td>timmins</td>\n",
              "      <td>ontario</td>\n",
              "      <td>canada</td>\n",
              "      <td>NaN</td>\n",
              "      <td>2001.0</td>\n",
              "      <td>4.928571</td>\n",
              "    </tr>\n",
              "    <tr>\n",
              "      <th>3</th>\n",
              "      <td>0002005018</td>\n",
              "      <td>Clara Callan</td>\n",
              "      <td>Richard Bruce Wright</td>\n",
              "      <td>2001</td>\n",
              "      <td>HarperFlamingo Canada</td>\n",
              "      <td>http://images.amazon.com/images/P/0002005018.0...</td>\n",
              "      <td>http://images.amazon.com/images/P/0002005018.0...</td>\n",
              "      <td>http://images.amazon.com/images/P/0002005018.0...</td>\n",
              "      <td>11400</td>\n",
              "      <td>0</td>\n",
              "      <td>ottawa, ontario, canada</td>\n",
              "      <td>49</td>\n",
              "      <td>ottawa</td>\n",
              "      <td>ontario</td>\n",
              "      <td>canada</td>\n",
              "      <td>NaN</td>\n",
              "      <td>2001.0</td>\n",
              "      <td>4.928571</td>\n",
              "    </tr>\n",
              "    <tr>\n",
              "      <th>4</th>\n",
              "      <td>0002005018</td>\n",
              "      <td>Clara Callan</td>\n",
              "      <td>Richard Bruce Wright</td>\n",
              "      <td>2001</td>\n",
              "      <td>HarperFlamingo Canada</td>\n",
              "      <td>http://images.amazon.com/images/P/0002005018.0...</td>\n",
              "      <td>http://images.amazon.com/images/P/0002005018.0...</td>\n",
              "      <td>http://images.amazon.com/images/P/0002005018.0...</td>\n",
              "      <td>11676</td>\n",
              "      <td>8</td>\n",
              "      <td>n/a, n/a, n/a</td>\n",
              "      <td>34</td>\n",
              "      <td>n/a</td>\n",
              "      <td>n/a</td>\n",
              "      <td>n/a</td>\n",
              "      <td>NaN</td>\n",
              "      <td>2001.0</td>\n",
              "      <td>4.928571</td>\n",
              "    </tr>\n",
              "  </tbody>\n",
              "</table>\n",
              "</div>"
            ],
            "text/plain": [
              "         ISBN           Book-Title           Book-Author  \\\n",
              "0  0195153448  Classical Mythology    Mark P. O. Morford   \n",
              "1  0801319536  Classical Mythology    Mark P. O. Morford   \n",
              "2  0002005018         Clara Callan  Richard Bruce Wright   \n",
              "3  0002005018         Clara Callan  Richard Bruce Wright   \n",
              "4  0002005018         Clara Callan  Richard Bruce Wright   \n",
              "\n",
              "   Year-Of-Publication_x                Publisher  \\\n",
              "0                   2002  Oxford University Press   \n",
              "1                   1998    John Wiley &amp; Sons   \n",
              "2                   2001    HarperFlamingo Canada   \n",
              "3                   2001    HarperFlamingo Canada   \n",
              "4                   2001    HarperFlamingo Canada   \n",
              "\n",
              "                                         Image-URL-S  \\\n",
              "0  http://images.amazon.com/images/P/0195153448.0...   \n",
              "1  http://images.amazon.com/images/P/0801319536.0...   \n",
              "2  http://images.amazon.com/images/P/0002005018.0...   \n",
              "3  http://images.amazon.com/images/P/0002005018.0...   \n",
              "4  http://images.amazon.com/images/P/0002005018.0...   \n",
              "\n",
              "                                         Image-URL-M  \\\n",
              "0  http://images.amazon.com/images/P/0195153448.0...   \n",
              "1  http://images.amazon.com/images/P/0801319536.0...   \n",
              "2  http://images.amazon.com/images/P/0002005018.0...   \n",
              "3  http://images.amazon.com/images/P/0002005018.0...   \n",
              "4  http://images.amazon.com/images/P/0002005018.0...   \n",
              "\n",
              "                                         Image-URL-L  User-ID  rating  \\\n",
              "0  http://images.amazon.com/images/P/0195153448.0...        2       0   \n",
              "1  http://images.amazon.com/images/P/0801319536.0...   269782       7   \n",
              "2  http://images.amazon.com/images/P/0002005018.0...        8       5   \n",
              "3  http://images.amazon.com/images/P/0002005018.0...    11400       0   \n",
              "4  http://images.amazon.com/images/P/0002005018.0...    11676       8   \n",
              "\n",
              "                    Location  Age      city        state  country  nan  \\\n",
              "0  stockton, california, usa   18  stockton   california      usa  NaN   \n",
              "1  edmonton, alberta, canada   30  edmonton      alberta   canada  NaN   \n",
              "2   timmins, ontario, canada   34   timmins      ontario   canada  NaN   \n",
              "3    ottawa, ontario, canada   49    ottawa      ontario   canada  NaN   \n",
              "4              n/a, n/a, n/a   34       n/a          n/a      n/a  NaN   \n",
              "\n",
              "   Year-Of-Publication_y  Average rating  \n",
              "0                 2000.0        3.500000  \n",
              "1                 2000.0        3.500000  \n",
              "2                 2001.0        4.928571  \n",
              "3                 2001.0        4.928571  \n",
              "4                 2001.0        4.928571  "
            ]
          },
          "execution_count": 76,
          "metadata": {},
          "output_type": "execute_result"
        }
      ],
      "source": [
        "# books.drop(['Image-URL-S','Image-URL-M','Image-URL-L'],axis=1)\n",
        "data=books.merge(ratings,on=\"ISBN\").merge(Users,on=\"User-ID\")\n",
        "# mod_data=data.drop(['Image-URL-S','Image-URL-M','Image-URL-L'],axis=1)\n",
        "mod_data=data\n",
        "temp=mod_data.groupby(by=\"Book-Title\").mean()\n",
        "temp=temp.drop([\"User-ID\",\"Age\"],axis=1)\n",
        "x=mod_data.merge(temp,on=\"Book-Title\")\n",
        "x.rename(columns = {'Book-Rating_y':'Average rating','Book-Rating_x':'rating'}, inplace = True)\n",
        "x.head()"
      ]
    },
    {
      "cell_type": "code",
      "execution_count": null,
      "id": "19595d6c",
      "metadata": {
        "id": "19595d6c",
        "outputId": "15ef29d8-ea74-4e21-85b1-1cc40d206366"
      },
      "outputs": [
        {
          "data": {
            "text/plain": [
              "Index(['ISBN', 'Book-Title', 'Book-Author', 'Year-Of-Publication', 'Publisher',\n",
              "       'Image-URL-S', 'Image-URL-M', 'Image-URL-L', 'User-ID', 'Book-Rating',\n",
              "       'Location', 'Age', 'city', 'state', 'country', 'nan'],\n",
              "      dtype='object')"
            ]
          },
          "execution_count": 77,
          "metadata": {},
          "output_type": "execute_result"
        }
      ],
      "source": [
        "mod_data.columns"
      ]
    },
    {
      "cell_type": "code",
      "execution_count": null,
      "id": "b3196b10",
      "metadata": {
        "id": "b3196b10"
      },
      "outputs": [],
      "source": [
        "y=x.merge(x.groupby([\"Book-Title\"]).size().reset_index(name='counts'),on=\"Book-Title\")"
      ]
    },
    {
      "cell_type": "code",
      "execution_count": null,
      "id": "36f69518",
      "metadata": {
        "id": "36f69518"
      },
      "outputs": [],
      "source": [
        "V=y[\"counts\"]\n",
        "R=y[\"Average rating\"]\n",
        "C=y[\"Average rating\"].mean()\n",
        "M=y[\"counts\"].quantile(0.80)"
      ]
    },
    {
      "cell_type": "code",
      "execution_count": null,
      "id": "0e302f76",
      "metadata": {
        "id": "0e302f76"
      },
      "outputs": [],
      "source": [
        "y[\"Weighted_average\"]=(V*R+C*M)/(V+M)"
      ]
    },
    {
      "cell_type": "code",
      "execution_count": null,
      "id": "552a3013",
      "metadata": {
        "id": "552a3013"
      },
      "outputs": [],
      "source": [
        "y_sorted=y.sort_values(\"Weighted_average\",ascending=False)"
      ]
    },
    {
      "cell_type": "code",
      "execution_count": null,
      "id": "15dc8bc8",
      "metadata": {
        "id": "15dc8bc8"
      },
      "outputs": [],
      "source": [
        "y_reduced=y_sorted[[\"Book-Title\",\"Weighted_average\"]]\n",
        "y_reduced.drop_duplicates(subset =\"Book-Title\",keep = \"first\", inplace = True)\n",
        "recommendation_priority=y_reduced.reset_index()"
      ]
    },
    {
      "cell_type": "code",
      "execution_count": null,
      "id": "e7f3a38f",
      "metadata": {
        "id": "e7f3a38f",
        "outputId": "2b0351dd-402d-4d16-f2aa-ac07b0f38fcf"
      },
      "outputs": [
        {
          "data": {
            "text/html": [
              "<div>\n",
              "<style scoped>\n",
              "    .dataframe tbody tr th:only-of-type {\n",
              "        vertical-align: middle;\n",
              "    }\n",
              "\n",
              "    .dataframe tbody tr th {\n",
              "        vertical-align: top;\n",
              "    }\n",
              "\n",
              "    .dataframe thead th {\n",
              "        text-align: right;\n",
              "    }\n",
              "</style>\n",
              "<table border=\"1\" class=\"dataframe\">\n",
              "  <thead>\n",
              "    <tr style=\"text-align: right;\">\n",
              "      <th></th>\n",
              "      <th>index</th>\n",
              "      <th>Book-Title</th>\n",
              "      <th>Weighted_average</th>\n",
              "    </tr>\n",
              "  </thead>\n",
              "  <tbody>\n",
              "    <tr>\n",
              "      <th>0</th>\n",
              "      <td>131533</td>\n",
              "      <td>Harry Potter and the Prisoner of Azkaban (Book 3)</td>\n",
              "      <td>5.353449</td>\n",
              "    </tr>\n",
              "    <tr>\n",
              "      <th>1</th>\n",
              "      <td>156375</td>\n",
              "      <td>Harry Potter and the Goblet of Fire (Book 4)</td>\n",
              "      <td>5.286694</td>\n",
              "    </tr>\n",
              "    <tr>\n",
              "      <th>2</th>\n",
              "      <td>111314</td>\n",
              "      <td>Harry Potter and the Sorcerer's Stone (Book 1)</td>\n",
              "      <td>5.058731</td>\n",
              "    </tr>\n",
              "    <tr>\n",
              "      <th>3</th>\n",
              "      <td>157876</td>\n",
              "      <td>Harry Potter and the Order of the Phoenix (Boo...</td>\n",
              "      <td>4.977591</td>\n",
              "    </tr>\n",
              "    <tr>\n",
              "      <th>4</th>\n",
              "      <td>117269</td>\n",
              "      <td>Free</td>\n",
              "      <td>4.895882</td>\n",
              "    </tr>\n",
              "    <tr>\n",
              "      <th>5</th>\n",
              "      <td>125347</td>\n",
              "      <td>Harry Potter and the Chamber of Secrets (Book 2)</td>\n",
              "      <td>4.872573</td>\n",
              "    </tr>\n",
              "    <tr>\n",
              "      <th>6</th>\n",
              "      <td>97917</td>\n",
              "      <td>Ender's Game (Ender Wiggins Saga (Paperback))</td>\n",
              "      <td>4.755447</td>\n",
              "    </tr>\n",
              "    <tr>\n",
              "      <th>7</th>\n",
              "      <td>409987</td>\n",
              "      <td>The Little Prince</td>\n",
              "      <td>4.696103</td>\n",
              "    </tr>\n",
              "    <tr>\n",
              "      <th>8</th>\n",
              "      <td>96755</td>\n",
              "      <td>Harry Potter and the Sorcerer's Stone (Harry P...</td>\n",
              "      <td>4.630787</td>\n",
              "    </tr>\n",
              "    <tr>\n",
              "      <th>9</th>\n",
              "      <td>80356</td>\n",
              "      <td>The Fellowship of the Ring (The Lord of the Ri...</td>\n",
              "      <td>4.552581</td>\n",
              "    </tr>\n",
              "  </tbody>\n",
              "</table>\n",
              "</div>"
            ],
            "text/plain": [
              "    index                                         Book-Title  Weighted_average\n",
              "0  131533  Harry Potter and the Prisoner of Azkaban (Book 3)          5.353449\n",
              "1  156375       Harry Potter and the Goblet of Fire (Book 4)          5.286694\n",
              "2  111314     Harry Potter and the Sorcerer's Stone (Book 1)          5.058731\n",
              "3  157876  Harry Potter and the Order of the Phoenix (Boo...          4.977591\n",
              "4  117269                                               Free          4.895882\n",
              "5  125347   Harry Potter and the Chamber of Secrets (Book 2)          4.872573\n",
              "6   97917      Ender's Game (Ender Wiggins Saga (Paperback))          4.755447\n",
              "7  409987                                  The Little Prince          4.696103\n",
              "8   96755  Harry Potter and the Sorcerer's Stone (Harry P...          4.630787\n",
              "9   80356  The Fellowship of the Ring (The Lord of the Ri...          4.552581"
            ]
          },
          "execution_count": 83,
          "metadata": {},
          "output_type": "execute_result"
        }
      ],
      "source": [
        "# top 10 books to read:\n",
        "recommendation_priority.head(10)"
      ]
    },
    {
      "cell_type": "code",
      "execution_count": null,
      "id": "3f09aacf",
      "metadata": {
        "id": "3f09aacf"
      },
      "outputs": [],
      "source": [
        ""
      ]
    },
    {
      "cell_type": "code",
      "execution_count": null,
      "id": "9eb8cf97",
      "metadata": {
        "id": "9eb8cf97"
      },
      "outputs": [],
      "source": [
        ""
      ]
    },
    {
      "cell_type": "markdown",
      "id": "877a8e64",
      "metadata": {
        "id": "877a8e64"
      },
      "source": [
        "## Content based filtering "
      ]
    },
    {
      "cell_type": "code",
      "execution_count": null,
      "id": "14ed533b",
      "metadata": {
        "id": "14ed533b",
        "outputId": "0ba34765-ae45-4fe8-b374-0f41608fc14a"
      },
      "outputs": [
        {
          "data": {
            "text/html": [
              "<div>\n",
              "<style scoped>\n",
              "    .dataframe tbody tr th:only-of-type {\n",
              "        vertical-align: middle;\n",
              "    }\n",
              "\n",
              "    .dataframe tbody tr th {\n",
              "        vertical-align: top;\n",
              "    }\n",
              "\n",
              "    .dataframe thead th {\n",
              "        text-align: right;\n",
              "    }\n",
              "</style>\n",
              "<table border=\"1\" class=\"dataframe\">\n",
              "  <thead>\n",
              "    <tr style=\"text-align: right;\">\n",
              "      <th></th>\n",
              "      <th>ISBN</th>\n",
              "      <th>Book-Title</th>\n",
              "      <th>Book-Author</th>\n",
              "      <th>Year-Of-Publication_x</th>\n",
              "      <th>Publisher</th>\n",
              "      <th>Image-URL-S</th>\n",
              "      <th>Image-URL-M</th>\n",
              "      <th>Image-URL-L</th>\n",
              "      <th>User-ID</th>\n",
              "      <th>rating</th>\n",
              "      <th>Location</th>\n",
              "      <th>Age</th>\n",
              "      <th>city</th>\n",
              "      <th>state</th>\n",
              "      <th>country</th>\n",
              "      <th>nan</th>\n",
              "      <th>Year-Of-Publication_y</th>\n",
              "      <th>Average rating</th>\n",
              "    </tr>\n",
              "  </thead>\n",
              "  <tbody>\n",
              "    <tr>\n",
              "      <th>0</th>\n",
              "      <td>0195153448</td>\n",
              "      <td>Classical Mythology</td>\n",
              "      <td>Mark P. O. Morford</td>\n",
              "      <td>2002</td>\n",
              "      <td>Oxford University Press</td>\n",
              "      <td>http://images.amazon.com/images/P/0195153448.0...</td>\n",
              "      <td>http://images.amazon.com/images/P/0195153448.0...</td>\n",
              "      <td>http://images.amazon.com/images/P/0195153448.0...</td>\n",
              "      <td>2</td>\n",
              "      <td>0</td>\n",
              "      <td>stockton, california, usa</td>\n",
              "      <td>18</td>\n",
              "      <td>stockton</td>\n",
              "      <td>california</td>\n",
              "      <td>usa</td>\n",
              "      <td>NaN</td>\n",
              "      <td>2000.0</td>\n",
              "      <td>3.500000</td>\n",
              "    </tr>\n",
              "    <tr>\n",
              "      <th>1</th>\n",
              "      <td>0801319536</td>\n",
              "      <td>Classical Mythology</td>\n",
              "      <td>Mark P. O. Morford</td>\n",
              "      <td>1998</td>\n",
              "      <td>John Wiley &amp;amp; Sons</td>\n",
              "      <td>http://images.amazon.com/images/P/0801319536.0...</td>\n",
              "      <td>http://images.amazon.com/images/P/0801319536.0...</td>\n",
              "      <td>http://images.amazon.com/images/P/0801319536.0...</td>\n",
              "      <td>269782</td>\n",
              "      <td>7</td>\n",
              "      <td>edmonton, alberta, canada</td>\n",
              "      <td>30</td>\n",
              "      <td>edmonton</td>\n",
              "      <td>alberta</td>\n",
              "      <td>canada</td>\n",
              "      <td>NaN</td>\n",
              "      <td>2000.0</td>\n",
              "      <td>3.500000</td>\n",
              "    </tr>\n",
              "    <tr>\n",
              "      <th>2</th>\n",
              "      <td>0002005018</td>\n",
              "      <td>Clara Callan</td>\n",
              "      <td>Richard Bruce Wright</td>\n",
              "      <td>2001</td>\n",
              "      <td>HarperFlamingo Canada</td>\n",
              "      <td>http://images.amazon.com/images/P/0002005018.0...</td>\n",
              "      <td>http://images.amazon.com/images/P/0002005018.0...</td>\n",
              "      <td>http://images.amazon.com/images/P/0002005018.0...</td>\n",
              "      <td>8</td>\n",
              "      <td>5</td>\n",
              "      <td>timmins, ontario, canada</td>\n",
              "      <td>34</td>\n",
              "      <td>timmins</td>\n",
              "      <td>ontario</td>\n",
              "      <td>canada</td>\n",
              "      <td>NaN</td>\n",
              "      <td>2001.0</td>\n",
              "      <td>4.928571</td>\n",
              "    </tr>\n",
              "    <tr>\n",
              "      <th>3</th>\n",
              "      <td>0002005018</td>\n",
              "      <td>Clara Callan</td>\n",
              "      <td>Richard Bruce Wright</td>\n",
              "      <td>2001</td>\n",
              "      <td>HarperFlamingo Canada</td>\n",
              "      <td>http://images.amazon.com/images/P/0002005018.0...</td>\n",
              "      <td>http://images.amazon.com/images/P/0002005018.0...</td>\n",
              "      <td>http://images.amazon.com/images/P/0002005018.0...</td>\n",
              "      <td>11400</td>\n",
              "      <td>0</td>\n",
              "      <td>ottawa, ontario, canada</td>\n",
              "      <td>49</td>\n",
              "      <td>ottawa</td>\n",
              "      <td>ontario</td>\n",
              "      <td>canada</td>\n",
              "      <td>NaN</td>\n",
              "      <td>2001.0</td>\n",
              "      <td>4.928571</td>\n",
              "    </tr>\n",
              "    <tr>\n",
              "      <th>4</th>\n",
              "      <td>0002005018</td>\n",
              "      <td>Clara Callan</td>\n",
              "      <td>Richard Bruce Wright</td>\n",
              "      <td>2001</td>\n",
              "      <td>HarperFlamingo Canada</td>\n",
              "      <td>http://images.amazon.com/images/P/0002005018.0...</td>\n",
              "      <td>http://images.amazon.com/images/P/0002005018.0...</td>\n",
              "      <td>http://images.amazon.com/images/P/0002005018.0...</td>\n",
              "      <td>11676</td>\n",
              "      <td>8</td>\n",
              "      <td>n/a, n/a, n/a</td>\n",
              "      <td>34</td>\n",
              "      <td>n/a</td>\n",
              "      <td>n/a</td>\n",
              "      <td>n/a</td>\n",
              "      <td>NaN</td>\n",
              "      <td>2001.0</td>\n",
              "      <td>4.928571</td>\n",
              "    </tr>\n",
              "  </tbody>\n",
              "</table>\n",
              "</div>"
            ],
            "text/plain": [
              "         ISBN           Book-Title           Book-Author  \\\n",
              "0  0195153448  Classical Mythology    Mark P. O. Morford   \n",
              "1  0801319536  Classical Mythology    Mark P. O. Morford   \n",
              "2  0002005018         Clara Callan  Richard Bruce Wright   \n",
              "3  0002005018         Clara Callan  Richard Bruce Wright   \n",
              "4  0002005018         Clara Callan  Richard Bruce Wright   \n",
              "\n",
              "   Year-Of-Publication_x                Publisher  \\\n",
              "0                   2002  Oxford University Press   \n",
              "1                   1998    John Wiley &amp; Sons   \n",
              "2                   2001    HarperFlamingo Canada   \n",
              "3                   2001    HarperFlamingo Canada   \n",
              "4                   2001    HarperFlamingo Canada   \n",
              "\n",
              "                                         Image-URL-S  \\\n",
              "0  http://images.amazon.com/images/P/0195153448.0...   \n",
              "1  http://images.amazon.com/images/P/0801319536.0...   \n",
              "2  http://images.amazon.com/images/P/0002005018.0...   \n",
              "3  http://images.amazon.com/images/P/0002005018.0...   \n",
              "4  http://images.amazon.com/images/P/0002005018.0...   \n",
              "\n",
              "                                         Image-URL-M  \\\n",
              "0  http://images.amazon.com/images/P/0195153448.0...   \n",
              "1  http://images.amazon.com/images/P/0801319536.0...   \n",
              "2  http://images.amazon.com/images/P/0002005018.0...   \n",
              "3  http://images.amazon.com/images/P/0002005018.0...   \n",
              "4  http://images.amazon.com/images/P/0002005018.0...   \n",
              "\n",
              "                                         Image-URL-L  User-ID  rating  \\\n",
              "0  http://images.amazon.com/images/P/0195153448.0...        2       0   \n",
              "1  http://images.amazon.com/images/P/0801319536.0...   269782       7   \n",
              "2  http://images.amazon.com/images/P/0002005018.0...        8       5   \n",
              "3  http://images.amazon.com/images/P/0002005018.0...    11400       0   \n",
              "4  http://images.amazon.com/images/P/0002005018.0...    11676       8   \n",
              "\n",
              "                    Location  Age      city        state  country  nan  \\\n",
              "0  stockton, california, usa   18  stockton   california      usa  NaN   \n",
              "1  edmonton, alberta, canada   30  edmonton      alberta   canada  NaN   \n",
              "2   timmins, ontario, canada   34   timmins      ontario   canada  NaN   \n",
              "3    ottawa, ontario, canada   49    ottawa      ontario   canada  NaN   \n",
              "4              n/a, n/a, n/a   34       n/a          n/a      n/a  NaN   \n",
              "\n",
              "   Year-Of-Publication_y  Average rating  \n",
              "0                 2000.0        3.500000  \n",
              "1                 2000.0        3.500000  \n",
              "2                 2001.0        4.928571  \n",
              "3                 2001.0        4.928571  \n",
              "4                 2001.0        4.928571  "
            ]
          },
          "execution_count": 84,
          "metadata": {},
          "output_type": "execute_result"
        }
      ],
      "source": [
        "x.head()"
      ]
    },
    {
      "cell_type": "code",
      "execution_count": null,
      "id": "01284d1a",
      "metadata": {
        "id": "01284d1a",
        "outputId": "ee2316e5-852a-46f3-c830-e0d6e5dba586"
      },
      "outputs": [
        {
          "data": {
            "text/plain": [
              "Index(['ISBN', 'Book-Title', 'Book-Author', 'Year-Of-Publication_x',\n",
              "       'Publisher', 'Image-URL-S', 'Image-URL-M', 'Image-URL-L', 'User-ID',\n",
              "       'rating', 'Location', 'Age', 'city', 'state', 'country', 'nan',\n",
              "       'Year-Of-Publication_y', 'Average rating'],\n",
              "      dtype='object')"
            ]
          },
          "execution_count": 85,
          "metadata": {},
          "output_type": "execute_result"
        }
      ],
      "source": [
        "x.columns"
      ]
    },
    {
      "cell_type": "code",
      "execution_count": null,
      "id": "4063c1c4",
      "metadata": {
        "id": "4063c1c4",
        "outputId": "3cb708c8-3fe5-4bae-bd7e-457c1bc93168"
      },
      "outputs": [
        {
          "data": {
            "text/html": [
              "<div>\n",
              "<style scoped>\n",
              "    .dataframe tbody tr th:only-of-type {\n",
              "        vertical-align: middle;\n",
              "    }\n",
              "\n",
              "    .dataframe tbody tr th {\n",
              "        vertical-align: top;\n",
              "    }\n",
              "\n",
              "    .dataframe thead th {\n",
              "        text-align: right;\n",
              "    }\n",
              "</style>\n",
              "<table border=\"1\" class=\"dataframe\">\n",
              "  <thead>\n",
              "    <tr style=\"text-align: right;\">\n",
              "      <th></th>\n",
              "      <th>ISBN</th>\n",
              "      <th>Book-Title</th>\n",
              "      <th>Book-Author</th>\n",
              "      <th>Image-URL-S</th>\n",
              "      <th>Image-URL-M</th>\n",
              "      <th>Image-URL-L</th>\n",
              "      <th>User-ID</th>\n",
              "      <th>rating</th>\n",
              "      <th>city</th>\n",
              "      <th>state</th>\n",
              "      <th>country</th>\n",
              "      <th>nan</th>\n",
              "      <th>Average rating</th>\n",
              "    </tr>\n",
              "  </thead>\n",
              "  <tbody>\n",
              "    <tr>\n",
              "      <th>0</th>\n",
              "      <td>0195153448</td>\n",
              "      <td>Classical Mythology</td>\n",
              "      <td>Mark P. O. Morford</td>\n",
              "      <td>http://images.amazon.com/images/P/0195153448.0...</td>\n",
              "      <td>http://images.amazon.com/images/P/0195153448.0...</td>\n",
              "      <td>http://images.amazon.com/images/P/0195153448.0...</td>\n",
              "      <td>2</td>\n",
              "      <td>0</td>\n",
              "      <td>stockton</td>\n",
              "      <td>california</td>\n",
              "      <td>usa</td>\n",
              "      <td>NaN</td>\n",
              "      <td>3.500000</td>\n",
              "    </tr>\n",
              "    <tr>\n",
              "      <th>1</th>\n",
              "      <td>0801319536</td>\n",
              "      <td>Classical Mythology</td>\n",
              "      <td>Mark P. O. Morford</td>\n",
              "      <td>http://images.amazon.com/images/P/0801319536.0...</td>\n",
              "      <td>http://images.amazon.com/images/P/0801319536.0...</td>\n",
              "      <td>http://images.amazon.com/images/P/0801319536.0...</td>\n",
              "      <td>269782</td>\n",
              "      <td>7</td>\n",
              "      <td>edmonton</td>\n",
              "      <td>alberta</td>\n",
              "      <td>canada</td>\n",
              "      <td>NaN</td>\n",
              "      <td>3.500000</td>\n",
              "    </tr>\n",
              "    <tr>\n",
              "      <th>2</th>\n",
              "      <td>0002005018</td>\n",
              "      <td>Clara Callan</td>\n",
              "      <td>Richard Bruce Wright</td>\n",
              "      <td>http://images.amazon.com/images/P/0002005018.0...</td>\n",
              "      <td>http://images.amazon.com/images/P/0002005018.0...</td>\n",
              "      <td>http://images.amazon.com/images/P/0002005018.0...</td>\n",
              "      <td>8</td>\n",
              "      <td>5</td>\n",
              "      <td>timmins</td>\n",
              "      <td>ontario</td>\n",
              "      <td>canada</td>\n",
              "      <td>NaN</td>\n",
              "      <td>4.928571</td>\n",
              "    </tr>\n",
              "    <tr>\n",
              "      <th>3</th>\n",
              "      <td>0002005018</td>\n",
              "      <td>Clara Callan</td>\n",
              "      <td>Richard Bruce Wright</td>\n",
              "      <td>http://images.amazon.com/images/P/0002005018.0...</td>\n",
              "      <td>http://images.amazon.com/images/P/0002005018.0...</td>\n",
              "      <td>http://images.amazon.com/images/P/0002005018.0...</td>\n",
              "      <td>11400</td>\n",
              "      <td>0</td>\n",
              "      <td>ottawa</td>\n",
              "      <td>ontario</td>\n",
              "      <td>canada</td>\n",
              "      <td>NaN</td>\n",
              "      <td>4.928571</td>\n",
              "    </tr>\n",
              "    <tr>\n",
              "      <th>4</th>\n",
              "      <td>0002005018</td>\n",
              "      <td>Clara Callan</td>\n",
              "      <td>Richard Bruce Wright</td>\n",
              "      <td>http://images.amazon.com/images/P/0002005018.0...</td>\n",
              "      <td>http://images.amazon.com/images/P/0002005018.0...</td>\n",
              "      <td>http://images.amazon.com/images/P/0002005018.0...</td>\n",
              "      <td>11676</td>\n",
              "      <td>8</td>\n",
              "      <td>n/a</td>\n",
              "      <td>n/a</td>\n",
              "      <td>n/a</td>\n",
              "      <td>NaN</td>\n",
              "      <td>4.928571</td>\n",
              "    </tr>\n",
              "  </tbody>\n",
              "</table>\n",
              "</div>"
            ],
            "text/plain": [
              "         ISBN           Book-Title           Book-Author  \\\n",
              "0  0195153448  Classical Mythology    Mark P. O. Morford   \n",
              "1  0801319536  Classical Mythology    Mark P. O. Morford   \n",
              "2  0002005018         Clara Callan  Richard Bruce Wright   \n",
              "3  0002005018         Clara Callan  Richard Bruce Wright   \n",
              "4  0002005018         Clara Callan  Richard Bruce Wright   \n",
              "\n",
              "                                         Image-URL-S  \\\n",
              "0  http://images.amazon.com/images/P/0195153448.0...   \n",
              "1  http://images.amazon.com/images/P/0801319536.0...   \n",
              "2  http://images.amazon.com/images/P/0002005018.0...   \n",
              "3  http://images.amazon.com/images/P/0002005018.0...   \n",
              "4  http://images.amazon.com/images/P/0002005018.0...   \n",
              "\n",
              "                                         Image-URL-M  \\\n",
              "0  http://images.amazon.com/images/P/0195153448.0...   \n",
              "1  http://images.amazon.com/images/P/0801319536.0...   \n",
              "2  http://images.amazon.com/images/P/0002005018.0...   \n",
              "3  http://images.amazon.com/images/P/0002005018.0...   \n",
              "4  http://images.amazon.com/images/P/0002005018.0...   \n",
              "\n",
              "                                         Image-URL-L  User-ID  rating  \\\n",
              "0  http://images.amazon.com/images/P/0195153448.0...        2       0   \n",
              "1  http://images.amazon.com/images/P/0801319536.0...   269782       7   \n",
              "2  http://images.amazon.com/images/P/0002005018.0...        8       5   \n",
              "3  http://images.amazon.com/images/P/0002005018.0...    11400       0   \n",
              "4  http://images.amazon.com/images/P/0002005018.0...    11676       8   \n",
              "\n",
              "       city        state  country  nan  Average rating  \n",
              "0  stockton   california      usa  NaN        3.500000  \n",
              "1  edmonton      alberta   canada  NaN        3.500000  \n",
              "2   timmins      ontario   canada  NaN        4.928571  \n",
              "3    ottawa      ontario   canada  NaN        4.928571  \n",
              "4       n/a          n/a      n/a  NaN        4.928571  "
            ]
          },
          "execution_count": 86,
          "metadata": {},
          "output_type": "execute_result"
        }
      ],
      "source": [
        "y=x.drop(['Year-Of-Publication_x','Location', 'Age','Year-Of-Publication_y','Publisher'],axis=1)\n",
        "y.head()"
      ]
    },
    {
      "cell_type": "code",
      "execution_count": null,
      "id": "65439e77",
      "metadata": {
        "id": "65439e77",
        "outputId": "e8dc8d92-f079-4855-a503-be26d5e18003"
      },
      "outputs": [
        {
          "data": {
            "text/plain": [
              "(22774, 13)"
            ]
          },
          "execution_count": 87,
          "metadata": {},
          "output_type": "execute_result"
        }
      ],
      "source": [
        "popularity_threshold =9\n",
        "popular_book = y[y['Average rating'] >= popularity_threshold]\n",
        "popular_book = popular_book.reset_index(drop = True)\n",
        "popular_book.shape"
      ]
    },
    {
      "cell_type": "code",
      "execution_count": null,
      "id": "e0686dc3",
      "metadata": {
        "id": "e0686dc3",
        "outputId": "b02727d5-0f48-46ca-bd17-94f2fe2b6202"
      },
      "outputs": [
        {
          "data": {
            "text/html": [
              "<div>\n",
              "<style scoped>\n",
              "    .dataframe tbody tr th:only-of-type {\n",
              "        vertical-align: middle;\n",
              "    }\n",
              "\n",
              "    .dataframe tbody tr th {\n",
              "        vertical-align: top;\n",
              "    }\n",
              "\n",
              "    .dataframe thead th {\n",
              "        text-align: right;\n",
              "    }\n",
              "</style>\n",
              "<table border=\"1\" class=\"dataframe\">\n",
              "  <thead>\n",
              "    <tr style=\"text-align: right;\">\n",
              "      <th></th>\n",
              "      <th>ISBN</th>\n",
              "      <th>Book-Title</th>\n",
              "      <th>Book-Author</th>\n",
              "      <th>Image-URL-S</th>\n",
              "      <th>Image-URL-M</th>\n",
              "      <th>Image-URL-L</th>\n",
              "      <th>User-ID</th>\n",
              "      <th>rating</th>\n",
              "      <th>city</th>\n",
              "      <th>state</th>\n",
              "      <th>country</th>\n",
              "      <th>nan</th>\n",
              "      <th>Average rating</th>\n",
              "    </tr>\n",
              "  </thead>\n",
              "  <tbody>\n",
              "    <tr>\n",
              "      <th>0</th>\n",
              "      <td>1570624380</td>\n",
              "      <td>Flatland (Shambhala Pocket Classics)</td>\n",
              "      <td>EDWIN ABBOTT</td>\n",
              "      <td>http://images.amazon.com/images/P/1570624380.0...</td>\n",
              "      <td>http://images.amazon.com/images/P/1570624380.0...</td>\n",
              "      <td>http://images.amazon.com/images/P/1570624380.0...</td>\n",
              "      <td>11676</td>\n",
              "      <td>10</td>\n",
              "      <td>n/a</td>\n",
              "      <td>n/a</td>\n",
              "      <td>n/a</td>\n",
              "      <td>NaN</td>\n",
              "      <td>9.333333</td>\n",
              "    </tr>\n",
              "    <tr>\n",
              "      <th>1</th>\n",
              "      <td>1570624380</td>\n",
              "      <td>Flatland (Shambhala Pocket Classics)</td>\n",
              "      <td>EDWIN ABBOTT</td>\n",
              "      <td>http://images.amazon.com/images/P/1570624380.0...</td>\n",
              "      <td>http://images.amazon.com/images/P/1570624380.0...</td>\n",
              "      <td>http://images.amazon.com/images/P/1570624380.0...</td>\n",
              "      <td>217617</td>\n",
              "      <td>8</td>\n",
              "      <td>cary</td>\n",
              "      <td>illinois</td>\n",
              "      <td>usa</td>\n",
              "      <td>NaN</td>\n",
              "      <td>9.333333</td>\n",
              "    </tr>\n",
              "    <tr>\n",
              "      <th>2</th>\n",
              "      <td>1570624380</td>\n",
              "      <td>Flatland (Shambhala Pocket Classics)</td>\n",
              "      <td>EDWIN ABBOTT</td>\n",
              "      <td>http://images.amazon.com/images/P/1570624380.0...</td>\n",
              "      <td>http://images.amazon.com/images/P/1570624380.0...</td>\n",
              "      <td>http://images.amazon.com/images/P/1570624380.0...</td>\n",
              "      <td>6894</td>\n",
              "      <td>10</td>\n",
              "      <td>colorado springs</td>\n",
              "      <td>colorado</td>\n",
              "      <td>usa</td>\n",
              "      <td>NaN</td>\n",
              "      <td>9.333333</td>\n",
              "    </tr>\n",
              "    <tr>\n",
              "      <th>3</th>\n",
              "      <td>0836217810</td>\n",
              "      <td>We Are Experiencing Parental Difficulties...Pl...</td>\n",
              "      <td>Rick Kirkman</td>\n",
              "      <td>http://images.amazon.com/images/P/0836217810.0...</td>\n",
              "      <td>http://images.amazon.com/images/P/0836217810.0...</td>\n",
              "      <td>http://images.amazon.com/images/P/0836217810.0...</td>\n",
              "      <td>11676</td>\n",
              "      <td>10</td>\n",
              "      <td>n/a</td>\n",
              "      <td>n/a</td>\n",
              "      <td>n/a</td>\n",
              "      <td>NaN</td>\n",
              "      <td>9.750000</td>\n",
              "    </tr>\n",
              "    <tr>\n",
              "      <th>4</th>\n",
              "      <td>0836217810</td>\n",
              "      <td>We Are Experiencing Parental Difficulties...Pl...</td>\n",
              "      <td>Rick Kirkman</td>\n",
              "      <td>http://images.amazon.com/images/P/0836217810.0...</td>\n",
              "      <td>http://images.amazon.com/images/P/0836217810.0...</td>\n",
              "      <td>http://images.amazon.com/images/P/0836217810.0...</td>\n",
              "      <td>78973</td>\n",
              "      <td>9</td>\n",
              "      <td>amadora</td>\n",
              "      <td>lisboa</td>\n",
              "      <td>portugal</td>\n",
              "      <td>NaN</td>\n",
              "      <td>9.750000</td>\n",
              "    </tr>\n",
              "  </tbody>\n",
              "</table>\n",
              "</div>"
            ],
            "text/plain": [
              "         ISBN                                         Book-Title  \\\n",
              "0  1570624380               Flatland (Shambhala Pocket Classics)   \n",
              "1  1570624380               Flatland (Shambhala Pocket Classics)   \n",
              "2  1570624380               Flatland (Shambhala Pocket Classics)   \n",
              "3  0836217810  We Are Experiencing Parental Difficulties...Pl...   \n",
              "4  0836217810  We Are Experiencing Parental Difficulties...Pl...   \n",
              "\n",
              "    Book-Author                                        Image-URL-S  \\\n",
              "0  EDWIN ABBOTT  http://images.amazon.com/images/P/1570624380.0...   \n",
              "1  EDWIN ABBOTT  http://images.amazon.com/images/P/1570624380.0...   \n",
              "2  EDWIN ABBOTT  http://images.amazon.com/images/P/1570624380.0...   \n",
              "3  Rick Kirkman  http://images.amazon.com/images/P/0836217810.0...   \n",
              "4  Rick Kirkman  http://images.amazon.com/images/P/0836217810.0...   \n",
              "\n",
              "                                         Image-URL-M  \\\n",
              "0  http://images.amazon.com/images/P/1570624380.0...   \n",
              "1  http://images.amazon.com/images/P/1570624380.0...   \n",
              "2  http://images.amazon.com/images/P/1570624380.0...   \n",
              "3  http://images.amazon.com/images/P/0836217810.0...   \n",
              "4  http://images.amazon.com/images/P/0836217810.0...   \n",
              "\n",
              "                                         Image-URL-L  User-ID  rating  \\\n",
              "0  http://images.amazon.com/images/P/1570624380.0...    11676      10   \n",
              "1  http://images.amazon.com/images/P/1570624380.0...   217617       8   \n",
              "2  http://images.amazon.com/images/P/1570624380.0...     6894      10   \n",
              "3  http://images.amazon.com/images/P/0836217810.0...    11676      10   \n",
              "4  http://images.amazon.com/images/P/0836217810.0...    78973       9   \n",
              "\n",
              "               city      state    country  nan  Average rating  \n",
              "0               n/a        n/a        n/a  NaN        9.333333  \n",
              "1              cary   illinois        usa  NaN        9.333333  \n",
              "2  colorado springs   colorado        usa  NaN        9.333333  \n",
              "3               n/a        n/a        n/a  NaN        9.750000  \n",
              "4           amadora     lisboa   portugal  NaN        9.750000  "
            ]
          },
          "execution_count": 88,
          "metadata": {},
          "output_type": "execute_result"
        }
      ],
      "source": [
        "popular_book.head()"
      ]
    },
    {
      "cell_type": "code",
      "execution_count": null,
      "id": "71182c80",
      "metadata": {
        "id": "71182c80",
        "outputId": "c33292b8-4651-479f-861d-d10b3347e904"
      },
      "outputs": [
        {
          "data": {
            "text/plain": [
              "(22774, 86465)"
            ]
          },
          "execution_count": 89,
          "metadata": {},
          "output_type": "execute_result"
        }
      ],
      "source": [
        "from sklearn.feature_extraction.text import TfidfVectorizer\n",
        "\n",
        "# Converting a collection of raw documents into a matrix of TF-IDF features\n",
        "tf = TfidfVectorizer(ngram_range=(1, 2), min_df = 1, stop_words='english')\n",
        "tfidf_matrix = tf.fit_transform(popular_book['Book-Title'])\n",
        "tfidf_matrix.shape"
      ]
    },
    {
      "cell_type": "code",
      "execution_count": null,
      "id": "2e573c38",
      "metadata": {
        "id": "2e573c38",
        "outputId": "20ebdce0-230d-4c4c-a195-68c9840e0335"
      },
      "outputs": [
        {
          "data": {
            "text/plain": [
              "(22774, 22774)"
            ]
          },
          "execution_count": 90,
          "metadata": {},
          "output_type": "execute_result"
        }
      ],
      "source": [
        "from sklearn.metrics.pairwise import cosine_similarity\n",
        "\n",
        "normalized_df = tfidf_matrix.astype(np.float32)\n",
        "# assigning similarity score to each term \n",
        "cosine_similarities = cosine_similarity(normalized_df, normalized_df)\n",
        "cosine_similarities.shape"
      ]
    },
    {
      "cell_type": "code",
      "execution_count": null,
      "id": "7fa94ba8",
      "metadata": {
        "id": "7fa94ba8"
      },
      "outputs": [],
      "source": [
        "def contentbased(bookName):\n",
        "\n",
        "#     bookName=\"Clara Callan\"\n",
        "    number=5\n",
        "#     print(f'For reader who read {bookName}\\n')\n",
        "    print(\"Recommended Books:\\n\")\n",
        "    isbn = books.loc[books['Book-Title'] == bookName].reset_index(drop = True).iloc[0]['ISBN']\n",
        "    content = []\n",
        "\n",
        "    idx = books.index[books['ISBN'] == isbn].tolist()[0]\n",
        "    similar_indices = cosine_similarities[idx].argsort()[::-1]\n",
        "    similar_items = []\n",
        "    for i in similar_indices:\n",
        "        if books['Book-Title'][i] != bookName and books['Book-Title'][i] not in similar_items and len(similar_items) < number:\n",
        "            similar_items.append(books['Book-Title'][i])\n",
        "            content.append(books['Book-Title'][i])\n",
        "    i=0\n",
        "    for book in similar_items:\n",
        "        print(i+1,\":\",book)\n",
        "        i=i+1"
      ]
    },
    {
      "cell_type": "code",
      "execution_count": null,
      "id": "10af6205",
      "metadata": {
        "id": "10af6205",
        "outputId": "ab8491b1-9908-44f3-a1e3-bd48858f7ffa"
      },
      "outputs": [
        {
          "name": "stdout",
          "output_type": "stream",
          "text": [
            "Enter book name : Classical Mythology\n",
            "Recommended Books:\n",
            "\n",
            "1 : Clara Callan\n",
            "2 : Decision in Normandy\n",
            "3 : An Incomplete Education\n",
            "4 : CafÃ?Â© Nostalgia\n",
            "5 : What the Body Remembers: A Novel\n"
          ]
        }
      ],
      "source": [
        "contentbased(input(\"Enter book name : \"))"
      ]
    },
    {
      "cell_type": "code",
      "execution_count": null,
      "id": "aca5da1f",
      "metadata": {
        "id": "aca5da1f"
      },
      "outputs": [],
      "source": [
        ""
      ]
    },
    {
      "cell_type": "code",
      "execution_count": null,
      "id": "453ebf6b",
      "metadata": {
        "id": "453ebf6b"
      },
      "outputs": [],
      "source": [
        ""
      ]
    },
    {
      "cell_type": "markdown",
      "id": "05273fa1",
      "metadata": {
        "id": "05273fa1"
      },
      "source": [
        "## Colladorative filtering with second approach"
      ]
    },
    {
      "cell_type": "markdown",
      "id": "19eaf491",
      "metadata": {
        "id": "19eaf491"
      },
      "source": [
        "\n",
        "Using Kmeans"
      ]
    },
    {
      "cell_type": "code",
      "execution_count": null,
      "id": "3a59a65a",
      "metadata": {
        "id": "3a59a65a"
      },
      "outputs": [],
      "source": [
        "# Taking the mean of rating given by each user\n",
        "User_rating_mean = ratings.groupby('User-ID')['Book-Rating'].mean()\n",
        "user_rating = ratings.set_index('User-ID')\n",
        "user_rating['mean_rating'] = User_rating_mean\n",
        "user_rating.reset_index(inplace=True)"
      ]
    },
    {
      "cell_type": "code",
      "execution_count": null,
      "id": "1f3b96bd",
      "metadata": {
        "id": "1f3b96bd"
      },
      "outputs": [],
      "source": [
        "# Check if user likes the book \"likes\" the book\n",
        "user_rating = user_rating[user_rating['Book-Rating'] > user_rating['mean_rating']]"
      ]
    },
    {
      "cell_type": "code",
      "execution_count": null,
      "id": "9acef896",
      "metadata": {
        "id": "9acef896"
      },
      "outputs": [],
      "source": [
        "# Initializing a dummy variable\n",
        "user_rating['is_fav'] = 1"
      ]
    },
    {
      "cell_type": "code",
      "execution_count": null,
      "id": "f13081ca",
      "metadata": {
        "id": "f13081ca",
        "outputId": "2480ef31-8e45-4be8-9a18-a306c4ee3a8b"
      },
      "outputs": [
        {
          "data": {
            "text/html": [
              "<div>\n",
              "<style scoped>\n",
              "    .dataframe tbody tr th:only-of-type {\n",
              "        vertical-align: middle;\n",
              "    }\n",
              "\n",
              "    .dataframe tbody tr th {\n",
              "        vertical-align: top;\n",
              "    }\n",
              "\n",
              "    .dataframe thead th {\n",
              "        text-align: right;\n",
              "    }\n",
              "</style>\n",
              "<table border=\"1\" class=\"dataframe\">\n",
              "  <thead>\n",
              "    <tr style=\"text-align: right;\">\n",
              "      <th></th>\n",
              "      <th>User-ID</th>\n",
              "      <th>ISBN</th>\n",
              "      <th>Book-Rating</th>\n",
              "      <th>mean_rating</th>\n",
              "      <th>is_fav</th>\n",
              "    </tr>\n",
              "  </thead>\n",
              "  <tbody>\n",
              "    <tr>\n",
              "      <th>4</th>\n",
              "      <td>276729</td>\n",
              "      <td>0521795028</td>\n",
              "      <td>6</td>\n",
              "      <td>4.5</td>\n",
              "      <td>1</td>\n",
              "    </tr>\n",
              "    <tr>\n",
              "      <th>16</th>\n",
              "      <td>276747</td>\n",
              "      <td>0060517794</td>\n",
              "      <td>9</td>\n",
              "      <td>5.0</td>\n",
              "      <td>1</td>\n",
              "    </tr>\n",
              "    <tr>\n",
              "      <th>19</th>\n",
              "      <td>276747</td>\n",
              "      <td>0671537458</td>\n",
              "      <td>9</td>\n",
              "      <td>5.0</td>\n",
              "      <td>1</td>\n",
              "    </tr>\n",
              "    <tr>\n",
              "      <th>20</th>\n",
              "      <td>276747</td>\n",
              "      <td>0679776818</td>\n",
              "      <td>8</td>\n",
              "      <td>5.0</td>\n",
              "      <td>1</td>\n",
              "    </tr>\n",
              "    <tr>\n",
              "      <th>21</th>\n",
              "      <td>276747</td>\n",
              "      <td>0943066433</td>\n",
              "      <td>7</td>\n",
              "      <td>5.0</td>\n",
              "      <td>1</td>\n",
              "    </tr>\n",
              "  </tbody>\n",
              "</table>\n",
              "</div>"
            ],
            "text/plain": [
              "    User-ID        ISBN  Book-Rating  mean_rating  is_fav\n",
              "4    276729  0521795028            6          4.5       1\n",
              "16   276747  0060517794            9          5.0       1\n",
              "19   276747  0671537458            9          5.0       1\n",
              "20   276747  0679776818            8          5.0       1\n",
              "21   276747  0943066433            7          5.0       1"
            ]
          },
          "execution_count": 96,
          "metadata": {},
          "output_type": "execute_result"
        }
      ],
      "source": [
        "user_rating.head()"
      ]
    },
    {
      "cell_type": "code",
      "execution_count": null,
      "id": "350ef224",
      "metadata": {
        "id": "350ef224",
        "outputId": "3b684151-3456-43bb-da8e-83c48a73ed46"
      },
      "outputs": [
        {
          "data": {
            "text/plain": [
              "(124117, 5)"
            ]
          },
          "execution_count": 97,
          "metadata": {},
          "output_type": "execute_result"
        }
      ],
      "source": [
        "# Keeping the users who like more than 15 books and less than 90 books \n",
        "value = user_rating['User-ID'].value_counts()\n",
        "mylist = list(value[(value>15) & (value<90)].index)\n",
        "user_rating = user_rating[user_rating['User-ID'].isin(mylist)]\n",
        "user_rating.shape"
      ]
    },
    {
      "cell_type": "code",
      "execution_count": null,
      "id": "3d6dcfa6",
      "metadata": {
        "id": "3d6dcfa6",
        "outputId": "6f9c56a0-ed56-4de2-a91a-6375a1ec1589"
      },
      "outputs": [
        {
          "data": {
            "text/html": [
              "<div>\n",
              "<style scoped>\n",
              "    .dataframe tbody tr th:only-of-type {\n",
              "        vertical-align: middle;\n",
              "    }\n",
              "\n",
              "    .dataframe tbody tr th {\n",
              "        vertical-align: top;\n",
              "    }\n",
              "\n",
              "    .dataframe thead th {\n",
              "        text-align: right;\n",
              "    }\n",
              "</style>\n",
              "<table border=\"1\" class=\"dataframe\">\n",
              "  <thead>\n",
              "    <tr style=\"text-align: right;\">\n",
              "      <th></th>\n",
              "      <th>User-ID</th>\n",
              "      <th>Book-Rating</th>\n",
              "      <th>mean_rating</th>\n",
              "      <th>is_fav</th>\n",
              "    </tr>\n",
              "  </thead>\n",
              "  <tbody>\n",
              "    <tr>\n",
              "      <th>count</th>\n",
              "      <td>124117.000000</td>\n",
              "      <td>124117.000000</td>\n",
              "      <td>124117.000000</td>\n",
              "      <td>124117.0</td>\n",
              "    </tr>\n",
              "    <tr>\n",
              "      <th>mean</th>\n",
              "      <td>139945.938252</td>\n",
              "      <td>7.876302</td>\n",
              "      <td>3.756645</td>\n",
              "      <td>1.0</td>\n",
              "    </tr>\n",
              "    <tr>\n",
              "      <th>std</th>\n",
              "      <td>79454.468881</td>\n",
              "      <td>1.657352</td>\n",
              "      <td>1.912234</td>\n",
              "      <td>0.0</td>\n",
              "    </tr>\n",
              "    <tr>\n",
              "      <th>min</th>\n",
              "      <td>242.000000</td>\n",
              "      <td>1.000000</td>\n",
              "      <td>0.016291</td>\n",
              "      <td>1.0</td>\n",
              "    </tr>\n",
              "    <tr>\n",
              "      <th>25%</th>\n",
              "      <td>72601.000000</td>\n",
              "      <td>7.000000</td>\n",
              "      <td>2.323171</td>\n",
              "      <td>1.0</td>\n",
              "    </tr>\n",
              "    <tr>\n",
              "      <th>50%</th>\n",
              "      <td>138777.000000</td>\n",
              "      <td>8.000000</td>\n",
              "      <td>3.533333</td>\n",
              "      <td>1.0</td>\n",
              "    </tr>\n",
              "    <tr>\n",
              "      <th>75%</th>\n",
              "      <td>208095.000000</td>\n",
              "      <td>9.000000</td>\n",
              "      <td>4.911765</td>\n",
              "      <td>1.0</td>\n",
              "    </tr>\n",
              "    <tr>\n",
              "      <th>max</th>\n",
              "      <td>278843.000000</td>\n",
              "      <td>10.000000</td>\n",
              "      <td>9.950000</td>\n",
              "      <td>1.0</td>\n",
              "    </tr>\n",
              "  </tbody>\n",
              "</table>\n",
              "</div>"
            ],
            "text/plain": [
              "             User-ID    Book-Rating    mean_rating    is_fav\n",
              "count  124117.000000  124117.000000  124117.000000  124117.0\n",
              "mean   139945.938252       7.876302       3.756645       1.0\n",
              "std     79454.468881       1.657352       1.912234       0.0\n",
              "min       242.000000       1.000000       0.016291       1.0\n",
              "25%     72601.000000       7.000000       2.323171       1.0\n",
              "50%    138777.000000       8.000000       3.533333       1.0\n",
              "75%    208095.000000       9.000000       4.911765       1.0\n",
              "max    278843.000000      10.000000       9.950000       1.0"
            ]
          },
          "execution_count": 98,
          "metadata": {},
          "output_type": "execute_result"
        }
      ],
      "source": [
        "user_rating.describe()"
      ]
    },
    {
      "cell_type": "code",
      "execution_count": null,
      "id": "3c87dc32",
      "metadata": {
        "id": "3c87dc32",
        "outputId": "7c220aa2-5021-4143-a9e2-1046d89fde82"
      },
      "outputs": [
        {
          "name": "stdout",
          "output_type": "stream",
          "text": [
            "(1149780, 1)\n"
          ]
        }
      ],
      "source": [
        "data = pd.pivot_table(user_rating,index='User-ID',columns='ISBN',values='is_fav')\n",
        "data.fillna(value=0,inplace=True)\n",
        "print(df.shape)\n",
        "# df.head(10)"
      ]
    },
    {
      "cell_type": "code",
      "execution_count": null,
      "id": "7819b08b",
      "metadata": {
        "id": "7819b08b",
        "outputId": "eca126bf-490b-4e31-8058-50628443aa10"
      },
      "outputs": [
        {
          "data": {
            "text/plain": [
              "(3666, 71263)"
            ]
          },
          "execution_count": 100,
          "metadata": {},
          "output_type": "execute_result"
        }
      ],
      "source": [
        "data.shape #(no. of users to be clustered,no. of books that they like)"
      ]
    },
    {
      "cell_type": "code",
      "execution_count": null,
      "id": "519e1262",
      "metadata": {
        "id": "519e1262",
        "outputId": "5b6cbeb2-0f0a-4ba7-f22e-7bac6260334c"
      },
      "outputs": [
        {
          "data": {
            "text/html": [
              "<div>\n",
              "<style scoped>\n",
              "    .dataframe tbody tr th:only-of-type {\n",
              "        vertical-align: middle;\n",
              "    }\n",
              "\n",
              "    .dataframe tbody tr th {\n",
              "        vertical-align: top;\n",
              "    }\n",
              "\n",
              "    .dataframe thead th {\n",
              "        text-align: right;\n",
              "    }\n",
              "</style>\n",
              "<table border=\"1\" class=\"dataframe\">\n",
              "  <thead>\n",
              "    <tr style=\"text-align: right;\">\n",
              "      <th>ISBN</th>\n",
              "      <th>0 14 02.9640</th>\n",
              "      <th>0 330 10597 3</th>\n",
              "      <th>0 907 062 008</th>\n",
              "      <th>0+399139745</th>\n",
              "      <th>000000000</th>\n",
              "      <th>0000000000</th>\n",
              "      <th>000000000000</th>\n",
              "      <th>0000000000000</th>\n",
              "      <th>0000000030670</th>\n",
              "      <th>0000000048118</th>\n",
              "      <th>...</th>\n",
              "      <th>NONEAVAILABLE</th>\n",
              "      <th>O140276335</th>\n",
              "      <th>O380782332</th>\n",
              "      <th>O380974460</th>\n",
              "      <th>O399141200</th>\n",
              "      <th>O449983633</th>\n",
              "      <th>O451203771</th>\n",
              "      <th>O9385290426</th>\n",
              "      <th>PS3563.08744W</th>\n",
              "      <th>Z380703475</th>\n",
              "    </tr>\n",
              "    <tr>\n",
              "      <th>User-ID</th>\n",
              "      <th></th>\n",
              "      <th></th>\n",
              "      <th></th>\n",
              "      <th></th>\n",
              "      <th></th>\n",
              "      <th></th>\n",
              "      <th></th>\n",
              "      <th></th>\n",
              "      <th></th>\n",
              "      <th></th>\n",
              "      <th></th>\n",
              "      <th></th>\n",
              "      <th></th>\n",
              "      <th></th>\n",
              "      <th></th>\n",
              "      <th></th>\n",
              "      <th></th>\n",
              "      <th></th>\n",
              "      <th></th>\n",
              "      <th></th>\n",
              "      <th></th>\n",
              "    </tr>\n",
              "  </thead>\n",
              "  <tbody>\n",
              "    <tr>\n",
              "      <th>242</th>\n",
              "      <td>0.0</td>\n",
              "      <td>0.0</td>\n",
              "      <td>0.0</td>\n",
              "      <td>0.0</td>\n",
              "      <td>0.0</td>\n",
              "      <td>0.0</td>\n",
              "      <td>0.0</td>\n",
              "      <td>0.0</td>\n",
              "      <td>0.0</td>\n",
              "      <td>0.0</td>\n",
              "      <td>...</td>\n",
              "      <td>0.0</td>\n",
              "      <td>0.0</td>\n",
              "      <td>0.0</td>\n",
              "      <td>0.0</td>\n",
              "      <td>0.0</td>\n",
              "      <td>0.0</td>\n",
              "      <td>0.0</td>\n",
              "      <td>0.0</td>\n",
              "      <td>0.0</td>\n",
              "      <td>0.0</td>\n",
              "    </tr>\n",
              "    <tr>\n",
              "      <th>243</th>\n",
              "      <td>0.0</td>\n",
              "      <td>0.0</td>\n",
              "      <td>0.0</td>\n",
              "      <td>0.0</td>\n",
              "      <td>0.0</td>\n",
              "      <td>0.0</td>\n",
              "      <td>0.0</td>\n",
              "      <td>0.0</td>\n",
              "      <td>0.0</td>\n",
              "      <td>0.0</td>\n",
              "      <td>...</td>\n",
              "      <td>0.0</td>\n",
              "      <td>0.0</td>\n",
              "      <td>0.0</td>\n",
              "      <td>0.0</td>\n",
              "      <td>0.0</td>\n",
              "      <td>0.0</td>\n",
              "      <td>0.0</td>\n",
              "      <td>0.0</td>\n",
              "      <td>0.0</td>\n",
              "      <td>0.0</td>\n",
              "    </tr>\n",
              "    <tr>\n",
              "      <th>254</th>\n",
              "      <td>0.0</td>\n",
              "      <td>0.0</td>\n",
              "      <td>0.0</td>\n",
              "      <td>0.0</td>\n",
              "      <td>0.0</td>\n",
              "      <td>0.0</td>\n",
              "      <td>0.0</td>\n",
              "      <td>0.0</td>\n",
              "      <td>0.0</td>\n",
              "      <td>0.0</td>\n",
              "      <td>...</td>\n",
              "      <td>0.0</td>\n",
              "      <td>0.0</td>\n",
              "      <td>0.0</td>\n",
              "      <td>0.0</td>\n",
              "      <td>0.0</td>\n",
              "      <td>0.0</td>\n",
              "      <td>0.0</td>\n",
              "      <td>0.0</td>\n",
              "      <td>0.0</td>\n",
              "      <td>0.0</td>\n",
              "    </tr>\n",
              "    <tr>\n",
              "      <th>392</th>\n",
              "      <td>0.0</td>\n",
              "      <td>0.0</td>\n",
              "      <td>0.0</td>\n",
              "      <td>0.0</td>\n",
              "      <td>0.0</td>\n",
              "      <td>0.0</td>\n",
              "      <td>0.0</td>\n",
              "      <td>0.0</td>\n",
              "      <td>0.0</td>\n",
              "      <td>0.0</td>\n",
              "      <td>...</td>\n",
              "      <td>0.0</td>\n",
              "      <td>0.0</td>\n",
              "      <td>0.0</td>\n",
              "      <td>0.0</td>\n",
              "      <td>0.0</td>\n",
              "      <td>0.0</td>\n",
              "      <td>0.0</td>\n",
              "      <td>0.0</td>\n",
              "      <td>0.0</td>\n",
              "      <td>0.0</td>\n",
              "    </tr>\n",
              "    <tr>\n",
              "      <th>507</th>\n",
              "      <td>0.0</td>\n",
              "      <td>0.0</td>\n",
              "      <td>0.0</td>\n",
              "      <td>0.0</td>\n",
              "      <td>0.0</td>\n",
              "      <td>0.0</td>\n",
              "      <td>0.0</td>\n",
              "      <td>0.0</td>\n",
              "      <td>0.0</td>\n",
              "      <td>0.0</td>\n",
              "      <td>...</td>\n",
              "      <td>0.0</td>\n",
              "      <td>0.0</td>\n",
              "      <td>0.0</td>\n",
              "      <td>0.0</td>\n",
              "      <td>0.0</td>\n",
              "      <td>0.0</td>\n",
              "      <td>0.0</td>\n",
              "      <td>0.0</td>\n",
              "      <td>0.0</td>\n",
              "      <td>0.0</td>\n",
              "    </tr>\n",
              "  </tbody>\n",
              "</table>\n",
              "<p>5 rows × 71263 columns</p>\n",
              "</div>"
            ],
            "text/plain": [
              "ISBN     0 14 02.9640  0 330 10597 3  0 907 062 008  0+399139745  000000000  \\\n",
              "User-ID                                                                       \n",
              "242               0.0            0.0            0.0          0.0        0.0   \n",
              "243               0.0            0.0            0.0          0.0        0.0   \n",
              "254               0.0            0.0            0.0          0.0        0.0   \n",
              "392               0.0            0.0            0.0          0.0        0.0   \n",
              "507               0.0            0.0            0.0          0.0        0.0   \n",
              "\n",
              "ISBN     0000000000  000000000000  0000000000000  0000000030670  \\\n",
              "User-ID                                                           \n",
              "242             0.0           0.0            0.0            0.0   \n",
              "243             0.0           0.0            0.0            0.0   \n",
              "254             0.0           0.0            0.0            0.0   \n",
              "392             0.0           0.0            0.0            0.0   \n",
              "507             0.0           0.0            0.0            0.0   \n",
              "\n",
              "ISBN     0000000048118  ...  NONEAVAILABLE  O140276335  O380782332  \\\n",
              "User-ID                 ...                                          \n",
              "242                0.0  ...            0.0         0.0         0.0   \n",
              "243                0.0  ...            0.0         0.0         0.0   \n",
              "254                0.0  ...            0.0         0.0         0.0   \n",
              "392                0.0  ...            0.0         0.0         0.0   \n",
              "507                0.0  ...            0.0         0.0         0.0   \n",
              "\n",
              "ISBN     O380974460  O399141200  O449983633  O451203771  O9385290426  \\\n",
              "User-ID                                                                \n",
              "242             0.0         0.0         0.0         0.0          0.0   \n",
              "243             0.0         0.0         0.0         0.0          0.0   \n",
              "254             0.0         0.0         0.0         0.0          0.0   \n",
              "392             0.0         0.0         0.0         0.0          0.0   \n",
              "507             0.0         0.0         0.0         0.0          0.0   \n",
              "\n",
              "ISBN     PS3563.08744W  Z380703475  \n",
              "User-ID                             \n",
              "242                0.0         0.0  \n",
              "243                0.0         0.0  \n",
              "254                0.0         0.0  \n",
              "392                0.0         0.0  \n",
              "507                0.0         0.0  \n",
              "\n",
              "[5 rows x 71263 columns]"
            ]
          },
          "execution_count": 101,
          "metadata": {},
          "output_type": "execute_result"
        }
      ],
      "source": [
        "data.head()"
      ]
    },
    {
      "cell_type": "markdown",
      "id": "59dff496",
      "metadata": {
        "id": "59dff496"
      },
      "source": [
        "## Reducing Features by PCA"
      ]
    },
    {
      "cell_type": "code",
      "execution_count": null,
      "id": "b560153c",
      "metadata": {
        "id": "b560153c"
      },
      "outputs": [],
      "source": [
        "from sklearn.decomposition import PCA\n",
        "import matplotlib.pyplot as plt\n",
        "import matplotlib.cm as cm\n",
        "from mpl_toolkits.mplot3d import Axes3D"
      ]
    },
    {
      "cell_type": "code",
      "execution_count": null,
      "id": "5ced91e9",
      "metadata": {
        "id": "5ced91e9"
      },
      "outputs": [],
      "source": [
        "pca = PCA(n_components=3)\n",
        "pca_fit=pca.fit(data).transform(data)"
      ]
    },
    {
      "cell_type": "code",
      "execution_count": null,
      "id": "68982557",
      "metadata": {
        "id": "68982557",
        "outputId": "e08a01e6-aed4-4484-b30b-69be624638c1"
      },
      "outputs": [
        {
          "data": {
            "text/html": [
              "<div>\n",
              "<style scoped>\n",
              "    .dataframe tbody tr th:only-of-type {\n",
              "        vertical-align: middle;\n",
              "    }\n",
              "\n",
              "    .dataframe tbody tr th {\n",
              "        vertical-align: top;\n",
              "    }\n",
              "\n",
              "    .dataframe thead th {\n",
              "        text-align: right;\n",
              "    }\n",
              "</style>\n",
              "<table border=\"1\" class=\"dataframe\">\n",
              "  <thead>\n",
              "    <tr style=\"text-align: right;\">\n",
              "      <th></th>\n",
              "      <th>0</th>\n",
              "      <th>1</th>\n",
              "      <th>2</th>\n",
              "    </tr>\n",
              "    <tr>\n",
              "      <th>User-ID</th>\n",
              "      <th></th>\n",
              "      <th></th>\n",
              "      <th></th>\n",
              "    </tr>\n",
              "  </thead>\n",
              "  <tbody>\n",
              "    <tr>\n",
              "      <th>242</th>\n",
              "      <td>-0.222969</td>\n",
              "      <td>-0.031760</td>\n",
              "      <td>-0.037277</td>\n",
              "    </tr>\n",
              "    <tr>\n",
              "      <th>243</th>\n",
              "      <td>0.337010</td>\n",
              "      <td>-0.244784</td>\n",
              "      <td>0.133714</td>\n",
              "    </tr>\n",
              "    <tr>\n",
              "      <th>254</th>\n",
              "      <td>0.619448</td>\n",
              "      <td>1.879670</td>\n",
              "      <td>-0.097222</td>\n",
              "    </tr>\n",
              "    <tr>\n",
              "      <th>392</th>\n",
              "      <td>-0.212075</td>\n",
              "      <td>-0.032417</td>\n",
              "      <td>-0.038642</td>\n",
              "    </tr>\n",
              "    <tr>\n",
              "      <th>507</th>\n",
              "      <td>-0.016751</td>\n",
              "      <td>-0.086922</td>\n",
              "      <td>-0.078996</td>\n",
              "    </tr>\n",
              "  </tbody>\n",
              "</table>\n",
              "</div>"
            ],
            "text/plain": [
              "                0         1         2\n",
              "User-ID                              \n",
              "242     -0.222969 -0.031760 -0.037277\n",
              "243      0.337010 -0.244784  0.133714\n",
              "254      0.619448  1.879670 -0.097222\n",
              "392     -0.212075 -0.032417 -0.038642\n",
              "507     -0.016751 -0.086922 -0.078996"
            ]
          },
          "execution_count": 104,
          "metadata": {},
          "output_type": "execute_result"
        }
      ],
      "source": [
        "pca_fit = pd.DataFrame(pca_fit,index=data.index)\n",
        "pca_fit.head()"
      ]
    },
    {
      "cell_type": "code",
      "execution_count": null,
      "id": "83bcc697",
      "metadata": {
        "id": "83bcc697"
      },
      "outputs": [],
      "source": [
        "# doing clustering \n",
        "from sklearn.cluster import KMeans\n",
        "\n",
        "# In KMeans() function:\n",
        "# n_clusters=no. of cluster is selected through elbow method i.e. 3 which can be seen in distortion  graph graph\n",
        "# init='random' to select centroids randomly  \n",
        "# n_init=10 to select 10 random centroids\n",
        "# max_iter=300 for iterating max  300 times for each single centroid\n",
        "# tol=1e-04 difference between centroid in  consucative itertion  \n",
        "\n",
        "km = KMeans(\n",
        "    n_clusters=3, init='random',\n",
        "    n_init=100, max_iter=100, \n",
        "    tol=1e-04, random_state=0\n",
        ")\n",
        "y_km = km.fit_predict(pca_fit)"
      ]
    },
    {
      "cell_type": "code",
      "execution_count": null,
      "id": "d9e64b9a",
      "metadata": {
        "id": "d9e64b9a",
        "outputId": "b9a89c0a-f0fa-4333-80a4-a9c4325a665f"
      },
      "outputs": [
        {
          "data": {
            "image/png": "[encoded data removed]",
            "text/plain": [
              "<Figure size 432x288 with 1 Axes>"
            ]
          },
          "metadata": {
            "needs_background": "light"
          },
          "output_type": "display_data"
        }
      ],
      "source": [
        "# plot the figure \n",
        "fig = plt.figure()\n",
        "cmhot = plt.get_cmap('brg')\n",
        "plt.rcParams['figure.figsize'] = (15, 8)\n",
        "ax = Axes3D(fig)\n",
        "ax.scatter(pca_fit[0], pca_fit[2], pca_fit[1],c=y_km,cmap=cmhot)\n",
        "plt.title('Data points in 3D PCA axis')\n",
        "plt.show()"
      ]
    },
    {
      "cell_type": "code",
      "execution_count": null,
      "id": "34f9b14a",
      "metadata": {
        "id": "34f9b14a",
        "outputId": "74ab639a-2c10-4573-fd78-242e79dbf999"
      },
      "outputs": [
        {
          "data": {
            "image/png": "[encoded data removed]",
            "text/plain": [
              "<Figure size 1080x576 with 1 Axes>"
            ]
          },
          "metadata": {
            "needs_background": "light"
          },
          "output_type": "display_data"
        }
      ],
      "source": [
        "distortions = []\n",
        "# check distortion for cluster no. 1 to 10 \n",
        "for i in range(1, 11):\n",
        "    km = KMeans(\n",
        "        n_clusters=i, init='random',\n",
        "        n_init=10, max_iter=300,\n",
        "        tol=1e-04, random_state=0\n",
        "    )\n",
        "    km.fit(pca_fit)\n",
        "    distortions.append(km.inertia_)\n",
        "\n",
        "# plot\n",
        "plt.plot(range(1, 11), distortions, marker='o')\n",
        "plt.xlabel('Number of clusters')\n",
        "plt.ylabel('Distortion')\n",
        "plt.show()"
      ]
    },
    {
      "cell_type": "code",
      "execution_count": null,
      "id": "0d5fa14c",
      "metadata": {
        "id": "0d5fa14c"
      },
      "outputs": [],
      "source": [
        "# 4 is elbow point hence applying k means algo to n_cluster=4"
      ]
    },
    {
      "cell_type": "code",
      "execution_count": null,
      "id": "005abf62",
      "metadata": {
        "id": "005abf62",
        "outputId": "80651c59-dee7-4ef3-df29-24c8b33ec1de"
      },
      "outputs": [
        {
          "data": {
            "image/png": "[encoded data removed]",
            "text/plain": [
              "<Figure size 1080x576 with 1 Axes>"
            ]
          },
          "metadata": {
            "needs_background": "light"
          },
          "output_type": "display_data"
        }
      ],
      "source": [
        "Kmeans_final = KMeans( n_clusters=4, init='random',\n",
        "                        n_init=100, max_iter=100, \n",
        "                        tol=1e-04, random_state=0).fit(pca_fit)\n",
        "\n",
        "data['cluster'] = Kmeans_final.labels_\n",
        "fig = plt.figure()\n",
        "ax = Axes3D(fig)\n",
        "ax.scatter(pca_fit[0], pca_fit[2], pca_fit[1],c=data['cluster'],cmap=cmhot)\n",
        "plt.title('Data points in 3D PCA axis', fontsize=20)\n",
        "plt.show()"
      ]
    },
    {
      "cell_type": "code",
      "execution_count": null,
      "id": "0bbdbcfa",
      "metadata": {
        "id": "0bbdbcfa"
      },
      "outputs": [],
      "source": [
        "# Gettings the books for each cluster\n",
        "cl1_books = data[data.cluster == 0].mean()\n",
        "cl2_books = data[data.cluster == 1].mean()\n",
        "cl3_books = data[data.cluster == 2].mean()\n",
        "cl4_books = data[data.cluster == 3].mean()"
      ]
    },
    {
      "cell_type": "code",
      "execution_count": null,
      "id": "4b927e6d",
      "metadata": {
        "id": "4b927e6d"
      },
      "outputs": [],
      "source": [
        "# Getting the users for each cluster\n",
        "cl1_users = data[data.cluster == 0].index\n",
        "cl2_users = data[data.cluster == 1].index\n",
        "cl3_users = data[data.cluster == 2].index\n",
        "cl4_users = data[data.cluster == 3].index"
      ]
    },
    {
      "cell_type": "code",
      "execution_count": null,
      "id": "4a0221d2",
      "metadata": {
        "id": "4a0221d2"
      },
      "outputs": [],
      "source": [
        "def cluster_books_des(Ser):\n",
        "    bks = pd.DataFrame(Ser).merge(books,left_index=True,right_on='ISBN',how='left')\n",
        "    bks.rename(columns={0:'avg_score'},inplace=True)\n",
        "    bks.sort_values(by='avg_score',ascending=False,inplace=True)\n",
        "    print('\\nTop 5 Books\\n')\n",
        "    Top5_books = bks.index[:5]\n",
        "    for i,isbn in enumerate(Top5_books):\n",
        "        print(str(i+1)+'.',bks.loc[isbn]['Book-Title'])\n",
        "        \n",
        "def cluster_user_des(Ser):\n",
        "    cl_user = Users[Users['User-ID'].isin(list(Ser))]\n",
        "    print('Most Common Location:',cl_user['Location'].mode()[0])\n",
        "    print('Mean Age:',cl_user['Age'].mean())"
      ]
    },
    {
      "cell_type": "code",
      "execution_count": null,
      "id": "6ddf89b9",
      "metadata": {
        "id": "6ddf89b9",
        "outputId": "1ee7b7bf-eecc-4da6-c3c7-fa901941e076"
      },
      "outputs": [
        {
          "name": "stdout",
          "output_type": "stream",
          "text": [
            "\n",
            "Top 5 Books\n",
            "\n",
            "1. The Da Vinci Code\n",
            "2. The Lovely Bones: A Novel\n",
            "3. The Secret Life of Bees\n",
            "4. The Red Tent (Bestselling Backlist)\n",
            "5. Life of Pi\n",
            "Most Common Location: chicago, illinois, usa\n",
            "Mean Age: 35.446058091286304\n"
          ]
        }
      ],
      "source": [
        "# analysing cluster 1\n",
        "cluster_books_des(cl1_books)\n",
        "cluster_user_des(cl1_users)"
      ]
    },
    {
      "cell_type": "code",
      "execution_count": null,
      "id": "cbbfc0b2",
      "metadata": {
        "id": "cbbfc0b2",
        "outputId": "16f04f30-29b0-4cdc-84a2-b4b58f90067b"
      },
      "outputs": [
        {
          "name": "stdout",
          "output_type": "stream",
          "text": [
            "\n",
            "Top 5 Books\n",
            "\n",
            "1. Harry Potter and the Order of the Phoenix (Book 5)\n",
            "2. Harry Potter and the Prisoner of Azkaban (Book 3)\n",
            "3. Harry Potter and the Chamber of Secrets (Book 2)\n",
            "4. Harry Potter and the Goblet of Fire (Book 4)\n",
            "5. Harry Potter and the Sorcerer's Stone (Book 1)\n",
            "Most Common Location: austin, texas, usa\n",
            "Mean Age: 30.022988505747126\n"
          ]
        }
      ],
      "source": [
        "# analysing cluster 2\n",
        "cluster_books_des(cl2_books.drop('cluster'))\n",
        "cluster_user_des(cl2_users)"
      ]
    },
    {
      "cell_type": "code",
      "execution_count": null,
      "id": "775429bf",
      "metadata": {
        "id": "775429bf",
        "outputId": "c7d40091-9c1b-41c9-e8b9-66ca2da4bca4"
      },
      "outputs": [
        {
          "name": "stdout",
          "output_type": "stream",
          "text": [
            "\n",
            "Top 5 Books\n",
            "\n",
            "1. Harry Potter and the Sorcerer's Stone (Harry Potter (Paperback))\n",
            "2. Wild Animus\n",
            "3. Fahrenheit 451\n",
            "4. Life of Pi\n",
            "5. Interview with the Vampire\n",
            "Most Common Location: toronto, ontario, canada\n",
            "Mean Age: 34.3194094346417\n"
          ]
        }
      ],
      "source": [
        "# analysing cluster 3\n",
        "cluster_books_des(cl3_books.drop('cluster'))\n",
        "cluster_user_des(cl3_users)"
      ]
    },
    {
      "cell_type": "code",
      "execution_count": null,
      "id": "9efea738",
      "metadata": {
        "id": "9efea738",
        "outputId": "1d4cf041-1bde-4f8a-bf21-08d696fb3319"
      },
      "outputs": [
        {
          "name": "stdout",
          "output_type": "stream",
          "text": [
            "\n",
            "Top 5 Books\n",
            "\n",
            "1. The Firm\n",
            "2. A Time to Kill\n",
            "3. Interview with the Vampire\n",
            "4. The Lovely Bones: A Novel\n",
            "5. Jurassic Park\n",
            "Most Common Location: toronto, ontario, canada\n",
            "Mean Age: 35.709375\n"
          ]
        }
      ],
      "source": [
        "# analysing cluster 4\n",
        "cluster_books_des(cl4_books.drop('cluster'))\n",
        "cluster_user_des(cl4_users)"
      ]
    },
    {
      "cell_type": "markdown",
      "id": "e1ff1fb3",
      "metadata": {
        "id": "e1ff1fb3"
      },
      "source": [
        "## \n",
        "Using DBSCAN"
      ]
    },
    {
      "cell_type": "code",
      "execution_count": null,
      "id": "47b25924",
      "metadata": {
        "id": "47b25924"
      },
      "outputs": [],
      "source": [
        "df=data        # making copy of dataset for using it in another method "
      ]
    },
    {
      "cell_type": "code",
      "execution_count": null,
      "id": "6712684a",
      "metadata": {
        "id": "6712684a",
        "outputId": "91f43d9b-75e2-4896-c7cc-fba7b8a582f9"
      },
      "outputs": [
        {
          "data": {
            "image/png": "[encoded data removed]",
            "text/plain": [
              "<Figure size 1080x576 with 1 Axes>"
            ]
          },
          "metadata": {
            "needs_background": "light"
          },
          "output_type": "display_data"
        }
      ],
      "source": [
        "from sklearn.cluster import DBSCAN\n",
        "\n",
        "db = DBSCAN(eps=0.1, min_samples=10).fit(pca_fit)\n",
        "core_samples_mask = np.zeros_like(db.labels_, dtype=bool)\n",
        "core_samples_mask[db.core_sample_indices_] = True\n",
        "labels = db.labels_  \n",
        "df[\"cluster\"]=labels\n",
        "\n",
        "fig = plt.figure()\n",
        "ax = Axes3D(fig)\n",
        "ax.scatter(pca_fit[0], pca_fit[2], pca_fit[1],c=labels,cmap=cmhot)\n",
        "plt.title('Data points in 3D PCA axis', fontsize=20)\n",
        "plt.show()"
      ]
    },
    {
      "cell_type": "code",
      "execution_count": null,
      "id": "ac8ebd5a",
      "metadata": {
        "id": "ac8ebd5a"
      },
      "outputs": [],
      "source": [
        "# Gettings the books for each cluster\n",
        "cl1_books = df[df.cluster == 0].mean()\n",
        "cl2_books = df[df.cluster == 1].mean()\n",
        "cl3_books = df[df.cluster == -1].mean()\n",
        "# cl4_books = df[df.cluster == 3].mean()\n",
        "# Getting the users for each cluster\n",
        "cl1_users = df[df.cluster == 0].index\n",
        "cl2_users = df[df.cluster == 1].index\n",
        "cl3_users = df[df.cluster == -1].index\n",
        "# cl4_users = df[df.cluster == 3].index"
      ]
    },
    {
      "cell_type": "code",
      "execution_count": null,
      "id": "6b861462",
      "metadata": {
        "id": "6b861462",
        "outputId": "5508d644-3604-470d-b748-7b5434afdf84"
      },
      "outputs": [
        {
          "name": "stdout",
          "output_type": "stream",
          "text": [
            "\n",
            "Top 5 Books\n",
            "\n",
            "1. The Lovely Bones: A Novel\n",
            "2. The Red Tent (Bestselling Backlist)\n",
            "3. Life of Pi\n",
            "4. The Secret Life of Bees\n",
            "5. Girl with a Pearl Earring\n",
            "Most Common Location: toronto, ontario, canada\n",
            "Mean Age: 34.616741500962156\n"
          ]
        }
      ],
      "source": [
        "# analysing cluster 1\n",
        "cluster_books_des(cl1_books)\n",
        "cluster_user_des(cl1_users)"
      ]
    },
    {
      "cell_type": "code",
      "execution_count": null,
      "id": "e7546766",
      "metadata": {
        "id": "e7546766",
        "outputId": "027752c6-3207-4f59-e352-bf6c66f818d6"
      },
      "outputs": [
        {
          "name": "stdout",
          "output_type": "stream",
          "text": [
            "\n",
            "Top 5 Books\n",
            "\n",
            "1. The Da Vinci Code\n",
            "2. Angels &amp; Demons\n",
            "3. The Time Traveler's Wife (Harvest Book)\n",
            "4. Timeline\n",
            "5. Digital Fortress : A Thriller\n",
            "Most Common Location: portland, oregon, usa\n",
            "Mean Age: 36.9\n"
          ]
        }
      ],
      "source": [
        "# analysing cluster 2\n",
        "cluster_books_des(cl2_books.drop('cluster'))\n",
        "cluster_user_des(cl2_users)"
      ]
    },
    {
      "cell_type": "code",
      "execution_count": null,
      "id": "cb33d985",
      "metadata": {
        "id": "cb33d985",
        "outputId": "cbbff6b4-f99c-4fe2-953f-0307977b699d"
      },
      "outputs": [
        {
          "name": "stdout",
          "output_type": "stream",
          "text": [
            "\n",
            "Top 5 Books\n",
            "\n",
            "1. The Da Vinci Code\n",
            "2. The Lovely Bones: A Novel\n",
            "3. Harry Potter and the Order of the Phoenix (Book 5)\n",
            "4. Harry Potter and the Sorcerer's Stone (Harry Potter (Paperback))\n",
            "5. Harry Potter and the Prisoner of Azkaban (Book 3)\n",
            "Most Common Location: chicago, illinois, usa\n",
            "Mean Age: 33.255319148936174\n"
          ]
        }
      ],
      "source": [
        "# analysing cluster 3\n",
        "cluster_books_des(cl3_books.drop('cluster'))\n",
        "cluster_user_des(cl3_users)"
      ]
    },
    {
      "cell_type": "code",
      "execution_count": null,
      "id": "fd7d4ed1",
      "metadata": {
        "id": "fd7d4ed1"
      },
      "outputs": [],
      "source": [
        ""
      ]
    }
  ],
  "metadata": {
    "kernelspec": {
      "display_name": "Python 3 (ipykernel)",
      "language": "python",
      "name": "python3"
    },
    "language_info": {
      "codemirror_mode": {
        "name": "ipython",
        "version": 3
      },
      "file_extension": ".py",
      "mimetype": "text/x-python",
      "name": "python",
      "nbconvert_exporter": "python",
      "pygments_lexer": "ipython3",
      "version": "3.9.2"
    },
    "colab": {
      "name": "Book Recommendation.ipynb",
      "provenance": []
    }
  },
  "nbformat": 4,
  "nbformat_minor": 5
}